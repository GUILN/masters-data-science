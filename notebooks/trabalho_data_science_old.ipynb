{
 "cells": [
  {
   "attachments": {},
   "cell_type": "markdown",
   "metadata": {
    "id": "iv1qDxu9v2Fj"
   },
   "source": [
    "# Police Dataset 🚨👮🏻‍♀️🚔🚨\n",
    "\n",
    "### What do we want to extract from this data?\n",
    "\n",
    "Questions to Answer:\n",
    "\n",
    "1. Does the outcomes of the police stop reflects appropriate penalties for the given violation?\n",
    "2. Does the police have any bias towards any group?"
   ]
  },
  {
   "cell_type": "markdown",
   "metadata": {},
   "source": [
    "## Extração de Dados - Parte 1"
   ]
  },
  {
   "cell_type": "code",
   "execution_count": 1,
   "metadata": {
    "id": "VQtI39qTurvm"
   },
   "outputs": [],
   "source": [
    "import pandas as pd\n",
    "import numpy as np\n",
    "\n",
    "pd.plotting.register_matplotlib_converters()\n",
    "import matplotlib.pyplot as plt\n",
    "\n",
    "%matplotlib inline\n",
    "import seaborn as sns"
   ]
  },
  {
   "cell_type": "code",
   "execution_count": 2,
   "metadata": {
    "colab": {
     "base_uri": "https://localhost:8080/",
     "height": 270
    },
    "id": "jO4-H9bryrWR",
    "outputId": "b33d7eeb-04e8-475d-a3c1-942e8fb0167b"
   },
   "outputs": [
    {
     "data": {
      "text/html": [
       "<div>\n",
       "<style scoped>\n",
       "    .dataframe tbody tr th:only-of-type {\n",
       "        vertical-align: middle;\n",
       "    }\n",
       "\n",
       "    .dataframe tbody tr th {\n",
       "        vertical-align: top;\n",
       "    }\n",
       "\n",
       "    .dataframe thead th {\n",
       "        text-align: right;\n",
       "    }\n",
       "</style>\n",
       "<table border=\"1\" class=\"dataframe\">\n",
       "  <thead>\n",
       "    <tr style=\"text-align: right;\">\n",
       "      <th></th>\n",
       "      <th>stop_date</th>\n",
       "      <th>stop_time</th>\n",
       "      <th>county_name</th>\n",
       "      <th>driver_gender</th>\n",
       "      <th>driver_age_raw</th>\n",
       "      <th>driver_age</th>\n",
       "      <th>driver_race</th>\n",
       "      <th>violation_raw</th>\n",
       "      <th>violation</th>\n",
       "      <th>search_conducted</th>\n",
       "      <th>search_type</th>\n",
       "      <th>stop_outcome</th>\n",
       "      <th>is_arrested</th>\n",
       "      <th>stop_duration</th>\n",
       "      <th>drugs_related_stop</th>\n",
       "    </tr>\n",
       "  </thead>\n",
       "  <tbody>\n",
       "    <tr>\n",
       "      <th>0</th>\n",
       "      <td>2005-01-02</td>\n",
       "      <td>01:55</td>\n",
       "      <td>NaN</td>\n",
       "      <td>M</td>\n",
       "      <td>1985.0</td>\n",
       "      <td>20.0</td>\n",
       "      <td>White</td>\n",
       "      <td>Speeding</td>\n",
       "      <td>Speeding</td>\n",
       "      <td>False</td>\n",
       "      <td>NaN</td>\n",
       "      <td>Citation</td>\n",
       "      <td>False</td>\n",
       "      <td>0-15 Min</td>\n",
       "      <td>False</td>\n",
       "    </tr>\n",
       "    <tr>\n",
       "      <th>1</th>\n",
       "      <td>2005-01-18</td>\n",
       "      <td>08:15</td>\n",
       "      <td>NaN</td>\n",
       "      <td>M</td>\n",
       "      <td>1965.0</td>\n",
       "      <td>40.0</td>\n",
       "      <td>White</td>\n",
       "      <td>Speeding</td>\n",
       "      <td>Speeding</td>\n",
       "      <td>False</td>\n",
       "      <td>NaN</td>\n",
       "      <td>Citation</td>\n",
       "      <td>False</td>\n",
       "      <td>0-15 Min</td>\n",
       "      <td>False</td>\n",
       "    </tr>\n",
       "    <tr>\n",
       "      <th>2</th>\n",
       "      <td>2005-01-23</td>\n",
       "      <td>23:15</td>\n",
       "      <td>NaN</td>\n",
       "      <td>M</td>\n",
       "      <td>1972.0</td>\n",
       "      <td>33.0</td>\n",
       "      <td>White</td>\n",
       "      <td>Speeding</td>\n",
       "      <td>Speeding</td>\n",
       "      <td>False</td>\n",
       "      <td>NaN</td>\n",
       "      <td>Citation</td>\n",
       "      <td>False</td>\n",
       "      <td>0-15 Min</td>\n",
       "      <td>False</td>\n",
       "    </tr>\n",
       "    <tr>\n",
       "      <th>3</th>\n",
       "      <td>2005-02-20</td>\n",
       "      <td>17:15</td>\n",
       "      <td>NaN</td>\n",
       "      <td>M</td>\n",
       "      <td>1986.0</td>\n",
       "      <td>19.0</td>\n",
       "      <td>White</td>\n",
       "      <td>Call for Service</td>\n",
       "      <td>Other</td>\n",
       "      <td>False</td>\n",
       "      <td>NaN</td>\n",
       "      <td>Arrest Driver</td>\n",
       "      <td>True</td>\n",
       "      <td>16-30 Min</td>\n",
       "      <td>False</td>\n",
       "    </tr>\n",
       "    <tr>\n",
       "      <th>4</th>\n",
       "      <td>2005-03-14</td>\n",
       "      <td>10:00</td>\n",
       "      <td>NaN</td>\n",
       "      <td>F</td>\n",
       "      <td>1984.0</td>\n",
       "      <td>21.0</td>\n",
       "      <td>White</td>\n",
       "      <td>Speeding</td>\n",
       "      <td>Speeding</td>\n",
       "      <td>False</td>\n",
       "      <td>NaN</td>\n",
       "      <td>Citation</td>\n",
       "      <td>False</td>\n",
       "      <td>0-15 Min</td>\n",
       "      <td>False</td>\n",
       "    </tr>\n",
       "  </tbody>\n",
       "</table>\n",
       "</div>"
      ],
      "text/plain": [
       "    stop_date stop_time  county_name driver_gender  driver_age_raw  \\\n",
       "0  2005-01-02     01:55          NaN             M          1985.0   \n",
       "1  2005-01-18     08:15          NaN             M          1965.0   \n",
       "2  2005-01-23     23:15          NaN             M          1972.0   \n",
       "3  2005-02-20     17:15          NaN             M          1986.0   \n",
       "4  2005-03-14     10:00          NaN             F          1984.0   \n",
       "\n",
       "   driver_age driver_race     violation_raw violation  search_conducted  \\\n",
       "0        20.0       White          Speeding  Speeding             False   \n",
       "1        40.0       White          Speeding  Speeding             False   \n",
       "2        33.0       White          Speeding  Speeding             False   \n",
       "3        19.0       White  Call for Service     Other             False   \n",
       "4        21.0       White          Speeding  Speeding             False   \n",
       "\n",
       "  search_type   stop_outcome is_arrested stop_duration  drugs_related_stop  \n",
       "0         NaN       Citation       False      0-15 Min               False  \n",
       "1         NaN       Citation       False      0-15 Min               False  \n",
       "2         NaN       Citation       False      0-15 Min               False  \n",
       "3         NaN  Arrest Driver        True     16-30 Min               False  \n",
       "4         NaN       Citation       False      0-15 Min               False  "
      ]
     },
     "execution_count": 2,
     "metadata": {},
     "output_type": "execute_result"
    }
   ],
   "source": [
    "csv_path = \"../data/police.csv\"\n",
    "df = pd.read_csv(csv_path)\n",
    "df.fillna(\"NA\")\n",
    "df.head()"
   ]
  },
  {
   "cell_type": "code",
   "execution_count": 3,
   "metadata": {
    "colab": {
     "base_uri": "https://localhost:8080/"
    },
    "id": "ta6_hUn1zz5_",
    "outputId": "02f23442-3591-4f68-df82-8bbbe05eb20a"
   },
   "outputs": [
    {
     "data": {
      "text/plain": [
       "array(['none', 'Incident to Arrest,Protective Frisk', 'Probable Cause',\n",
       "       'Incident to Arrest', 'Probable Cause,Reasonable Suspicion',\n",
       "       'Incident to Arrest,Inventory,Probable Cause',\n",
       "       'Incident to Arrest,Inventory',\n",
       "       'Incident to Arrest,Probable Cause', 'Protective Frisk',\n",
       "       'Reasonable Suspicion', 'Inventory', 'Inventory,Protective Frisk',\n",
       "       'Incident to Arrest,Reasonable Suspicion',\n",
       "       'Incident to Arrest,Probable Cause,Protective Frisk',\n",
       "       'Probable Cause,Protective Frisk',\n",
       "       'Incident to Arrest,Inventory,Protective Frisk',\n",
       "       'Protective Frisk,Reasonable Suspicion',\n",
       "       'Incident to Arrest,Inventory,Reasonable Suspicion',\n",
       "       'Inventory,Probable Cause',\n",
       "       'Incident to Arrest,Protective Frisk,Reasonable Suspicion',\n",
       "       'Inventory,Probable Cause,Protective Frisk',\n",
       "       'Inventory,Reasonable Suspicion',\n",
       "       'Incident to Arrest,Probable Cause,Reasonable Suspicion',\n",
       "       'Inventory,Probable Cause,Reasonable Suspicion',\n",
       "       'Probable Cause,Protective Frisk,Reasonable Suspicion'],\n",
       "      dtype=object)"
      ]
     },
     "execution_count": 3,
     "metadata": {},
     "output_type": "execute_result"
    }
   ],
   "source": [
    "df.search_type = df.search_type.fillna(\"none\")\n",
    "df.search_type.unique()"
   ]
  },
  {
   "cell_type": "code",
   "execution_count": 4,
   "metadata": {
    "colab": {
     "base_uri": "https://localhost:8080/",
     "height": 458
    },
    "id": "ZJlBT779z2pp",
    "outputId": "cdc0d303-3f85-4d72-8b2b-1aafdfb4ad22"
   },
   "outputs": [
    {
     "data": {
      "text/html": [
       "<div>\n",
       "<style scoped>\n",
       "    .dataframe tbody tr th:only-of-type {\n",
       "        vertical-align: middle;\n",
       "    }\n",
       "\n",
       "    .dataframe tbody tr th {\n",
       "        vertical-align: top;\n",
       "    }\n",
       "\n",
       "    .dataframe thead th {\n",
       "        text-align: right;\n",
       "    }\n",
       "</style>\n",
       "<table border=\"1\" class=\"dataframe\">\n",
       "  <thead>\n",
       "    <tr style=\"text-align: right;\">\n",
       "      <th></th>\n",
       "      <th>county_name</th>\n",
       "      <th>driver_age_raw</th>\n",
       "      <th>driver_age</th>\n",
       "    </tr>\n",
       "  </thead>\n",
       "  <tbody>\n",
       "    <tr>\n",
       "      <th>count</th>\n",
       "      <td>0.0</td>\n",
       "      <td>86414.000000</td>\n",
       "      <td>86120.000000</td>\n",
       "    </tr>\n",
       "    <tr>\n",
       "      <th>mean</th>\n",
       "      <td>NaN</td>\n",
       "      <td>1970.491228</td>\n",
       "      <td>34.011333</td>\n",
       "    </tr>\n",
       "    <tr>\n",
       "      <th>std</th>\n",
       "      <td>NaN</td>\n",
       "      <td>110.914909</td>\n",
       "      <td>12.738564</td>\n",
       "    </tr>\n",
       "    <tr>\n",
       "      <th>min</th>\n",
       "      <td>NaN</td>\n",
       "      <td>0.000000</td>\n",
       "      <td>15.000000</td>\n",
       "    </tr>\n",
       "    <tr>\n",
       "      <th>25%</th>\n",
       "      <td>NaN</td>\n",
       "      <td>1967.000000</td>\n",
       "      <td>23.000000</td>\n",
       "    </tr>\n",
       "    <tr>\n",
       "      <th>50%</th>\n",
       "      <td>NaN</td>\n",
       "      <td>1980.000000</td>\n",
       "      <td>31.000000</td>\n",
       "    </tr>\n",
       "    <tr>\n",
       "      <th>75%</th>\n",
       "      <td>NaN</td>\n",
       "      <td>1987.000000</td>\n",
       "      <td>43.000000</td>\n",
       "    </tr>\n",
       "    <tr>\n",
       "      <th>max</th>\n",
       "      <td>NaN</td>\n",
       "      <td>8801.000000</td>\n",
       "      <td>99.000000</td>\n",
       "    </tr>\n",
       "  </tbody>\n",
       "</table>\n",
       "</div>"
      ],
      "text/plain": [
       "       county_name  driver_age_raw    driver_age\n",
       "count          0.0    86414.000000  86120.000000\n",
       "mean           NaN     1970.491228     34.011333\n",
       "std            NaN      110.914909     12.738564\n",
       "min            NaN        0.000000     15.000000\n",
       "25%            NaN     1967.000000     23.000000\n",
       "50%            NaN     1980.000000     31.000000\n",
       "75%            NaN     1987.000000     43.000000\n",
       "max            NaN     8801.000000     99.000000"
      ]
     },
     "metadata": {},
     "output_type": "display_data"
    },
    {
     "data": {
      "text/html": [
       "<div>\n",
       "<style scoped>\n",
       "    .dataframe tbody tr th:only-of-type {\n",
       "        vertical-align: middle;\n",
       "    }\n",
       "\n",
       "    .dataframe tbody tr th {\n",
       "        vertical-align: top;\n",
       "    }\n",
       "\n",
       "    .dataframe thead th {\n",
       "        text-align: right;\n",
       "    }\n",
       "</style>\n",
       "<table border=\"1\" class=\"dataframe\">\n",
       "  <thead>\n",
       "    <tr style=\"text-align: right;\">\n",
       "      <th></th>\n",
       "      <th>stop_date</th>\n",
       "      <th>stop_time</th>\n",
       "      <th>driver_gender</th>\n",
       "      <th>driver_race</th>\n",
       "      <th>violation_raw</th>\n",
       "      <th>violation</th>\n",
       "      <th>search_type</th>\n",
       "      <th>stop_outcome</th>\n",
       "      <th>is_arrested</th>\n",
       "      <th>stop_duration</th>\n",
       "    </tr>\n",
       "  </thead>\n",
       "  <tbody>\n",
       "    <tr>\n",
       "      <th>count</th>\n",
       "      <td>91741</td>\n",
       "      <td>91741</td>\n",
       "      <td>86406</td>\n",
       "      <td>86408</td>\n",
       "      <td>86408</td>\n",
       "      <td>86408</td>\n",
       "      <td>91741</td>\n",
       "      <td>86408</td>\n",
       "      <td>86408</td>\n",
       "      <td>86408</td>\n",
       "    </tr>\n",
       "    <tr>\n",
       "      <th>unique</th>\n",
       "      <td>3768</td>\n",
       "      <td>1436</td>\n",
       "      <td>2</td>\n",
       "      <td>5</td>\n",
       "      <td>12</td>\n",
       "      <td>6</td>\n",
       "      <td>25</td>\n",
       "      <td>6</td>\n",
       "      <td>2</td>\n",
       "      <td>5</td>\n",
       "    </tr>\n",
       "    <tr>\n",
       "      <th>top</th>\n",
       "      <td>2012-01-11</td>\n",
       "      <td>11:00</td>\n",
       "      <td>M</td>\n",
       "      <td>White</td>\n",
       "      <td>Speeding</td>\n",
       "      <td>Speeding</td>\n",
       "      <td>none</td>\n",
       "      <td>Citation</td>\n",
       "      <td>False</td>\n",
       "      <td>0-15 Min</td>\n",
       "    </tr>\n",
       "    <tr>\n",
       "      <th>freq</th>\n",
       "      <td>69</td>\n",
       "      <td>323</td>\n",
       "      <td>62895</td>\n",
       "      <td>62158</td>\n",
       "      <td>48463</td>\n",
       "      <td>48463</td>\n",
       "      <td>88545</td>\n",
       "      <td>77006</td>\n",
       "      <td>83479</td>\n",
       "      <td>69543</td>\n",
       "    </tr>\n",
       "  </tbody>\n",
       "</table>\n",
       "</div>"
      ],
      "text/plain": [
       "         stop_date stop_time driver_gender driver_race violation_raw  \\\n",
       "count        91741     91741         86406       86408         86408   \n",
       "unique        3768      1436             2           5            12   \n",
       "top     2012-01-11     11:00             M       White      Speeding   \n",
       "freq            69       323         62895       62158         48463   \n",
       "\n",
       "       violation search_type stop_outcome is_arrested stop_duration  \n",
       "count      86408       91741        86408       86408         86408  \n",
       "unique         6          25            6           2             5  \n",
       "top     Speeding        none     Citation       False      0-15 Min  \n",
       "freq       48463       88545        77006       83479         69543  "
      ]
     },
     "metadata": {},
     "output_type": "display_data"
    }
   ],
   "source": [
    "display(df.describe())\n",
    "display(df.describe(include=\"O\"))"
   ]
  },
  {
   "cell_type": "code",
   "execution_count": 5,
   "metadata": {
    "colab": {
     "base_uri": "https://localhost:8080/"
    },
    "id": "dvLPzVSXDlAz",
    "outputId": "6c495bbf-5e08-46fa-816b-42619f913603"
   },
   "outputs": [
    {
     "data": {
      "text/plain": [
       "search_type\n",
       "none                                                        88545\n",
       "Incident to Arrest                                           1219\n",
       "Probable Cause                                                891\n",
       "Inventory                                                     220\n",
       "Reasonable Suspicion                                          197\n",
       "Protective Frisk                                              161\n",
       "Incident to Arrest,Inventory                                  129\n",
       "Incident to Arrest,Probable Cause                             106\n",
       "Probable Cause,Reasonable Suspicion                            75\n",
       "Incident to Arrest,Inventory,Probable Cause                    34\n",
       "Probable Cause,Protective Frisk                                33\n",
       "Incident to Arrest,Protective Frisk                            33\n",
       "Inventory,Probable Cause                                       22\n",
       "Incident to Arrest,Reasonable Suspicion                        13\n",
       "Incident to Arrest,Inventory,Protective Frisk                  11\n",
       "Protective Frisk,Reasonable Suspicion                          11\n",
       "Inventory,Protective Frisk                                     11\n",
       "Incident to Arrest,Probable Cause,Protective Frisk             10\n",
       "Incident to Arrest,Probable Cause,Reasonable Suspicion          6\n",
       "Incident to Arrest,Inventory,Reasonable Suspicion               4\n",
       "Inventory,Reasonable Suspicion                                  4\n",
       "Inventory,Probable Cause,Protective Frisk                       2\n",
       "Inventory,Probable Cause,Reasonable Suspicion                   2\n",
       "Incident to Arrest,Protective Frisk,Reasonable Suspicion        1\n",
       "Probable Cause,Protective Frisk,Reasonable Suspicion            1\n",
       "Name: count, dtype: int64"
      ]
     },
     "execution_count": 5,
     "metadata": {},
     "output_type": "execute_result"
    }
   ],
   "source": [
    "df.search_type.value_counts(dropna=False)"
   ]
  },
  {
   "cell_type": "code",
   "execution_count": 6,
   "metadata": {
    "colab": {
     "base_uri": "https://localhost:8080/"
    },
    "id": "D4o6OHQxEGXa",
    "outputId": "26bb6e9b-7895-4d90-ada1-8830c9fe6542"
   },
   "outputs": [
    {
     "data": {
      "text/plain": [
       "search_type\n",
       "none                    88545\n",
       "Incident to Arrest       1566\n",
       "Probable Cause           1182\n",
       "Inventory                 439\n",
       "Reasonable Suspicion      314\n",
       "Protective Frisk          274\n",
       "Name: count, dtype: int64"
      ]
     },
     "metadata": {},
     "output_type": "display_data"
    }
   ],
   "source": [
    "display(df.search_type.dropna().apply(lambda x: x.split(\",\")).explode().value_counts())\n",
    "\n",
    "all_search_types = df.search_type.dropna().apply(lambda x: x.split(\",\")).explode().unique().tolist()\n",
    "all_search_types.remove(\"none\")"
   ]
  },
  {
   "cell_type": "code",
   "execution_count": 7,
   "metadata": {
    "colab": {
     "base_uri": "https://localhost:8080/"
    },
    "id": "A5wJbQfNTvjw",
    "outputId": "cff3a591-338f-4e64-be72-a21d45cb991f"
   },
   "outputs": [
    {
     "name": "stdout",
     "output_type": "stream",
     "text": [
      "Violations:\n",
      "['Speeding' 'Other' 'Equipment' 'Moving violation' nan\n",
      " 'Registration/plates' 'Seat belt']\n",
      "Stop Outcomes:\n",
      "['Citation' 'Arrest Driver' nan 'N/D' 'Warning' 'Arrest Passenger'\n",
      " 'No Action']\n",
      "Stop Durations:\n",
      "['0-15 Min' '16-30 Min' '30+ Min' nan '2' '1']\n",
      "Search Conducted:\n",
      "[False  True]\n"
     ]
    }
   ],
   "source": [
    "print(\"Violations:\")\n",
    "print(df.violation.unique())\n",
    "print(\"Stop Outcomes:\")\n",
    "print(df.stop_outcome.unique())\n",
    "print(\"Stop Durations:\")\n",
    "print(df.stop_duration.unique())\n",
    "print(\"Search Conducted:\")\n",
    "print(df.search_conducted.unique())"
   ]
  },
  {
   "cell_type": "code",
   "execution_count": 8,
   "metadata": {
    "id": "zloJz_35UEzN"
   },
   "outputs": [],
   "source": [
    "# Treating Nulls\n",
    "\n",
    "cleaned_df = df.copy()\n",
    "\n",
    "# TODO: Apply PMM\n",
    "cleaned_df[\"driver_age\"] = cleaned_df.driver_age.fillna(0.0)\n",
    "cleaned_df[\"is_arrested\"] = cleaned_df.is_arrested.fillna(False)"
   ]
  },
  {
   "cell_type": "markdown",
   "metadata": {},
   "source": [
    "## Limpeza | Transformação | Análise Exploratória - Parte 2 ⚙️ "
   ]
  },
  {
   "cell_type": "code",
   "execution_count": 9,
   "metadata": {
    "id": "vGkk5z_e8_9_"
   },
   "outputs": [],
   "source": [
    "\"\"\"\n",
    "Essa parte do código trata a discretização das features `stop_outcome`, `violation` e `stop_time`.\n",
    "\"\"\"\n",
    "\n",
    "def stop_outcome_level(row):\n",
    "    \"\"\"\n",
    "    stop_outcome_level - creates a feature that qantifies the gravity level of the\n",
    "    stop outcome. The higher the level means worse outcome.\n",
    "    Will follow the rule:\n",
    "    5. Arrest Driver\n",
    "    4. Arrest Passenger\n",
    "    3. Citation\n",
    "    2. Warning\n",
    "    1. N/D | No Action | any other\n",
    "    \"\"\"\n",
    "    stop_outcome_level = 1\n",
    "    if row.stop_outcome == \"Arrest Driver\":\n",
    "        stop_outcome_level = 5\n",
    "    elif row.stop_outcome == \"Arrest Passenger\":\n",
    "        stop_outcome_level = 4\n",
    "    elif row.stop_outcome == \"Citation\":\n",
    "        stop_outcome_level = 3\n",
    "    elif row.stop_outcome == \"Warning\":\n",
    "        stop_outcome_level = 2\n",
    "\n",
    "    return stop_outcome_level\n",
    "\n",
    "\n",
    "def violation_level(row):\n",
    "    \"\"\"\n",
    "    violation_level - creates a feature that quantifies the gravity level of the\n",
    "    violation commited. The higher the level means worse violation.\n",
    "    Will follow the rule:\n",
    "    5. Speeding\n",
    "    4. Moving Violation\n",
    "    3. Seat Belt\n",
    "    2. Registration/plates\n",
    "    1. any other\n",
    "    \"\"\"\n",
    "    violation_level = 1\n",
    "    if row.violation == \"Speeding\":\n",
    "        violation_level = 5\n",
    "    elif row.violation == \"Moving Violation\":\n",
    "        violation_level = 4\n",
    "    elif row.violation == \"Seat Belt\":\n",
    "        violation_level = 3\n",
    "    elif row.violation == \"Registration/plates\":\n",
    "        violation_level = 2\n",
    "\n",
    "    return violation_level\n",
    "\n",
    "\n",
    "def stop_time_discretization(row):\n",
    "    \"\"\"\n",
    "    stop_time_discretization - quantifies hour\n",
    "    \"\"\"\n",
    "    hour_min = row.stop_time.split(\":\")\n",
    "    stop_time_discrete = int(hour_min[0] + hour_min[1])\n",
    "    return stop_time_discrete"
   ]
  },
  {
   "cell_type": "code",
   "execution_count": 10,
   "metadata": {
    "colab": {
     "base_uri": "https://localhost:8080/",
     "height": 300
    },
    "id": "e6p8ZhW5YJuG",
    "outputId": "1c944fa7-0309-47f8-d72e-a1a7a1f22975"
   },
   "outputs": [
    {
     "data": {
      "text/html": [
       "<div>\n",
       "<style scoped>\n",
       "    .dataframe tbody tr th:only-of-type {\n",
       "        vertical-align: middle;\n",
       "    }\n",
       "\n",
       "    .dataframe tbody tr th {\n",
       "        vertical-align: top;\n",
       "    }\n",
       "\n",
       "    .dataframe thead th {\n",
       "        text-align: right;\n",
       "    }\n",
       "</style>\n",
       "<table border=\"1\" class=\"dataframe\">\n",
       "  <thead>\n",
       "    <tr style=\"text-align: right;\">\n",
       "      <th></th>\n",
       "      <th>stop_date</th>\n",
       "      <th>stop_time</th>\n",
       "      <th>county_name</th>\n",
       "      <th>driver_gender</th>\n",
       "      <th>driver_age_raw</th>\n",
       "      <th>driver_age</th>\n",
       "      <th>driver_race</th>\n",
       "      <th>violation_raw</th>\n",
       "      <th>violation</th>\n",
       "      <th>search_conducted</th>\n",
       "      <th>...</th>\n",
       "      <th>stop_duration</th>\n",
       "      <th>drugs_related_stop</th>\n",
       "      <th>stop_outcome_level</th>\n",
       "      <th>violation_level</th>\n",
       "      <th>proportional_stop_outcome</th>\n",
       "      <th>stop_time_discrete</th>\n",
       "      <th>is_black_or_hispanic</th>\n",
       "      <th>stop_time_discrete_bins</th>\n",
       "      <th>driver_age_bins</th>\n",
       "      <th>counter</th>\n",
       "    </tr>\n",
       "  </thead>\n",
       "  <tbody>\n",
       "    <tr>\n",
       "      <th>0</th>\n",
       "      <td>2005-01-02</td>\n",
       "      <td>01:55</td>\n",
       "      <td>NaN</td>\n",
       "      <td>M</td>\n",
       "      <td>1985.0</td>\n",
       "      <td>20.0</td>\n",
       "      <td>White</td>\n",
       "      <td>Speeding</td>\n",
       "      <td>Speeding</td>\n",
       "      <td>False</td>\n",
       "      <td>...</td>\n",
       "      <td>0-15 Min</td>\n",
       "      <td>False</td>\n",
       "      <td>3</td>\n",
       "      <td>5</td>\n",
       "      <td>0.6</td>\n",
       "      <td>155</td>\n",
       "      <td>False</td>\n",
       "      <td>dawn</td>\n",
       "      <td>jovem</td>\n",
       "      <td>1</td>\n",
       "    </tr>\n",
       "    <tr>\n",
       "      <th>1</th>\n",
       "      <td>2005-01-18</td>\n",
       "      <td>08:15</td>\n",
       "      <td>NaN</td>\n",
       "      <td>M</td>\n",
       "      <td>1965.0</td>\n",
       "      <td>40.0</td>\n",
       "      <td>White</td>\n",
       "      <td>Speeding</td>\n",
       "      <td>Speeding</td>\n",
       "      <td>False</td>\n",
       "      <td>...</td>\n",
       "      <td>0-15 Min</td>\n",
       "      <td>False</td>\n",
       "      <td>3</td>\n",
       "      <td>5</td>\n",
       "      <td>0.6</td>\n",
       "      <td>815</td>\n",
       "      <td>False</td>\n",
       "      <td>morning</td>\n",
       "      <td>adulto</td>\n",
       "      <td>1</td>\n",
       "    </tr>\n",
       "    <tr>\n",
       "      <th>2</th>\n",
       "      <td>2005-01-23</td>\n",
       "      <td>23:15</td>\n",
       "      <td>NaN</td>\n",
       "      <td>M</td>\n",
       "      <td>1972.0</td>\n",
       "      <td>33.0</td>\n",
       "      <td>White</td>\n",
       "      <td>Speeding</td>\n",
       "      <td>Speeding</td>\n",
       "      <td>False</td>\n",
       "      <td>...</td>\n",
       "      <td>0-15 Min</td>\n",
       "      <td>False</td>\n",
       "      <td>3</td>\n",
       "      <td>5</td>\n",
       "      <td>0.6</td>\n",
       "      <td>2315</td>\n",
       "      <td>False</td>\n",
       "      <td>night</td>\n",
       "      <td>adulto</td>\n",
       "      <td>1</td>\n",
       "    </tr>\n",
       "    <tr>\n",
       "      <th>3</th>\n",
       "      <td>2005-02-20</td>\n",
       "      <td>17:15</td>\n",
       "      <td>NaN</td>\n",
       "      <td>M</td>\n",
       "      <td>1986.0</td>\n",
       "      <td>19.0</td>\n",
       "      <td>White</td>\n",
       "      <td>Call for Service</td>\n",
       "      <td>Other</td>\n",
       "      <td>False</td>\n",
       "      <td>...</td>\n",
       "      <td>16-30 Min</td>\n",
       "      <td>False</td>\n",
       "      <td>5</td>\n",
       "      <td>1</td>\n",
       "      <td>5.0</td>\n",
       "      <td>1715</td>\n",
       "      <td>False</td>\n",
       "      <td>evening</td>\n",
       "      <td>jovem</td>\n",
       "      <td>1</td>\n",
       "    </tr>\n",
       "    <tr>\n",
       "      <th>4</th>\n",
       "      <td>2005-03-14</td>\n",
       "      <td>10:00</td>\n",
       "      <td>NaN</td>\n",
       "      <td>F</td>\n",
       "      <td>1984.0</td>\n",
       "      <td>21.0</td>\n",
       "      <td>White</td>\n",
       "      <td>Speeding</td>\n",
       "      <td>Speeding</td>\n",
       "      <td>False</td>\n",
       "      <td>...</td>\n",
       "      <td>0-15 Min</td>\n",
       "      <td>False</td>\n",
       "      <td>3</td>\n",
       "      <td>5</td>\n",
       "      <td>0.6</td>\n",
       "      <td>1000</td>\n",
       "      <td>False</td>\n",
       "      <td>morning</td>\n",
       "      <td>jovem</td>\n",
       "      <td>1</td>\n",
       "    </tr>\n",
       "  </tbody>\n",
       "</table>\n",
       "<p>5 rows × 23 columns</p>\n",
       "</div>"
      ],
      "text/plain": [
       "    stop_date stop_time  county_name driver_gender  driver_age_raw  \\\n",
       "0  2005-01-02     01:55          NaN             M          1985.0   \n",
       "1  2005-01-18     08:15          NaN             M          1965.0   \n",
       "2  2005-01-23     23:15          NaN             M          1972.0   \n",
       "3  2005-02-20     17:15          NaN             M          1986.0   \n",
       "4  2005-03-14     10:00          NaN             F          1984.0   \n",
       "\n",
       "   driver_age driver_race     violation_raw violation  search_conducted  ...  \\\n",
       "0        20.0       White          Speeding  Speeding             False  ...   \n",
       "1        40.0       White          Speeding  Speeding             False  ...   \n",
       "2        33.0       White          Speeding  Speeding             False  ...   \n",
       "3        19.0       White  Call for Service     Other             False  ...   \n",
       "4        21.0       White          Speeding  Speeding             False  ...   \n",
       "\n",
       "  stop_duration drugs_related_stop  stop_outcome_level violation_level  \\\n",
       "0      0-15 Min              False                   3               5   \n",
       "1      0-15 Min              False                   3               5   \n",
       "2      0-15 Min              False                   3               5   \n",
       "3     16-30 Min              False                   5               1   \n",
       "4      0-15 Min              False                   3               5   \n",
       "\n",
       "   proportional_stop_outcome  stop_time_discrete  is_black_or_hispanic  \\\n",
       "0                        0.6                 155                 False   \n",
       "1                        0.6                 815                 False   \n",
       "2                        0.6                2315                 False   \n",
       "3                        5.0                1715                 False   \n",
       "4                        0.6                1000                 False   \n",
       "\n",
       "   stop_time_discrete_bins  driver_age_bins  counter  \n",
       "0                     dawn            jovem        1  \n",
       "1                  morning           adulto        1  \n",
       "2                    night           adulto        1  \n",
       "3                  evening            jovem        1  \n",
       "4                  morning            jovem        1  \n",
       "\n",
       "[5 rows x 23 columns]"
      ]
     },
     "execution_count": 10,
     "metadata": {},
     "output_type": "execute_result"
    }
   ],
   "source": [
    "featured_df = cleaned_df.copy()\n",
    "featured_df[\"stop_outcome_level\"] = featured_df.apply(\n",
    "    stop_outcome_level, axis=\"columns\"\n",
    ")\n",
    "featured_df[\"violation_level\"] = featured_df.apply(violation_level, axis=\"columns\")\n",
    "\"\"\"\n",
    "proportinal_stop_outcome: measures the proportion of the outcome level with the violation level\n",
    "pso = 1: equaly proportional\n",
    "pso > 1: disproportionally greater\n",
    "pso < 1: disproportionally lower\n",
    "\"\"\"\n",
    "featured_df[\"proportional_stop_outcome\"] = (\n",
    "    featured_df[\"stop_outcome_level\"] / featured_df[\"violation_level\"]\n",
    ")\n",
    "featured_df[\"stop_time_discrete\"] = featured_df.apply(\n",
    "    stop_time_discretization, axis=\"columns\"\n",
    ")\n",
    "\"\"\"\n",
    "is_black_or_hispanic - agrupamento de grupos que históricamente sofrem mais com abordagens policiais\n",
    "\"\"\"\n",
    "featured_df[\"is_black_or_hispanic\"] = featured_df.apply(\n",
    "    lambda row: row.driver_race == \"Black\" or row.driver_race == \"Hispanic\",\n",
    "    axis=\"columns\",\n",
    ")\n",
    "\n",
    "featured_df[\"stop_time_discrete_bins\"] = pd.cut(\n",
    "    featured_df[\"stop_time_discrete\"], 4, labels=[\"dawn\", \"morning\", \"evening\", \"night\"]\n",
    ")\n",
    "\"\"\"\n",
    "driver_age_bins - discretiza o 'driver age' em 4 bins:\n",
    "\"\"\"\n",
    "featured_df[\"driver_age_bins\"] = pd.cut(\n",
    "    featured_df[\"driver_age\"], 4, labels=[\"jovem\", \"adulto\", \"meia_idade\", \"idoso\"]\n",
    ")\n",
    "\n",
    "\"\"\"\n",
    "counter - column to make counting operations easier\n",
    "\"\"\"\n",
    "featured_df[\"counter\"] = 1\n",
    "\n",
    "featured_df.head()"
   ]
  },
  {
   "cell_type": "code",
   "execution_count": 11,
   "metadata": {},
   "outputs": [
    {
     "data": {
      "text/html": [
       "<div>\n",
       "<style scoped>\n",
       "    .dataframe tbody tr th:only-of-type {\n",
       "        vertical-align: middle;\n",
       "    }\n",
       "\n",
       "    .dataframe tbody tr th {\n",
       "        vertical-align: top;\n",
       "    }\n",
       "\n",
       "    .dataframe thead th {\n",
       "        text-align: right;\n",
       "    }\n",
       "</style>\n",
       "<table border=\"1\" class=\"dataframe\">\n",
       "  <thead>\n",
       "    <tr style=\"text-align: right;\">\n",
       "      <th></th>\n",
       "      <th>is_arrested</th>\n",
       "      <th>driver_race</th>\n",
       "      <th>driver_gender</th>\n",
       "      <th>stop_outcome_level</th>\n",
       "      <th>violation_level</th>\n",
       "      <th>search_conducted</th>\n",
       "      <th>search_type</th>\n",
       "      <th>drugs_related_stop</th>\n",
       "      <th>driver_age_bins</th>\n",
       "      <th>is_black_or_hispanic</th>\n",
       "      <th>incident_to_arrest</th>\n",
       "      <th>protective_frisk</th>\n",
       "      <th>probable_cause</th>\n",
       "      <th>reasonable_suspicion</th>\n",
       "      <th>inventory</th>\n",
       "    </tr>\n",
       "  </thead>\n",
       "  <tbody>\n",
       "    <tr>\n",
       "      <th>0</th>\n",
       "      <td>False</td>\n",
       "      <td>White</td>\n",
       "      <td>M</td>\n",
       "      <td>3</td>\n",
       "      <td>5</td>\n",
       "      <td>False</td>\n",
       "      <td>none</td>\n",
       "      <td>False</td>\n",
       "      <td>jovem</td>\n",
       "      <td>False</td>\n",
       "      <td>0</td>\n",
       "      <td>0</td>\n",
       "      <td>0</td>\n",
       "      <td>0</td>\n",
       "      <td>0</td>\n",
       "    </tr>\n",
       "    <tr>\n",
       "      <th>1</th>\n",
       "      <td>False</td>\n",
       "      <td>White</td>\n",
       "      <td>M</td>\n",
       "      <td>3</td>\n",
       "      <td>5</td>\n",
       "      <td>False</td>\n",
       "      <td>none</td>\n",
       "      <td>False</td>\n",
       "      <td>adulto</td>\n",
       "      <td>False</td>\n",
       "      <td>0</td>\n",
       "      <td>0</td>\n",
       "      <td>0</td>\n",
       "      <td>0</td>\n",
       "      <td>0</td>\n",
       "    </tr>\n",
       "    <tr>\n",
       "      <th>2</th>\n",
       "      <td>False</td>\n",
       "      <td>White</td>\n",
       "      <td>M</td>\n",
       "      <td>3</td>\n",
       "      <td>5</td>\n",
       "      <td>False</td>\n",
       "      <td>none</td>\n",
       "      <td>False</td>\n",
       "      <td>adulto</td>\n",
       "      <td>False</td>\n",
       "      <td>0</td>\n",
       "      <td>0</td>\n",
       "      <td>0</td>\n",
       "      <td>0</td>\n",
       "      <td>0</td>\n",
       "    </tr>\n",
       "    <tr>\n",
       "      <th>3</th>\n",
       "      <td>True</td>\n",
       "      <td>White</td>\n",
       "      <td>M</td>\n",
       "      <td>5</td>\n",
       "      <td>1</td>\n",
       "      <td>False</td>\n",
       "      <td>none</td>\n",
       "      <td>False</td>\n",
       "      <td>jovem</td>\n",
       "      <td>False</td>\n",
       "      <td>0</td>\n",
       "      <td>0</td>\n",
       "      <td>0</td>\n",
       "      <td>0</td>\n",
       "      <td>0</td>\n",
       "    </tr>\n",
       "    <tr>\n",
       "      <th>4</th>\n",
       "      <td>False</td>\n",
       "      <td>White</td>\n",
       "      <td>F</td>\n",
       "      <td>3</td>\n",
       "      <td>5</td>\n",
       "      <td>False</td>\n",
       "      <td>none</td>\n",
       "      <td>False</td>\n",
       "      <td>jovem</td>\n",
       "      <td>False</td>\n",
       "      <td>0</td>\n",
       "      <td>0</td>\n",
       "      <td>0</td>\n",
       "      <td>0</td>\n",
       "      <td>0</td>\n",
       "    </tr>\n",
       "  </tbody>\n",
       "</table>\n",
       "</div>"
      ],
      "text/plain": [
       "   is_arrested driver_race driver_gender  stop_outcome_level  violation_level  \\\n",
       "0        False       White             M                   3                5   \n",
       "1        False       White             M                   3                5   \n",
       "2        False       White             M                   3                5   \n",
       "3         True       White             M                   5                1   \n",
       "4        False       White             F                   3                5   \n",
       "\n",
       "   search_conducted search_type  drugs_related_stop driver_age_bins  \\\n",
       "0             False        none               False           jovem   \n",
       "1             False        none               False          adulto   \n",
       "2             False        none               False          adulto   \n",
       "3             False        none               False           jovem   \n",
       "4             False        none               False           jovem   \n",
       "\n",
       "   is_black_or_hispanic  incident_to_arrest  protective_frisk  probable_cause  \\\n",
       "0                 False                   0                 0               0   \n",
       "1                 False                   0                 0               0   \n",
       "2                 False                   0                 0               0   \n",
       "3                 False                   0                 0               0   \n",
       "4                 False                   0                 0               0   \n",
       "\n",
       "   reasonable_suspicion  inventory  \n",
       "0                     0          0  \n",
       "1                     0          0  \n",
       "2                     0          0  \n",
       "3                     0          0  \n",
       "4                     0          0  "
      ]
     },
     "execution_count": 11,
     "metadata": {},
     "output_type": "execute_result"
    }
   ],
   "source": [
    "search_type_features = [\n",
    "    \"is_arrested\",\n",
    "    \"driver_race\",\n",
    "    \"driver_gender\",\n",
    "    \"stop_outcome_level\",\n",
    "    \"violation_level\",\n",
    "    \"search_conducted\",\n",
    "    \"search_type\",\n",
    "    \"drugs_related_stop\",\n",
    "    \"driver_age_bins\",\n",
    "    \"is_black_or_hispanic\",\n",
    "]\n",
    "search_type_df = featured_df.copy()\n",
    "search_type_df = search_type_df[search_type_features]\n",
    "\n",
    "encoded_search_type_features = []\n",
    "\"\"\"\n",
    "Criação de atributos no estilo 'one-hot encoder' para a feature `search_type`\n",
    "\"\"\"\n",
    "for s_type in all_search_types:\n",
    "    col_name = s_type.replace(\" \", \"_\").lower()\n",
    "    encoded_search_type_features.append(col_name)\n",
    "    search_type_df[col_name] = search_type_df.search_type.str.contains(s_type).astype(int)\n",
    "    \n",
    "search_type_df.head()"
   ]
  },
  {
   "attachments": {},
   "cell_type": "markdown",
   "metadata": {
    "id": "hbQzUBb4pmSb"
   },
   "source": [
    "## Simple Exploratory Analysis 🗺️"
   ]
  },
  {
   "attachments": {},
   "cell_type": "markdown",
   "metadata": {},
   "source": [
    "### Conclusions 📝\n",
    "\n",
    "* There is almost 3 times more men than women stopped by police. This might no be an inbalance, but rather an tendency.\n",
    "* The most recurrent age rance is from 33 to 40. This also might not be an inbalance, but rather an tendency as well. \n",
    "* The most stopped race is White."
   ]
  },
  {
   "cell_type": "code",
   "execution_count": 12,
   "metadata": {
    "colab": {
     "base_uri": "https://localhost:8080/",
     "height": 204
    },
    "id": "eT72YwY9QPZs",
    "outputId": "4a0722aa-17c4-4636-e49c-d88c9f8ecb03"
   },
   "outputs": [
    {
     "data": {
      "text/html": [
       "<div>\n",
       "<style scoped>\n",
       "    .dataframe tbody tr th:only-of-type {\n",
       "        vertical-align: middle;\n",
       "    }\n",
       "\n",
       "    .dataframe tbody tr th {\n",
       "        vertical-align: top;\n",
       "    }\n",
       "\n",
       "    .dataframe thead tr th {\n",
       "        text-align: left;\n",
       "    }\n",
       "\n",
       "    .dataframe thead tr:last-of-type th {\n",
       "        text-align: right;\n",
       "    }\n",
       "</style>\n",
       "<table border=\"1\" class=\"dataframe\">\n",
       "  <thead>\n",
       "    <tr>\n",
       "      <th></th>\n",
       "      <th colspan=\"8\" halign=\"left\">county_name</th>\n",
       "      <th colspan=\"2\" halign=\"left\">driver_age_raw</th>\n",
       "      <th>...</th>\n",
       "      <th colspan=\"2\" halign=\"left\">stop_time_discrete</th>\n",
       "      <th colspan=\"8\" halign=\"left\">counter</th>\n",
       "    </tr>\n",
       "    <tr>\n",
       "      <th></th>\n",
       "      <th>count</th>\n",
       "      <th>mean</th>\n",
       "      <th>std</th>\n",
       "      <th>min</th>\n",
       "      <th>25%</th>\n",
       "      <th>50%</th>\n",
       "      <th>75%</th>\n",
       "      <th>max</th>\n",
       "      <th>count</th>\n",
       "      <th>mean</th>\n",
       "      <th>...</th>\n",
       "      <th>75%</th>\n",
       "      <th>max</th>\n",
       "      <th>count</th>\n",
       "      <th>mean</th>\n",
       "      <th>std</th>\n",
       "      <th>min</th>\n",
       "      <th>25%</th>\n",
       "      <th>50%</th>\n",
       "      <th>75%</th>\n",
       "      <th>max</th>\n",
       "    </tr>\n",
       "    <tr>\n",
       "      <th>driver_gender</th>\n",
       "      <th></th>\n",
       "      <th></th>\n",
       "      <th></th>\n",
       "      <th></th>\n",
       "      <th></th>\n",
       "      <th></th>\n",
       "      <th></th>\n",
       "      <th></th>\n",
       "      <th></th>\n",
       "      <th></th>\n",
       "      <th></th>\n",
       "      <th></th>\n",
       "      <th></th>\n",
       "      <th></th>\n",
       "      <th></th>\n",
       "      <th></th>\n",
       "      <th></th>\n",
       "      <th></th>\n",
       "      <th></th>\n",
       "      <th></th>\n",
       "      <th></th>\n",
       "    </tr>\n",
       "  </thead>\n",
       "  <tbody>\n",
       "    <tr>\n",
       "      <th>F</th>\n",
       "      <td>0.0</td>\n",
       "      <td>NaN</td>\n",
       "      <td>NaN</td>\n",
       "      <td>NaN</td>\n",
       "      <td>NaN</td>\n",
       "      <td>NaN</td>\n",
       "      <td>NaN</td>\n",
       "      <td>NaN</td>\n",
       "      <td>23510.0</td>\n",
       "      <td>1974.766610</td>\n",
       "      <td>...</td>\n",
       "      <td>1620.0</td>\n",
       "      <td>2359.0</td>\n",
       "      <td>23511.0</td>\n",
       "      <td>1.0</td>\n",
       "      <td>0.0</td>\n",
       "      <td>1.0</td>\n",
       "      <td>1.0</td>\n",
       "      <td>1.0</td>\n",
       "      <td>1.0</td>\n",
       "      <td>1.0</td>\n",
       "    </tr>\n",
       "    <tr>\n",
       "      <th>M</th>\n",
       "      <td>0.0</td>\n",
       "      <td>NaN</td>\n",
       "      <td>NaN</td>\n",
       "      <td>NaN</td>\n",
       "      <td>NaN</td>\n",
       "      <td>NaN</td>\n",
       "      <td>NaN</td>\n",
       "      <td>NaN</td>\n",
       "      <td>62895.0</td>\n",
       "      <td>1968.954718</td>\n",
       "      <td>...</td>\n",
       "      <td>1639.0</td>\n",
       "      <td>2359.0</td>\n",
       "      <td>62895.0</td>\n",
       "      <td>1.0</td>\n",
       "      <td>0.0</td>\n",
       "      <td>1.0</td>\n",
       "      <td>1.0</td>\n",
       "      <td>1.0</td>\n",
       "      <td>1.0</td>\n",
       "      <td>1.0</td>\n",
       "    </tr>\n",
       "  </tbody>\n",
       "</table>\n",
       "<p>2 rows × 64 columns</p>\n",
       "</div>"
      ],
      "text/plain": [
       "              county_name                              driver_age_raw  \\\n",
       "                    count mean std min 25% 50% 75% max          count   \n",
       "driver_gender                                                           \n",
       "F                     0.0  NaN NaN NaN NaN NaN NaN NaN        23510.0   \n",
       "M                     0.0  NaN NaN NaN NaN NaN NaN NaN        62895.0   \n",
       "\n",
       "                            ... stop_time_discrete          counter            \\\n",
       "                      mean  ...                75%     max    count mean  std   \n",
       "driver_gender               ...                                                 \n",
       "F              1974.766610  ...             1620.0  2359.0  23511.0  1.0  0.0   \n",
       "M              1968.954718  ...             1639.0  2359.0  62895.0  1.0  0.0   \n",
       "\n",
       "                                        \n",
       "               min  25%  50%  75%  max  \n",
       "driver_gender                           \n",
       "F              1.0  1.0  1.0  1.0  1.0  \n",
       "M              1.0  1.0  1.0  1.0  1.0  \n",
       "\n",
       "[2 rows x 64 columns]"
      ]
     },
     "execution_count": 12,
     "metadata": {},
     "output_type": "execute_result"
    }
   ],
   "source": [
    "featured_df.groupby(\"driver_gender\").describe()"
   ]
  },
  {
   "cell_type": "code",
   "execution_count": 13,
   "metadata": {},
   "outputs": [
    {
     "data": {
      "text/plain": [
       "<Axes: xlabel='driver_race'>"
      ]
     },
     "execution_count": 13,
     "metadata": {},
     "output_type": "execute_result"
    },
    {
     "data": {
      "image/png": "[encoded data removed]",
      "text/plain": [
       "<Figure size 640x480 with 1 Axes>"
      ]
     },
     "metadata": {},
     "output_type": "display_data"
    }
   ],
   "source": [
    "featured_df.groupby(\"driver_race\")[\"counter\"].count().plot(kind=\"bar\")"
   ]
  },
  {
   "cell_type": "code",
   "execution_count": 14,
   "metadata": {},
   "outputs": [
    {
     "data": {
      "text/plain": [
       "<Axes: ylabel='Frequency'>"
      ]
     },
     "execution_count": 14,
     "metadata": {},
     "output_type": "execute_result"
    },
    {
     "data": {
      "image/png": "[encoded data removed]",
      "text/plain": [
       "<Figure size 640x480 with 1 Axes>"
      ]
     },
     "metadata": {},
     "output_type": "display_data"
    }
   ],
   "source": [
    "featured_df.driver_age.plot.hist(bins=4)"
   ]
  },
  {
   "attachments": {},
   "cell_type": "markdown",
   "metadata": {},
   "source": [
    "### Conclusions 📝\n",
    "\n",
    "The profile of most arrested individuals are represented by the following:\n",
    "* adult \n",
    "* white \n",
    "* men\n",
    "\n",
    "If you are black or hispanic you are two times more likely to be arrested than white and asian people."
   ]
  },
  {
   "cell_type": "code",
   "execution_count": 15,
   "metadata": {},
   "outputs": [],
   "source": [
    "featured_df_cp = featured_df.copy()\n",
    "featured_df_cp[\"driver_race\"] = featured_df.driver_race.fillna(\"NA\")\n",
    "\n",
    "arrest_proportional_per_race = {}\n",
    "\n",
    "for race in featured_df_cp[\"driver_race\"].unique():\n",
    "    arrest_proportional_per_race[race] = (\n",
    "        featured_df_cp[\n",
    "            (featured_df_cp.is_arrested == True) & (featured_df_cp.driver_race == race)\n",
    "        ].shape[0]\n",
    "        / featured_df_cp[featured_df_cp.driver_race == race].shape[0]\n",
    "    ) * 100\n",
    "\n",
    "arrested_proportional_per_race_df = pd.DataFrame(\n",
    "    arrest_proportional_per_race, index=[0]\n",
    ")"
   ]
  },
  {
   "cell_type": "code",
   "execution_count": 16,
   "metadata": {
    "colab": {
     "base_uri": "https://localhost:8080/",
     "height": 712
    },
    "id": "4kFg4-UkIjqM",
    "outputId": "303a3019-d4fc-4280-eec0-78e9c82db8c3"
   },
   "outputs": [
    {
     "data": {
      "text/plain": [
       "<Axes: title={'center': 'Arrested By Proportional Per Race'}, ylabel='percentage arrested'>"
      ]
     },
     "execution_count": 16,
     "metadata": {},
     "output_type": "execute_result"
    },
    {
     "data": {
      "image/png": "[encoded data removed]",
      "text/plain": [
       "<Figure size 1200x1000 with 4 Axes>"
      ]
     },
     "metadata": {},
     "output_type": "display_data"
    }
   ],
   "source": [
    "fig, axes = plt.subplots(nrows=2, ncols=2)\n",
    "# change figure size\n",
    "fig.set_size_inches(12, 10)\n",
    "\n",
    "featured_df[featured_df.is_arrested == True].groupby(\"driver_gender\")[\n",
    "    \"counter\"\n",
    "].count().plot(kind=\"bar\", ax=axes[0, 0], title=\"Arrested By Gender\")\n",
    "\n",
    "featured_df[featured_df.is_arrested == True].groupby(\"driver_race\")[\n",
    "    \"counter\"\n",
    "].count().plot(kind=\"bar\", ax=axes[0, 1], title=\"Arrested By Race\")\n",
    "\n",
    "featured_df[featured_df.is_arrested == True].groupby(\"driver_age_bins\")[\n",
    "    \"counter\"\n",
    "].count().plot(kind=\"bar\", ax=axes[1, 0], title=\"Arrested By Age\")\n",
    "\n",
    "arrested_proportional_per_race_df.plot(\n",
    "    kind=\"bar\",\n",
    "    ax=axes[1, 1],\n",
    "    ylabel=\"percentage arrested\",\n",
    "    title=\"Arrested By Proportional Per Race\",\n",
    ")"
   ]
  },
  {
   "cell_type": "code",
   "execution_count": 17,
   "metadata": {},
   "outputs": [
    {
     "name": "stdout",
     "output_type": "stream",
     "text": [
      "Probability of being arrested: 0.03%\n",
      "Probability of being arrested given the driver is black or hispanic: 0.06%\n"
     ]
    }
   ],
   "source": [
    "p_being_arrested = (\n",
    "    featured_df[featured_df.is_arrested == True].shape[0] / featured_df.shape[0]\n",
    ")\n",
    "p_being_arrested_and_black_or_hispanic = (\n",
    "    featured_df[\n",
    "        (featured_df.is_arrested == True) & (featured_df.is_black_or_hispanic == True)\n",
    "    ].shape[0]\n",
    "    / featured_df.shape[0]\n",
    ")\n",
    "p_being_black_or_hispanic = (\n",
    "    featured_df[featured_df.is_black_or_hispanic == True].shape[0]\n",
    "    / featured_df.shape[0]\n",
    ")\n",
    "\n",
    "p_being_arrested_given_black_or_hispanic = (\n",
    "    p_being_arrested_and_black_or_hispanic / p_being_black_or_hispanic\n",
    ")\n",
    "\n",
    "print(f\"Probability of being arrested: {p_being_arrested:.2f}%\")\n",
    "print(\n",
    "    f\"Probability of being arrested given the driver is black or hispanic: {p_being_arrested_given_black_or_hispanic:.2f}%\"\n",
    ")"
   ]
  },
  {
   "attachments": {},
   "cell_type": "markdown",
   "metadata": {},
   "source": [
    "### Conclusions 📝\n",
    "\n",
    "* The most occurred violation is speeding.\n",
    "* The outcome level of the violations are very evenly distributed among violation types. With the exception of:\n",
    "  * Motorist Assist/Courtesy - This is expected, since this is a courtesy.\n",
    "  * Warrant - This is something to be investigated why the outcome level median is so high."
   ]
  },
  {
   "cell_type": "code",
   "execution_count": 18,
   "metadata": {
    "id": "qrEr_55_vOOg"
   },
   "outputs": [
    {
     "data": {
      "text/plain": [
       "<Axes: title={'center': 'Violations Outcome Level Median'}, xlabel='violation_raw'>"
      ]
     },
     "execution_count": 18,
     "metadata": {},
     "output_type": "execute_result"
    },
    {
     "data": {
      "image/png": "[encoded data removed]",
      "text/plain": [
       "<Figure size 1800x1000 with 2 Axes>"
      ]
     },
     "metadata": {},
     "output_type": "display_data"
    }
   ],
   "source": [
    "fig, axes = plt.subplots(nrows=1, ncols=2)\n",
    "# change figure size\n",
    "fig.set_size_inches(18, 10)\n",
    "\n",
    "\n",
    "featured_df.groupby(\"violation_raw\")[\"counter\"].count().plot(\n",
    "    kind=\"bar\", title=\"Violations Count\", ax=axes[0]\n",
    ")\n",
    "\n",
    "\n",
    "featured_df.groupby(\"violation_raw\")[\"stop_outcome_level\"].median().plot(\n",
    "    kind=\"bar\", title=\"Violations Outcome Level Median\", ax=axes[1]\n",
    ")"
   ]
  },
  {
   "cell_type": "markdown",
   "metadata": {},
   "source": [
    "### Análise do Search Type 🕵🏻‍♂️ "
   ]
  },
  {
   "cell_type": "code",
   "execution_count": 19,
   "metadata": {},
   "outputs": [
    {
     "data": {
      "text/plain": [
       "['incident_to_arrest',\n",
       " 'protective_frisk',\n",
       " 'probable_cause',\n",
       " 'reasonable_suspicion',\n",
       " 'inventory',\n",
       " 'stop_outcome_level',\n",
       " 'violation_level',\n",
       " 'search_conducted']"
      ]
     },
     "metadata": {},
     "output_type": "display_data"
    },
    {
     "data": {
      "text/plain": [
       "<Axes: >"
      ]
     },
     "execution_count": 19,
     "metadata": {},
     "output_type": "execute_result"
    },
    {
     "data": {
      "image/png": "[encoded data removed]",
      "text/plain": [
       "<Figure size 800x800 with 2 Axes>"
      ]
     },
     "metadata": {},
     "output_type": "display_data"
    }
   ],
   "source": [
    "search_type_df_pearson = search_type_df.copy()\n",
    "\n",
    "features_of_interest = encoded_search_type_features\n",
    "for f in [\n",
    "    \"stop_outcome_level\",\n",
    "    \"violation_level\",\n",
    "    \"search_conducted\",\n",
    "]:\n",
    "    features_of_interest.append(f)\n",
    "    \n",
    "display(features_of_interest)\n",
    "search_type_df_pearson = search_type_df_pearson[features_of_interest]\n",
    "\n",
    "plt.rcParams[\"figure.figsize\"] = (8, 8)\n",
    "sns.heatmap(\n",
    "    search_type_df_pearson.corr(), vmin=-1, vmax=1, cmap=sns.diverging_palette(20, 220, as_cmap=True)\n",
    ")"
   ]
  },
  {
   "attachments": {},
   "cell_type": "markdown",
   "metadata": {
    "id": "HRQa_bCc0eG8"
   },
   "source": [
    "## More Exploratory Analysis 🧭🗺️"
   ]
  },
  {
   "cell_type": "code",
   "execution_count": 20,
   "metadata": {
    "colab": {
     "base_uri": "https://localhost:8080/",
     "height": 300
    },
    "id": "MPA7TWYuaUTe",
    "outputId": "de53440c-91df-43e0-e3f6-6607ca1f9195"
   },
   "outputs": [
    {
     "data": {
      "text/html": [
       "<div>\n",
       "<style scoped>\n",
       "    .dataframe tbody tr th:only-of-type {\n",
       "        vertical-align: middle;\n",
       "    }\n",
       "\n",
       "    .dataframe tbody tr th {\n",
       "        vertical-align: top;\n",
       "    }\n",
       "\n",
       "    .dataframe thead th {\n",
       "        text-align: right;\n",
       "    }\n",
       "</style>\n",
       "<table border=\"1\" class=\"dataframe\">\n",
       "  <thead>\n",
       "    <tr style=\"text-align: right;\">\n",
       "      <th></th>\n",
       "      <th>county_name</th>\n",
       "      <th>driver_age_raw</th>\n",
       "      <th>driver_age</th>\n",
       "      <th>stop_outcome_level</th>\n",
       "      <th>violation_level</th>\n",
       "      <th>proportional_stop_outcome</th>\n",
       "      <th>stop_time_discrete</th>\n",
       "      <th>counter</th>\n",
       "    </tr>\n",
       "  </thead>\n",
       "  <tbody>\n",
       "    <tr>\n",
       "      <th>count</th>\n",
       "      <td>0.0</td>\n",
       "      <td>86414.000000</td>\n",
       "      <td>91741.000000</td>\n",
       "      <td>91741.000000</td>\n",
       "      <td>91741.000000</td>\n",
       "      <td>91741.000000</td>\n",
       "      <td>91741.000000</td>\n",
       "      <td>91741.0</td>\n",
       "    </tr>\n",
       "    <tr>\n",
       "      <th>mean</th>\n",
       "      <td>NaN</td>\n",
       "      <td>1970.491228</td>\n",
       "      <td>31.927448</td>\n",
       "      <td>2.860281</td>\n",
       "      <td>3.150445</td>\n",
       "      <td>1.540728</td>\n",
       "      <td>1194.606861</td>\n",
       "      <td>1.0</td>\n",
       "    </tr>\n",
       "    <tr>\n",
       "      <th>std</th>\n",
       "      <td>NaN</td>\n",
       "      <td>110.914909</td>\n",
       "      <td>14.793998</td>\n",
       "      <td>0.661906</td>\n",
       "      <td>1.966006</td>\n",
       "      <td>1.181678</td>\n",
       "      <td>651.307607</td>\n",
       "      <td>0.0</td>\n",
       "    </tr>\n",
       "    <tr>\n",
       "      <th>min</th>\n",
       "      <td>NaN</td>\n",
       "      <td>0.000000</td>\n",
       "      <td>0.000000</td>\n",
       "      <td>1.000000</td>\n",
       "      <td>1.000000</td>\n",
       "      <td>0.200000</td>\n",
       "      <td>0.000000</td>\n",
       "      <td>1.0</td>\n",
       "    </tr>\n",
       "    <tr>\n",
       "      <th>25%</th>\n",
       "      <td>NaN</td>\n",
       "      <td>1967.000000</td>\n",
       "      <td>22.000000</td>\n",
       "      <td>3.000000</td>\n",
       "      <td>1.000000</td>\n",
       "      <td>0.600000</td>\n",
       "      <td>810.000000</td>\n",
       "      <td>1.0</td>\n",
       "    </tr>\n",
       "    <tr>\n",
       "      <th>50%</th>\n",
       "      <td>NaN</td>\n",
       "      <td>1980.000000</td>\n",
       "      <td>29.000000</td>\n",
       "      <td>3.000000</td>\n",
       "      <td>5.000000</td>\n",
       "      <td>0.600000</td>\n",
       "      <td>1140.000000</td>\n",
       "      <td>1.0</td>\n",
       "    </tr>\n",
       "    <tr>\n",
       "      <th>75%</th>\n",
       "      <td>NaN</td>\n",
       "      <td>1987.000000</td>\n",
       "      <td>42.000000</td>\n",
       "      <td>3.000000</td>\n",
       "      <td>5.000000</td>\n",
       "      <td>3.000000</td>\n",
       "      <td>1635.000000</td>\n",
       "      <td>1.0</td>\n",
       "    </tr>\n",
       "    <tr>\n",
       "      <th>max</th>\n",
       "      <td>NaN</td>\n",
       "      <td>8801.000000</td>\n",
       "      <td>99.000000</td>\n",
       "      <td>5.000000</td>\n",
       "      <td>5.000000</td>\n",
       "      <td>5.000000</td>\n",
       "      <td>2359.000000</td>\n",
       "      <td>1.0</td>\n",
       "    </tr>\n",
       "  </tbody>\n",
       "</table>\n",
       "</div>"
      ],
      "text/plain": [
       "       county_name  driver_age_raw    driver_age  stop_outcome_level  \\\n",
       "count          0.0    86414.000000  91741.000000        91741.000000   \n",
       "mean           NaN     1970.491228     31.927448            2.860281   \n",
       "std            NaN      110.914909     14.793998            0.661906   \n",
       "min            NaN        0.000000      0.000000            1.000000   \n",
       "25%            NaN     1967.000000     22.000000            3.000000   \n",
       "50%            NaN     1980.000000     29.000000            3.000000   \n",
       "75%            NaN     1987.000000     42.000000            3.000000   \n",
       "max            NaN     8801.000000     99.000000            5.000000   \n",
       "\n",
       "       violation_level  proportional_stop_outcome  stop_time_discrete  counter  \n",
       "count     91741.000000               91741.000000        91741.000000  91741.0  \n",
       "mean          3.150445                   1.540728         1194.606861      1.0  \n",
       "std           1.966006                   1.181678          651.307607      0.0  \n",
       "min           1.000000                   0.200000            0.000000      1.0  \n",
       "25%           1.000000                   0.600000          810.000000      1.0  \n",
       "50%           5.000000                   0.600000         1140.000000      1.0  \n",
       "75%           5.000000                   3.000000         1635.000000      1.0  \n",
       "max           5.000000                   5.000000         2359.000000      1.0  "
      ]
     },
     "execution_count": 20,
     "metadata": {},
     "output_type": "execute_result"
    }
   ],
   "source": [
    "featured_df.describe()"
   ]
  },
  {
   "cell_type": "code",
   "execution_count": 21,
   "metadata": {
    "id": "kg6TMhgmcax2"
   },
   "outputs": [],
   "source": [
    "# Defining baseline features for comparison\n",
    "\n",
    "baseline_features = [\n",
    "    \"is_arrested\",\n",
    "    \"driver_race\",\n",
    "    \"driver_gender\",\n",
    "    \"stop_outcome_level\",\n",
    "    \"violation_level\",\n",
    "    \"search_conducted\",\n",
    "    \"search_type\",\n",
    "    \"drugs_related_stop\",\n",
    "    \"stop_time_discrete_bins\",\n",
    "    \"driver_age_bins\",\n",
    "]"
   ]
  },
  {
   "cell_type": "code",
   "execution_count": 22,
   "metadata": {
    "id": "pBBsjpB4k_1v"
   },
   "outputs": [],
   "source": [
    "def box_plot_by(df_, col):\n",
    "    box = df_.copy()\n",
    "    fig_size = (8, 10)\n",
    "\n",
    "    plt.figure(figsize=fig_size)\n",
    "\n",
    "    ax = box.boxplot(\n",
    "        by=col,\n",
    "        column=\"stop_outcome_level\",\n",
    "    )\n",
    "\n",
    "    ax.set_xlabel(\"\")\n",
    "    ax.set_ylabel(\"Stop Outcome Level (arrested, warning, citation...)\")\n",
    "    plt.suptitle(\"Outcome Level by \" + col)\n",
    "\n",
    "    bx = box.boxplot(\n",
    "        by=col,\n",
    "        column=\"violation_level\",\n",
    "    )\n",
    "    bx.set_xlabel(\"\")\n",
    "    bx.set_ylabel(\"Violation Level (Speed, moving violation, ....)\")\n",
    "    plt.suptitle(\"Violation Level by \" + col)"
   ]
  },
  {
   "attachments": {},
   "cell_type": "markdown",
   "metadata": {
    "id": "UP5xqaSUl5Rq"
   },
   "source": [
    "## Correlations 📈 "
   ]
  },
  {
   "attachments": {},
   "cell_type": "markdown",
   "metadata": {
    "id": "HyVAcJFhpsq0"
   },
   "source": [
    "### Mutual Information"
   ]
  },
  {
   "cell_type": "code",
   "execution_count": 23,
   "metadata": {
    "id": "QgmnsOoDprvl"
   },
   "outputs": [],
   "source": [
    "X = featured_df.copy()\n",
    "X = X[baseline_features]\n",
    "y = X.pop(\"stop_outcome_level\")"
   ]
  },
  {
   "cell_type": "code",
   "execution_count": 24,
   "metadata": {
    "colab": {
     "base_uri": "https://localhost:8080/",
     "height": 225
    },
    "id": "6ooJEWUcp5Pq",
    "outputId": "976c6b81-2c87-4eb4-dc20-dfa2d3e645da"
   },
   "outputs": [
    {
     "data": {
      "text/html": [
       "<div>\n",
       "<style scoped>\n",
       "    .dataframe tbody tr th:only-of-type {\n",
       "        vertical-align: middle;\n",
       "    }\n",
       "\n",
       "    .dataframe tbody tr th {\n",
       "        vertical-align: top;\n",
       "    }\n",
       "\n",
       "    .dataframe thead th {\n",
       "        text-align: right;\n",
       "    }\n",
       "</style>\n",
       "<table border=\"1\" class=\"dataframe\">\n",
       "  <thead>\n",
       "    <tr style=\"text-align: right;\">\n",
       "      <th></th>\n",
       "      <th>is_arrested</th>\n",
       "      <th>driver_race</th>\n",
       "      <th>driver_gender</th>\n",
       "      <th>violation_level</th>\n",
       "      <th>search_conducted</th>\n",
       "      <th>search_type</th>\n",
       "      <th>drugs_related_stop</th>\n",
       "      <th>stop_time_discrete_bins</th>\n",
       "      <th>driver_age_bins</th>\n",
       "    </tr>\n",
       "  </thead>\n",
       "  <tbody>\n",
       "    <tr>\n",
       "      <th>0</th>\n",
       "      <td>False</td>\n",
       "      <td>0</td>\n",
       "      <td>0</td>\n",
       "      <td>5</td>\n",
       "      <td>False</td>\n",
       "      <td>0</td>\n",
       "      <td>False</td>\n",
       "      <td>0</td>\n",
       "      <td>0</td>\n",
       "    </tr>\n",
       "    <tr>\n",
       "      <th>1</th>\n",
       "      <td>False</td>\n",
       "      <td>0</td>\n",
       "      <td>0</td>\n",
       "      <td>5</td>\n",
       "      <td>False</td>\n",
       "      <td>0</td>\n",
       "      <td>False</td>\n",
       "      <td>1</td>\n",
       "      <td>1</td>\n",
       "    </tr>\n",
       "    <tr>\n",
       "      <th>2</th>\n",
       "      <td>False</td>\n",
       "      <td>0</td>\n",
       "      <td>0</td>\n",
       "      <td>5</td>\n",
       "      <td>False</td>\n",
       "      <td>0</td>\n",
       "      <td>False</td>\n",
       "      <td>2</td>\n",
       "      <td>1</td>\n",
       "    </tr>\n",
       "    <tr>\n",
       "      <th>3</th>\n",
       "      <td>True</td>\n",
       "      <td>0</td>\n",
       "      <td>0</td>\n",
       "      <td>1</td>\n",
       "      <td>False</td>\n",
       "      <td>0</td>\n",
       "      <td>False</td>\n",
       "      <td>3</td>\n",
       "      <td>0</td>\n",
       "    </tr>\n",
       "    <tr>\n",
       "      <th>4</th>\n",
       "      <td>False</td>\n",
       "      <td>0</td>\n",
       "      <td>1</td>\n",
       "      <td>5</td>\n",
       "      <td>False</td>\n",
       "      <td>0</td>\n",
       "      <td>False</td>\n",
       "      <td>1</td>\n",
       "      <td>0</td>\n",
       "    </tr>\n",
       "  </tbody>\n",
       "</table>\n",
       "</div>"
      ],
      "text/plain": [
       "   is_arrested  driver_race  driver_gender  violation_level  search_conducted  \\\n",
       "0        False            0              0                5             False   \n",
       "1        False            0              0                5             False   \n",
       "2        False            0              0                5             False   \n",
       "3         True            0              0                1             False   \n",
       "4        False            0              1                5             False   \n",
       "\n",
       "   search_type  drugs_related_stop  stop_time_discrete_bins  driver_age_bins  \n",
       "0            0               False                        0                0  \n",
       "1            0               False                        1                1  \n",
       "2            0               False                        2                1  \n",
       "3            0               False                        3                0  \n",
       "4            0               False                        1                0  "
      ]
     },
     "metadata": {},
     "output_type": "display_data"
    },
    {
     "data": {
      "text/plain": [
       "dtype('int64')"
      ]
     },
     "metadata": {},
     "output_type": "display_data"
    }
   ],
   "source": [
    "# label encoding for categoricals\n",
    "for colname in X.select_dtypes(\"object\"):\n",
    "    X[colname], _ = X[colname].factorize()\n",
    "\n",
    "X[\"stop_time_discrete_bins\"], _ = X[\"stop_time_discrete_bins\"].factorize()\n",
    "X[\"driver_age_bins\"], _ = X[\"driver_age_bins\"].factorize()\n",
    "\n",
    "discrete_features = X.dtypes == int\n",
    "\n",
    "display(X.head())\n",
    "display(X[\"stop_time_discrete_bins\"].dtype)"
   ]
  },
  {
   "cell_type": "code",
   "execution_count": 25,
   "metadata": {
    "id": "LdtUhOzBo32G"
   },
   "outputs": [],
   "source": [
    "def plot_mi_scores(scores):\n",
    "    scores = scores.sort_values(ascending=True)\n",
    "    width = np.arange(len(scores))\n",
    "    ticks = list(scores.index)\n",
    "    plt.barh(width, scores)\n",
    "    plt.yticks(width, ticks)\n",
    "    plt.title(\"Mutual Information Scores\")"
   ]
  },
  {
   "cell_type": "code",
   "execution_count": 26,
   "metadata": {
    "colab": {
     "background_save": true
    },
    "id": "XZi75jV4pLst"
   },
   "outputs": [
    {
     "data": {
      "text/plain": [
       "driver_gender       0.202745\n",
       "violation_level     0.080697\n",
       "search_conducted    0.023569\n",
       "Name: MI Scores, dtype: float64"
      ]
     },
     "execution_count": 26,
     "metadata": {},
     "output_type": "execute_result"
    }
   ],
   "source": [
    "from sklearn.feature_selection import mutual_info_regression\n",
    "\n",
    "\n",
    "def make_mi_scores(X, y, discrete_features):\n",
    "    mi_scores = mutual_info_regression(\n",
    "        X,\n",
    "        y,\n",
    "        discrete_features=discrete_features,\n",
    "    )\n",
    "    mi_scores = pd.Series(mi_scores, name=\"MI Scores\", index=X.columns)\n",
    "    mi_scores = mi_scores.sort_values(ascending=False)\n",
    "    return mi_scores\n",
    "\n",
    "\n",
    "mi_scores = make_mi_scores(X, y, discrete_features)\n",
    "mi_scores[::3]  # show few features with their scores"
   ]
  },
  {
   "cell_type": "code",
   "execution_count": 27,
   "metadata": {
    "colab": {
     "background_save": true
    },
    "id": "j_wr3v8No7Kw"
   },
   "outputs": [
    {
     "data": {
      "image/png": "[encoded data removed]",
      "text/plain": [
       "<Figure size 800x500 with 1 Axes>"
      ]
     },
     "metadata": {},
     "output_type": "display_data"
    }
   ],
   "source": [
    "plt.figure(dpi=100, figsize=(8, 5))\n",
    "plot_mi_scores(mi_scores)"
   ]
  },
  {
   "cell_type": "code",
   "execution_count": 28,
   "metadata": {
    "colab": {
     "background_save": true
    },
    "id": "expCgC-UqUUn"
   },
   "outputs": [
    {
     "data": {
      "text/plain": [
       "<Axes: >"
      ]
     },
     "execution_count": 28,
     "metadata": {},
     "output_type": "execute_result"
    },
    {
     "data": {
      "image/png": "[encoded data removed]",
      "text/plain": [
       "<Figure size 800x800 with 2 Axes>"
      ]
     },
     "metadata": {},
     "output_type": "display_data"
    }
   ],
   "source": [
    "# Correlationa\n",
    "\n",
    "X_y = X.copy()\n",
    "X_y[\"stop_outcome_level\"] = y\n",
    "\n",
    "plt.rcParams[\"figure.figsize\"] = (8, 8)\n",
    "sns.heatmap(\n",
    "    X_y.corr(), vmin=-1, vmax=1, cmap=sns.diverging_palette(20, 220, as_cmap=True)\n",
    ")"
   ]
  },
  {
   "attachments": {},
   "cell_type": "markdown",
   "metadata": {
    "id": "ZHN5g-yJwtOH"
   },
   "source": [
    "## Using Decision Tree 🌲🌳\n",
    "\n",
    "Using decision tree to understand how the most important feature values correlates with the stop outcome level."
   ]
  },
  {
   "cell_type": "code",
   "execution_count": 29,
   "metadata": {
    "colab": {
     "background_save": true
    },
    "id": "F4-dI24txJKQ"
   },
   "outputs": [
    {
     "name": "stdout",
     "output_type": "stream",
     "text": [
      "Y => False\n"
     ]
    },
    {
     "data": {
      "text/plain": [
       "None"
      ]
     },
     "metadata": {},
     "output_type": "display_data"
    }
   ],
   "source": [
    "from sklearn import tree\n",
    "from matplotlib import pyplot as plt\n",
    "\n",
    "selected_features = [\n",
    "    \"driver_race\",\n",
    "    \"driver_gender\",\n",
    "    \"driver_age_bins\",\n",
    "    \"violation_level\",\n",
    "    # \"is_black_or_hispanic\",\n",
    "]\n",
    "X_tree = featured_df.copy()\n",
    "y_tree = X_tree.pop(\"is_arrested\")\n",
    "X_tree = pd.get_dummies(X_tree[selected_features], drop_first=False)\n",
    "\n",
    "display(print(f\"Y => {y_tree.hasnans}\"))\n",
    "\n",
    "clf = tree.DecisionTreeClassifier(random_state=0)\n",
    "clf = clf.fit(X_tree, y_tree)"
   ]
  },
  {
   "cell_type": "code",
   "execution_count": 30,
   "metadata": {
    "colab": {
     "background_save": true
    },
    "id": "oS-KQAk_PBFv"
   },
   "outputs": [
    {
     "data": {
      "image/png": "[encoded data removed]",
      "text/plain": [
       "<Figure size 800x800 with 1 Axes>"
      ]
     },
     "metadata": {},
     "output_type": "display_data"
    },
    {
     "data": {
      "text/plain": [
       "<Figure size 1000x1000 with 0 Axes>"
      ]
     },
     "metadata": {},
     "output_type": "display_data"
    }
   ],
   "source": [
    "# plt.rcParams[\"figure.figsize\"] = (30,30)\n",
    "# plt.rcParams[\"figure.figsize\"] = (10,10)\n",
    "tree.plot_tree(clf, feature_names=X_tree.columns, fontsize=5)\n",
    "plt.figure(dpi=100, figsize=(10, 10))\n",
    "plt.show()"
   ]
  },
  {
   "attachments": {},
   "cell_type": "markdown",
   "metadata": {
    "id": "fxMOL7uL8VFv"
   },
   "source": [
    "## Linear Regression Coeficient Analysis 📈🧪"
   ]
  },
  {
   "cell_type": "code",
   "execution_count": 31,
   "metadata": {
    "colab": {
     "background_save": true
    },
    "id": "OO1_a3nd8kjv"
   },
   "outputs": [
    {
     "data": {
      "text/html": [
       "<div>\n",
       "<style scoped>\n",
       "    .dataframe tbody tr th:only-of-type {\n",
       "        vertical-align: middle;\n",
       "    }\n",
       "\n",
       "    .dataframe tbody tr th {\n",
       "        vertical-align: top;\n",
       "    }\n",
       "\n",
       "    .dataframe thead th {\n",
       "        text-align: right;\n",
       "    }\n",
       "</style>\n",
       "<table border=\"1\" class=\"dataframe\">\n",
       "  <thead>\n",
       "    <tr style=\"text-align: right;\">\n",
       "      <th></th>\n",
       "      <th>violation_level</th>\n",
       "      <th>driver_race_Asian</th>\n",
       "      <th>driver_race_Black</th>\n",
       "      <th>driver_race_Hispanic</th>\n",
       "      <th>driver_race_Other</th>\n",
       "      <th>driver_race_White</th>\n",
       "      <th>driver_gender_F</th>\n",
       "      <th>driver_gender_M</th>\n",
       "      <th>driver_age_bins_jovem</th>\n",
       "      <th>driver_age_bins_adulto</th>\n",
       "      <th>driver_age_bins_meia_idade</th>\n",
       "      <th>driver_age_bins_idoso</th>\n",
       "      <th>search_conducted_False</th>\n",
       "      <th>search_conducted_True</th>\n",
       "      <th>drugs_related_stop_False</th>\n",
       "      <th>drugs_related_stop_True</th>\n",
       "    </tr>\n",
       "  </thead>\n",
       "  <tbody>\n",
       "    <tr>\n",
       "      <th>0</th>\n",
       "      <td>5</td>\n",
       "      <td>False</td>\n",
       "      <td>False</td>\n",
       "      <td>False</td>\n",
       "      <td>False</td>\n",
       "      <td>True</td>\n",
       "      <td>False</td>\n",
       "      <td>True</td>\n",
       "      <td>True</td>\n",
       "      <td>False</td>\n",
       "      <td>False</td>\n",
       "      <td>False</td>\n",
       "      <td>True</td>\n",
       "      <td>False</td>\n",
       "      <td>True</td>\n",
       "      <td>False</td>\n",
       "    </tr>\n",
       "    <tr>\n",
       "      <th>1</th>\n",
       "      <td>5</td>\n",
       "      <td>False</td>\n",
       "      <td>False</td>\n",
       "      <td>False</td>\n",
       "      <td>False</td>\n",
       "      <td>True</td>\n",
       "      <td>False</td>\n",
       "      <td>True</td>\n",
       "      <td>False</td>\n",
       "      <td>True</td>\n",
       "      <td>False</td>\n",
       "      <td>False</td>\n",
       "      <td>True</td>\n",
       "      <td>False</td>\n",
       "      <td>True</td>\n",
       "      <td>False</td>\n",
       "    </tr>\n",
       "    <tr>\n",
       "      <th>2</th>\n",
       "      <td>5</td>\n",
       "      <td>False</td>\n",
       "      <td>False</td>\n",
       "      <td>False</td>\n",
       "      <td>False</td>\n",
       "      <td>True</td>\n",
       "      <td>False</td>\n",
       "      <td>True</td>\n",
       "      <td>False</td>\n",
       "      <td>True</td>\n",
       "      <td>False</td>\n",
       "      <td>False</td>\n",
       "      <td>True</td>\n",
       "      <td>False</td>\n",
       "      <td>True</td>\n",
       "      <td>False</td>\n",
       "    </tr>\n",
       "    <tr>\n",
       "      <th>3</th>\n",
       "      <td>1</td>\n",
       "      <td>False</td>\n",
       "      <td>False</td>\n",
       "      <td>False</td>\n",
       "      <td>False</td>\n",
       "      <td>True</td>\n",
       "      <td>False</td>\n",
       "      <td>True</td>\n",
       "      <td>True</td>\n",
       "      <td>False</td>\n",
       "      <td>False</td>\n",
       "      <td>False</td>\n",
       "      <td>True</td>\n",
       "      <td>False</td>\n",
       "      <td>True</td>\n",
       "      <td>False</td>\n",
       "    </tr>\n",
       "    <tr>\n",
       "      <th>4</th>\n",
       "      <td>5</td>\n",
       "      <td>False</td>\n",
       "      <td>False</td>\n",
       "      <td>False</td>\n",
       "      <td>False</td>\n",
       "      <td>True</td>\n",
       "      <td>True</td>\n",
       "      <td>False</td>\n",
       "      <td>True</td>\n",
       "      <td>False</td>\n",
       "      <td>False</td>\n",
       "      <td>False</td>\n",
       "      <td>True</td>\n",
       "      <td>False</td>\n",
       "      <td>True</td>\n",
       "      <td>False</td>\n",
       "    </tr>\n",
       "  </tbody>\n",
       "</table>\n",
       "</div>"
      ],
      "text/plain": [
       "   violation_level  driver_race_Asian  driver_race_Black  \\\n",
       "0                5              False              False   \n",
       "1                5              False              False   \n",
       "2                5              False              False   \n",
       "3                1              False              False   \n",
       "4                5              False              False   \n",
       "\n",
       "   driver_race_Hispanic  driver_race_Other  driver_race_White  \\\n",
       "0                 False              False               True   \n",
       "1                 False              False               True   \n",
       "2                 False              False               True   \n",
       "3                 False              False               True   \n",
       "4                 False              False               True   \n",
       "\n",
       "   driver_gender_F  driver_gender_M  driver_age_bins_jovem  \\\n",
       "0            False             True                   True   \n",
       "1            False             True                  False   \n",
       "2            False             True                  False   \n",
       "3            False             True                   True   \n",
       "4             True            False                   True   \n",
       "\n",
       "   driver_age_bins_adulto  driver_age_bins_meia_idade  driver_age_bins_idoso  \\\n",
       "0                   False                       False                  False   \n",
       "1                    True                       False                  False   \n",
       "2                    True                       False                  False   \n",
       "3                   False                       False                  False   \n",
       "4                   False                       False                  False   \n",
       "\n",
       "   search_conducted_False  search_conducted_True  drugs_related_stop_False  \\\n",
       "0                    True                  False                      True   \n",
       "1                    True                  False                      True   \n",
       "2                    True                  False                      True   \n",
       "3                    True                  False                      True   \n",
       "4                    True                  False                      True   \n",
       "\n",
       "   drugs_related_stop_True  \n",
       "0                    False  \n",
       "1                    False  \n",
       "2                    False  \n",
       "3                    False  \n",
       "4                    False  "
      ]
     },
     "execution_count": 31,
     "metadata": {},
     "output_type": "execute_result"
    }
   ],
   "source": [
    "# creating lm dataset\n",
    "X_lm = featured_df.copy()\n",
    "y_lm = X_lm.pop(\"stop_outcome_level\")\n",
    "\n",
    "# selecting lm features\n",
    "lm_features = [\n",
    "    \"driver_race\",\n",
    "    \"driver_gender\",\n",
    "    \"driver_age_bins\",\n",
    "    \"violation_level\",\n",
    "    \"search_conducted\",\n",
    "    \"drugs_related_stop\",\n",
    "]\n",
    "\n",
    "for bool_col in [\"search_conducted\", \"drugs_related_stop\"]:\n",
    "    X_lm[bool_col] = X_lm[bool_col].astype(\"str\")\n",
    "\n",
    "# getting categorical features dummies\n",
    "X_lm = pd.get_dummies(X_lm[lm_features], drop_first=False)\n",
    "\n",
    "X_lm.head()"
   ]
  },
  {
   "cell_type": "code",
   "execution_count": 32,
   "metadata": {
    "colab": {
     "background_save": true
    },
    "id": "LR8us3qpC4Wm"
   },
   "outputs": [
    {
     "name": "stdout",
     "output_type": "stream",
     "text": [
      "Intercept: -14572561076.186\n",
      "Coefficients: \n",
      " violation_level: 0.014661701636678804\n",
      " driver_race_Asian: 1.4381177667984368\n",
      " driver_race_Black: 1.4552702406044604\n",
      " driver_race_Hispanic: 1.4618536787342788\n",
      " driver_race_Other: 1.375729013586228\n",
      " driver_race_White: 1.4331522356985946\n",
      " driver_gender_F: 0.4631743710888586\n",
      " driver_gender_M: 0.4848465566088227\n",
      " driver_age_bins_jovem: 79968491.21609595\n",
      " driver_age_bins_adulto: 79968491.2243004\n",
      " driver_age_bins_meia_idade: 79968491.1932562\n",
      " driver_age_bins_idoso: 79968491.04616134\n",
      " search_conducted_False: 1407578695.0263271\n",
      " search_conducted_True: 1407578695.691715\n",
      " drugs_related_stop_False: 13085013890.928486\n",
      " drugs_related_stop_True: 13085013890.69417\n"
     ]
    }
   ],
   "source": [
    "from sklearn.linear_model import LinearRegression\n",
    "\n",
    "police_stop_lm = LinearRegression()\n",
    "police_stop_lm.fit(X_lm, y_lm)\n",
    "\n",
    "print(f\"Intercept: {police_stop_lm.intercept_:.3f}\")\n",
    "print(f\"Coefficients: \")\n",
    "for name, coef in zip(X_lm.columns, police_stop_lm.coef_):\n",
    "    print(f\" {name}: {coef}\")"
   ]
  },
  {
   "cell_type": "code",
   "execution_count": 33,
   "metadata": {
    "colab": {
     "background_save": true
    },
    "id": "83Kf2kV6fSN9"
   },
   "outputs": [
    {
     "data": {
      "text/html": [
       "<table class=\"simpletable\">\n",
       "<caption>OLS Regression Results</caption>\n",
       "<tr>\n",
       "  <th>Dep. Variable:</th>    <td>stop_outcome_level</td> <th>  R-squared:         </th> <td>   0.356</td> \n",
       "</tr>\n",
       "<tr>\n",
       "  <th>Model:</th>                    <td>OLS</td>        <th>  Adj. R-squared:    </th> <td>   0.356</td> \n",
       "</tr>\n",
       "<tr>\n",
       "  <th>Method:</th>              <td>Least Squares</td>   <th>  F-statistic:       </th> <td>   3629.</td> \n",
       "</tr>\n",
       "<tr>\n",
       "  <th>Date:</th>              <td>Mon, 10 Jul 2023</td>  <th>  Prob (F-statistic):</th>  <td>  0.00</td>  \n",
       "</tr>\n",
       "<tr>\n",
       "  <th>Time:</th>                  <td>20:52:36</td>      <th>  Log-Likelihood:    </th> <td> -72101.</td> \n",
       "</tr>\n",
       "<tr>\n",
       "  <th>No. Observations:</th>       <td> 91741</td>       <th>  AIC:               </th> <td>1.442e+05</td>\n",
       "</tr>\n",
       "<tr>\n",
       "  <th>Df Residuals:</th>           <td> 91726</td>       <th>  BIC:               </th> <td>1.444e+05</td>\n",
       "</tr>\n",
       "<tr>\n",
       "  <th>Df Model:</th>               <td>    14</td>       <th>                     </th>     <td> </td>    \n",
       "</tr>\n",
       "<tr>\n",
       "  <th>Covariance Type:</th>       <td>nonrobust</td>     <th>                     </th>     <td> </td>    \n",
       "</tr>\n",
       "</table>\n",
       "<table class=\"simpletable\">\n",
       "<tr>\n",
       "               <td></td>                 <th>coef</th>     <th>std err</th>      <th>t</th>      <th>P>|t|</th>  <th>[0.025</th>    <th>0.975]</th>  \n",
       "</tr>\n",
       "<tr>\n",
       "  <th>violation_level</th>            <td>    0.0156</td> <td>    0.001</td> <td>   13.829</td> <td> 0.000</td> <td>    0.013</td> <td>    0.018</td>\n",
       "</tr>\n",
       "<tr>\n",
       "  <th>driver_race_Asian</th>          <td>    1.4328</td> <td>    0.376</td> <td>    3.813</td> <td> 0.000</td> <td>    0.696</td> <td>    2.169</td>\n",
       "</tr>\n",
       "<tr>\n",
       "  <th>driver_race_Black</th>          <td>    1.4585</td> <td>    0.376</td> <td>    3.883</td> <td> 0.000</td> <td>    0.722</td> <td>    2.195</td>\n",
       "</tr>\n",
       "<tr>\n",
       "  <th>driver_race_Hispanic</th>       <td>    1.4682</td> <td>    0.376</td> <td>    3.908</td> <td> 0.000</td> <td>    0.732</td> <td>    2.204</td>\n",
       "</tr>\n",
       "<tr>\n",
       "  <th>driver_race_Other</th>          <td>    1.3801</td> <td>    0.377</td> <td>    3.659</td> <td> 0.000</td> <td>    0.641</td> <td>    2.119</td>\n",
       "</tr>\n",
       "<tr>\n",
       "  <th>driver_race_White</th>          <td>    1.4318</td> <td>    0.376</td> <td>    3.812</td> <td> 0.000</td> <td>    0.696</td> <td>    2.168</td>\n",
       "</tr>\n",
       "<tr>\n",
       "  <th>driver_gender_F</th>            <td>    0.4631</td> <td>    0.376</td> <td>    1.233</td> <td> 0.217</td> <td>   -0.273</td> <td>    1.199</td>\n",
       "</tr>\n",
       "<tr>\n",
       "  <th>driver_gender_M</th>            <td>    0.4847</td> <td>    0.376</td> <td>    1.291</td> <td> 0.197</td> <td>   -0.251</td> <td>    1.221</td>\n",
       "</tr>\n",
       "<tr>\n",
       "  <th>driver_age_bins_jovem</th>      <td>-6.292e+09</td> <td>  8.5e+09</td> <td>   -0.740</td> <td> 0.459</td> <td> -2.3e+10</td> <td> 1.04e+10</td>\n",
       "</tr>\n",
       "<tr>\n",
       "  <th>driver_age_bins_adulto</th>     <td>-6.292e+09</td> <td>  8.5e+09</td> <td>   -0.740</td> <td> 0.459</td> <td> -2.3e+10</td> <td> 1.04e+10</td>\n",
       "</tr>\n",
       "<tr>\n",
       "  <th>driver_age_bins_meia_idade</th> <td>-6.292e+09</td> <td>  8.5e+09</td> <td>   -0.740</td> <td> 0.459</td> <td> -2.3e+10</td> <td> 1.04e+10</td>\n",
       "</tr>\n",
       "<tr>\n",
       "  <th>driver_age_bins_idoso</th>      <td>-6.292e+09</td> <td>  8.5e+09</td> <td>   -0.740</td> <td> 0.459</td> <td> -2.3e+10</td> <td> 1.04e+10</td>\n",
       "</tr>\n",
       "<tr>\n",
       "  <th>search_conducted_False</th>     <td>  1.73e+11</td> <td> 9.02e+10</td> <td>    1.917</td> <td> 0.055</td> <td>-3.88e+09</td> <td>  3.5e+11</td>\n",
       "</tr>\n",
       "<tr>\n",
       "  <th>search_conducted_True</th>      <td>  1.73e+11</td> <td> 9.02e+10</td> <td>    1.917</td> <td> 0.055</td> <td>-3.88e+09</td> <td>  3.5e+11</td>\n",
       "</tr>\n",
       "<tr>\n",
       "  <th>drugs_related_stop_False</th>   <td>-1.667e+11</td> <td> 8.71e+10</td> <td>   -1.912</td> <td> 0.056</td> <td>-3.37e+11</td> <td> 4.15e+09</td>\n",
       "</tr>\n",
       "<tr>\n",
       "  <th>drugs_related_stop_True</th>    <td>-1.667e+11</td> <td> 8.71e+10</td> <td>   -1.912</td> <td> 0.056</td> <td>-3.37e+11</td> <td> 4.15e+09</td>\n",
       "</tr>\n",
       "</table>\n",
       "<table class=\"simpletable\">\n",
       "<tr>\n",
       "  <th>Omnibus:</th>       <td>17576.968</td> <th>  Durbin-Watson:     </th>  <td>   1.440</td> \n",
       "</tr>\n",
       "<tr>\n",
       "  <th>Prob(Omnibus):</th>  <td> 0.000</td>   <th>  Jarque-Bera (JB):  </th> <td>449533.957</td>\n",
       "</tr>\n",
       "<tr>\n",
       "  <th>Skew:</th>           <td> 0.251</td>   <th>  Prob(JB):          </th>  <td>    0.00</td> \n",
       "</tr>\n",
       "<tr>\n",
       "  <th>Kurtosis:</th>       <td>13.833</td>   <th>  Cond. No.          </th>  <td>4.10e+14</td> \n",
       "</tr>\n",
       "</table><br/><br/>Notes:<br/>[1] Standard Errors assume that the covariance matrix of the errors is correctly specified.<br/>[2] The smallest eigenvalue is 8.97e-24. This might indicate that there are<br/>strong multicollinearity problems or that the design matrix is singular."
      ],
      "text/plain": [
       "<class 'statsmodels.iolib.summary.Summary'>\n",
       "\"\"\"\n",
       "                            OLS Regression Results                            \n",
       "==============================================================================\n",
       "Dep. Variable:     stop_outcome_level   R-squared:                       0.356\n",
       "Model:                            OLS   Adj. R-squared:                  0.356\n",
       "Method:                 Least Squares   F-statistic:                     3629.\n",
       "Date:                Mon, 10 Jul 2023   Prob (F-statistic):               0.00\n",
       "Time:                        20:52:36   Log-Likelihood:                -72101.\n",
       "No. Observations:               91741   AIC:                         1.442e+05\n",
       "Df Residuals:                   91726   BIC:                         1.444e+05\n",
       "Df Model:                          14                                         \n",
       "Covariance Type:            nonrobust                                         \n",
       "==============================================================================================\n",
       "                                 coef    std err          t      P>|t|      [0.025      0.975]\n",
       "----------------------------------------------------------------------------------------------\n",
       "violation_level                0.0156      0.001     13.829      0.000       0.013       0.018\n",
       "driver_race_Asian              1.4328      0.376      3.813      0.000       0.696       2.169\n",
       "driver_race_Black              1.4585      0.376      3.883      0.000       0.722       2.195\n",
       "driver_race_Hispanic           1.4682      0.376      3.908      0.000       0.732       2.204\n",
       "driver_race_Other              1.3801      0.377      3.659      0.000       0.641       2.119\n",
       "driver_race_White              1.4318      0.376      3.812      0.000       0.696       2.168\n",
       "driver_gender_F                0.4631      0.376      1.233      0.217      -0.273       1.199\n",
       "driver_gender_M                0.4847      0.376      1.291      0.197      -0.251       1.221\n",
       "driver_age_bins_jovem      -6.292e+09    8.5e+09     -0.740      0.459    -2.3e+10    1.04e+10\n",
       "driver_age_bins_adulto     -6.292e+09    8.5e+09     -0.740      0.459    -2.3e+10    1.04e+10\n",
       "driver_age_bins_meia_idade -6.292e+09    8.5e+09     -0.740      0.459    -2.3e+10    1.04e+10\n",
       "driver_age_bins_idoso      -6.292e+09    8.5e+09     -0.740      0.459    -2.3e+10    1.04e+10\n",
       "search_conducted_False       1.73e+11   9.02e+10      1.917      0.055   -3.88e+09     3.5e+11\n",
       "search_conducted_True        1.73e+11   9.02e+10      1.917      0.055   -3.88e+09     3.5e+11\n",
       "drugs_related_stop_False   -1.667e+11   8.71e+10     -1.912      0.056   -3.37e+11    4.15e+09\n",
       "drugs_related_stop_True    -1.667e+11   8.71e+10     -1.912      0.056   -3.37e+11    4.15e+09\n",
       "==============================================================================\n",
       "Omnibus:                    17576.968   Durbin-Watson:                   1.440\n",
       "Prob(Omnibus):                  0.000   Jarque-Bera (JB):           449533.957\n",
       "Skew:                           0.251   Prob(JB):                         0.00\n",
       "Kurtosis:                      13.833   Cond. No.                     4.10e+14\n",
       "==============================================================================\n",
       "\n",
       "Notes:\n",
       "[1] Standard Errors assume that the covariance matrix of the errors is correctly specified.\n",
       "[2] The smallest eigenvalue is 8.97e-24. This might indicate that there are\n",
       "strong multicollinearity problems or that the design matrix is singular.\n",
       "\"\"\""
      ]
     },
     "execution_count": 33,
     "metadata": {},
     "output_type": "execute_result"
    }
   ],
   "source": [
    "from statsmodels.regression.linear_model import OLS\n",
    "\n",
    "model = OLS(y_lm, X_lm.astype(float))\n",
    "results = model.fit()\n",
    "results.summary()"
   ]
  },
  {
   "attachments": {},
   "cell_type": "markdown",
   "metadata": {
    "id": "DcgDhn1hh5iq"
   },
   "source": [
    "## K-Means To Create Clusters ☯️"
   ]
  },
  {
   "cell_type": "code",
   "execution_count": 34,
   "metadata": {
    "colab": {
     "background_save": true
    },
    "id": "EE_ipZzv61bB"
   },
   "outputs": [
    {
     "data": {
      "text/html": [
       "<div>\n",
       "<style scoped>\n",
       "    .dataframe tbody tr th:only-of-type {\n",
       "        vertical-align: middle;\n",
       "    }\n",
       "\n",
       "    .dataframe tbody tr th {\n",
       "        vertical-align: top;\n",
       "    }\n",
       "\n",
       "    .dataframe thead th {\n",
       "        text-align: right;\n",
       "    }\n",
       "</style>\n",
       "<table border=\"1\" class=\"dataframe\">\n",
       "  <thead>\n",
       "    <tr style=\"text-align: right;\">\n",
       "      <th></th>\n",
       "      <th>is_arrested</th>\n",
       "      <th>driver_race</th>\n",
       "      <th>driver_gender</th>\n",
       "      <th>violation_level</th>\n",
       "      <th>search_conducted</th>\n",
       "      <th>search_type</th>\n",
       "      <th>drugs_related_stop</th>\n",
       "      <th>stop_time_discrete_bins</th>\n",
       "      <th>driver_age_bins</th>\n",
       "    </tr>\n",
       "  </thead>\n",
       "  <tbody>\n",
       "    <tr>\n",
       "      <th>0</th>\n",
       "      <td>False</td>\n",
       "      <td>0</td>\n",
       "      <td>0</td>\n",
       "      <td>5</td>\n",
       "      <td>False</td>\n",
       "      <td>0</td>\n",
       "      <td>False</td>\n",
       "      <td>0</td>\n",
       "      <td>0</td>\n",
       "    </tr>\n",
       "    <tr>\n",
       "      <th>1</th>\n",
       "      <td>False</td>\n",
       "      <td>0</td>\n",
       "      <td>0</td>\n",
       "      <td>5</td>\n",
       "      <td>False</td>\n",
       "      <td>0</td>\n",
       "      <td>False</td>\n",
       "      <td>1</td>\n",
       "      <td>1</td>\n",
       "    </tr>\n",
       "    <tr>\n",
       "      <th>2</th>\n",
       "      <td>False</td>\n",
       "      <td>0</td>\n",
       "      <td>0</td>\n",
       "      <td>5</td>\n",
       "      <td>False</td>\n",
       "      <td>0</td>\n",
       "      <td>False</td>\n",
       "      <td>2</td>\n",
       "      <td>1</td>\n",
       "    </tr>\n",
       "    <tr>\n",
       "      <th>3</th>\n",
       "      <td>True</td>\n",
       "      <td>0</td>\n",
       "      <td>0</td>\n",
       "      <td>1</td>\n",
       "      <td>False</td>\n",
       "      <td>0</td>\n",
       "      <td>False</td>\n",
       "      <td>3</td>\n",
       "      <td>0</td>\n",
       "    </tr>\n",
       "    <tr>\n",
       "      <th>4</th>\n",
       "      <td>False</td>\n",
       "      <td>0</td>\n",
       "      <td>1</td>\n",
       "      <td>5</td>\n",
       "      <td>False</td>\n",
       "      <td>0</td>\n",
       "      <td>False</td>\n",
       "      <td>1</td>\n",
       "      <td>0</td>\n",
       "    </tr>\n",
       "  </tbody>\n",
       "</table>\n",
       "</div>"
      ],
      "text/plain": [
       "   is_arrested  driver_race  driver_gender  violation_level  search_conducted  \\\n",
       "0        False            0              0                5             False   \n",
       "1        False            0              0                5             False   \n",
       "2        False            0              0                5             False   \n",
       "3         True            0              0                1             False   \n",
       "4        False            0              1                5             False   \n",
       "\n",
       "   search_type  drugs_related_stop  stop_time_discrete_bins  driver_age_bins  \n",
       "0            0               False                        0                0  \n",
       "1            0               False                        1                1  \n",
       "2            0               False                        2                1  \n",
       "3            0               False                        3                0  \n",
       "4            0               False                        1                0  "
      ]
     },
     "execution_count": 34,
     "metadata": {},
     "output_type": "execute_result"
    }
   ],
   "source": [
    "X_kmeans = X.copy()\n",
    "\n",
    "X_kmeans.head()"
   ]
  },
  {
   "cell_type": "code",
   "execution_count": 35,
   "metadata": {
    "colab": {
     "background_save": true
    },
    "id": "thapdMXkiHpt",
    "outputId": "d72bdc31-0661-4330-a3c6-36279417c101"
   },
   "outputs": [
    {
     "name": "stderr",
     "output_type": "stream",
     "text": [
      "/Users/guilhermeleonardonunes/Mestrado/periodo_2/masters-data-science/.venv/lib/python3.11/site-packages/sklearn/cluster/_kmeans.py:870: FutureWarning: The default value of `n_init` will change from 10 to 'auto' in 1.4. Set the value of `n_init` explicitly to suppress the warning\n",
      "  warnings.warn(\n"
     ]
    },
    {
     "data": {
      "text/html": [
       "<div>\n",
       "<style scoped>\n",
       "    .dataframe tbody tr th:only-of-type {\n",
       "        vertical-align: middle;\n",
       "    }\n",
       "\n",
       "    .dataframe tbody tr th {\n",
       "        vertical-align: top;\n",
       "    }\n",
       "\n",
       "    .dataframe thead th {\n",
       "        text-align: right;\n",
       "    }\n",
       "</style>\n",
       "<table border=\"1\" class=\"dataframe\">\n",
       "  <thead>\n",
       "    <tr style=\"text-align: right;\">\n",
       "      <th></th>\n",
       "      <th>is_arrested</th>\n",
       "      <th>driver_race</th>\n",
       "      <th>driver_gender</th>\n",
       "      <th>violation_level</th>\n",
       "      <th>search_conducted</th>\n",
       "      <th>search_type</th>\n",
       "      <th>drugs_related_stop</th>\n",
       "      <th>stop_time_discrete_bins</th>\n",
       "      <th>driver_age_bins</th>\n",
       "      <th>cluster</th>\n",
       "    </tr>\n",
       "  </thead>\n",
       "  <tbody>\n",
       "    <tr>\n",
       "      <th>0</th>\n",
       "      <td>False</td>\n",
       "      <td>0</td>\n",
       "      <td>0</td>\n",
       "      <td>5</td>\n",
       "      <td>False</td>\n",
       "      <td>0</td>\n",
       "      <td>False</td>\n",
       "      <td>0</td>\n",
       "      <td>0</td>\n",
       "      <td>3</td>\n",
       "    </tr>\n",
       "    <tr>\n",
       "      <th>1</th>\n",
       "      <td>False</td>\n",
       "      <td>0</td>\n",
       "      <td>0</td>\n",
       "      <td>5</td>\n",
       "      <td>False</td>\n",
       "      <td>0</td>\n",
       "      <td>False</td>\n",
       "      <td>1</td>\n",
       "      <td>1</td>\n",
       "      <td>3</td>\n",
       "    </tr>\n",
       "    <tr>\n",
       "      <th>2</th>\n",
       "      <td>False</td>\n",
       "      <td>0</td>\n",
       "      <td>0</td>\n",
       "      <td>5</td>\n",
       "      <td>False</td>\n",
       "      <td>0</td>\n",
       "      <td>False</td>\n",
       "      <td>2</td>\n",
       "      <td>1</td>\n",
       "      <td>1</td>\n",
       "    </tr>\n",
       "    <tr>\n",
       "      <th>3</th>\n",
       "      <td>True</td>\n",
       "      <td>0</td>\n",
       "      <td>0</td>\n",
       "      <td>1</td>\n",
       "      <td>False</td>\n",
       "      <td>0</td>\n",
       "      <td>False</td>\n",
       "      <td>3</td>\n",
       "      <td>0</td>\n",
       "      <td>5</td>\n",
       "    </tr>\n",
       "    <tr>\n",
       "      <th>4</th>\n",
       "      <td>False</td>\n",
       "      <td>0</td>\n",
       "      <td>1</td>\n",
       "      <td>5</td>\n",
       "      <td>False</td>\n",
       "      <td>0</td>\n",
       "      <td>False</td>\n",
       "      <td>1</td>\n",
       "      <td>0</td>\n",
       "      <td>3</td>\n",
       "    </tr>\n",
       "  </tbody>\n",
       "</table>\n",
       "</div>"
      ],
      "text/plain": [
       "   is_arrested  driver_race  driver_gender  violation_level  search_conducted  \\\n",
       "0        False            0              0                5             False   \n",
       "1        False            0              0                5             False   \n",
       "2        False            0              0                5             False   \n",
       "3         True            0              0                1             False   \n",
       "4        False            0              1                5             False   \n",
       "\n",
       "   search_type  drugs_related_stop  stop_time_discrete_bins  driver_age_bins  \\\n",
       "0            0               False                        0                0   \n",
       "1            0               False                        1                1   \n",
       "2            0               False                        2                1   \n",
       "3            0               False                        3                0   \n",
       "4            0               False                        1                0   \n",
       "\n",
       "  cluster  \n",
       "0       3  \n",
       "1       3  \n",
       "2       1  \n",
       "3       5  \n",
       "4       3  "
      ]
     },
     "execution_count": 35,
     "metadata": {},
     "output_type": "execute_result"
    }
   ],
   "source": [
    "from sklearn.cluster import KMeans\n",
    "\n",
    "n_clusters = 6\n",
    "\n",
    "kmeans = KMeans(n_clusters=n_clusters)\n",
    "X_kmeans[\"cluster\"] = kmeans.fit_predict(X)\n",
    "X_kmeans[\"cluster\"] = X_kmeans[\"cluster\"].astype(\"category\")\n",
    "\n",
    "X_kmeans.head()"
   ]
  },
  {
   "cell_type": "code",
   "execution_count": 36,
   "metadata": {
    "colab": {
     "background_save": true
    },
    "id": "UV_0uYoO7Zw4",
    "outputId": "da204b17-32aa-4e84-eb05-667b0221e5cc"
   },
   "outputs": [
    {
     "data": {
      "text/plain": [
       "<seaborn.axisgrid.FacetGrid at 0x2a3b48050>"
      ]
     },
     "execution_count": 36,
     "metadata": {},
     "output_type": "execute_result"
    },
    {
     "data": {
      "image/png": "[encoded data removed]",
      "text/plain": [
       "<Figure size 658.875x600 with 1 Axes>"
      ]
     },
     "metadata": {},
     "output_type": "display_data"
    }
   ],
   "source": [
    "sns.relplot(\n",
    "    x=\"driver_age_bins\",\n",
    "    y=\"driver_gender\",\n",
    "    hue=\"cluster\",\n",
    "    data=X_kmeans,\n",
    "    height=n_clusters,\n",
    ")"
   ]
  },
  {
   "attachments": {},
   "cell_type": "markdown",
   "metadata": {
    "id": "YVaGJMZAtWNg"
   },
   "source": [
    "## Hypothesis"
   ]
  }
 ],
 "metadata": {
  "colab": {
   "provenance": []
  },
  "kernelspec": {
   "display_name": "Python 3",
   "name": "python3"
  },
  "language_info": {
   "codemirror_mode": {
    "name": "ipython",
    "version": 3
   },
   "file_extension": ".py",
   "mimetype": "text/x-python",
   "name": "python",
   "nbconvert_exporter": "python",
   "pygments_lexer": "ipython3",
   "version": "3.11.2"
  }
 },
 "nbformat": 4,
 "nbformat_minor": 0
}
