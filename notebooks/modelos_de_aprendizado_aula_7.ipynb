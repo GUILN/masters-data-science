{
 "cells": [
  {
   "cell_type": "markdown",
   "metadata": {},
   "source": [
    "# Aula 7 - Modelos de Aprendizado"
   ]
  },
  {
   "cell_type": "markdown",
   "metadata": {},
   "source": [
    "## Aplicar Redes Bayesianas no Dataset Police\n",
    "\n",
    "Será feito um classificador bayesiano para prever se uma parada resultará ou não em prisão."
   ]
  },
  {
   "cell_type": "code",
   "execution_count": 26,
   "metadata": {},
   "outputs": [],
   "source": [
    "import pandas as pd"
   ]
  },
  {
   "cell_type": "code",
   "execution_count": 27,
   "metadata": {},
   "outputs": [],
   "source": [
    "csv_path = \"../data/police.csv\"\n",
    "df = pd.read_csv(csv_path)"
   ]
  },
  {
   "cell_type": "code",
   "execution_count": 28,
   "metadata": {},
   "outputs": [],
   "source": [
    "from etl.main import PoliceDatasetEtl\n",
    "\n",
    "police_dataset_etl = PoliceDatasetEtl(df.copy())\n",
    "featured_df = police_dataset_etl.clean_transform()\n",
    "search_type_df = police_dataset_etl.get_search_type_df()"
   ]
  },
  {
   "cell_type": "markdown",
   "metadata": {},
   "source": [
    "### Modelo Probabilístico - Rede Bayesiana\n",
    "\n",
    "* Objetivo: Prever se uma parada policial resultará em prisão ou não\n",
    "* Utilizar classificador `Bernoli Naive Bayes`, como a distribuição do `target`(ser preso ou não) segue uma distribuição binária (`Bernouli`)\n",
    "* Utilizar a proporção 70% - 30% (70% treino, 30% teste)\n",
    "* Utilizar validação cruzada `k-fold`\n",
    "\n",
    "#### Notas:\n",
    "* **Seleção de features:** Dado a possibilidade de reutilização de trabalhos prévios sob esse dataset, as features utilizadas serão as mesmas descobertas como sendo as que possuem melhor relação de `mutual information score` com o *target* `is_arrested`, conforme utilizado no [notebook da aula 4](./etl_aula_4.ipynb). Portanto:\n",
    "    * search_type\n",
    "    * search_conducted\n",
    "    * violation_level\n",
    "    * driver_race\n",
    "* **ETL e Feature Engineering:**\n",
    "    * Está sendo utilizada a class `PoliceDatasetEtl`, desenvolvida durante as atividades anteriores. Essa classe contém métodos de limpeza, extração e engenharia da feature `violation_level` que quantifica a feature original `violation` em uma variável contínua.\n",
    "* **Comparação:** Como o modelo de árvore de decisão já foi utilizado no [notebook da aula 4](./etl_aula_4.ipynb), faremos uma comparação do desempenho utilizando o modelo bayesiano para a distribuição de Bernouli."
   ]
  },
  {
   "cell_type": "markdown",
   "metadata": {},
   "source": [
    "Selecionando e adequando as features\n",
    "\n",
    "Algumas features, incluindo o `target` deverão ser discretizados uma vez que são representadas por meio de variáveis categóricas. Para isso utilizaremos a técnica de `one hot encoder`."
   ]
  },
  {
   "cell_type": "code",
   "execution_count": 53,
   "metadata": {},
   "outputs": [],
   "source": [
    "# Please, note search type is already transformed with \"one-hot-encoding\" in search_type_df dataset\n",
    "selected_features = [\n",
    "    \"search_conducted\",\n",
    "    \"violation_level\",\n",
    "    \"driver_race\",\n",
    "]\n",
    "target = \"is_arrested\"\n",
    "\n",
    "training_df = featured_df[selected_features + [target]].copy()\n",
    "y = training_df.pop(target)\n",
    "\n"
   ]
  },
  {
   "cell_type": "markdown",
   "metadata": {},
   "source": [
    "Aplicando `one-hot-encoder`:"
   ]
  },
  {
   "cell_type": "code",
   "execution_count": 54,
   "metadata": {},
   "outputs": [],
   "source": [
    "\n",
    "# Fazendo o encoding das features categóricas\n",
    "encoded_training_df = training_df.copy()\n",
    "category_feature_to_encode = [\n",
    "    \"driver_race\", \n",
    "    \"search_conducted\",\n",
    "]\n",
    "\n",
    "# Fazendo o encoding da target\n",
    "y_encoded = y.copy()\n",
    "y_encoded = y_encoded.astype(\"category\")\n",
    "y_encoded = y_encoded.cat.codes\n",
    "\n",
    "for category in category_feature_to_encode:\n",
    "    encoded_training_df[category] = encoded_training_df[category].astype(\"category\")\n",
    "    encoded_training_df[f\"{category}_encoded\"] = encoded_training_df[category].cat.codes\n",
    "    \n",
    "encoded_training_df.pop(\"driver_race\")\n",
    "encoded_training_df.pop(\"search_conducted\")\n",
    "\n",
    "# merge training_df with search_type_df\n",
    "encoded_training_df = encoded_training_df.merge(search_type_df, left_index=True, right_index=True)\n"
   ]
  },
  {
   "cell_type": "markdown",
   "metadata": {},
   "source": [
    "Fazendo o split do dataset para treino - teste"
   ]
  },
  {
   "cell_type": "code",
   "execution_count": 55,
   "metadata": {},
   "outputs": [],
   "source": [
    "from sklearn.model_selection import train_test_split\n",
    "\n",
    "# split training dataset into train and test\n",
    "X_train, X_test, y_train, y_test = train_test_split(encoded_training_df, y_encoded, test_size=0.3, random_state=42)"
   ]
  },
  {
   "cell_type": "markdown",
   "metadata": {},
   "source": [
    "Treinando e medindo a acurácia da `Rede Bayesiana`"
   ]
  },
  {
   "cell_type": "code",
   "execution_count": 57,
   "metadata": {},
   "outputs": [
    {
     "name": "stdout",
     "output_type": "stream",
     "text": [
      "Acurácia: 95.62 %\n"
     ]
    }
   ],
   "source": [
    "from sklearn.naive_bayes import BernoulliNB\n",
    "from sklearn.metrics import accuracy_score\n",
    "\n",
    "# Inicializando o classificador Naive Bayes\n",
    "naive_bayes_classifier = BernoulliNB()\n",
    "\n",
    "# Treinando o classificador Naive Bayes com os dados de treino\n",
    "naive_bayes_classifier.fit(X_train, y_train)\n",
    "\n",
    "# Fazendo predições com o classificador Naive Bayes\n",
    "y_pred_test = naive_bayes_classifier.predict(X_test)\n",
    "\n",
    "# Medindo a acurácia do classificador Naive Bayes com os dados de teste\n",
    "acuracia = accuracy_score(y_test, y_pred_test)\n",
    "\n",
    "print(f\"Acurácia: {(acuracia * 100):.2f} %\")"
   ]
  },
  {
   "cell_type": "markdown",
   "metadata": {},
   "source": [
    "Utilizando validação cruzada: `K-fold`"
   ]
  }
 ],
 "metadata": {
  "kernelspec": {
   "display_name": ".venv",
   "language": "python",
   "name": "python3"
  },
  "language_info": {
   "codemirror_mode": {
    "name": "ipython",
    "version": 3
   },
   "file_extension": ".py",
   "mimetype": "text/x-python",
   "name": "python",
   "nbconvert_exporter": "python",
   "pygments_lexer": "ipython3",
   "version": "3.11.2"
  },
  "orig_nbformat": 4
 },
 "nbformat": 4,
 "nbformat_minor": 2
}
