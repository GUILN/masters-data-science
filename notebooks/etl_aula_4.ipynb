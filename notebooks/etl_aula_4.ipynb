{
 "cells": [
  {
   "cell_type": "markdown",
   "metadata": {},
   "source": [
    "# Aula 4 - ETL - Load\n",
    "\n",
    "**Objetivos:**\n",
    "\n",
    "- Aplicar Técnicas de Redução de Dimensão\n",
    "  - Como constatado no [notebook da aula 2 e 3](./etl_aulas_2_e_3.ipynb), há um desbalanceamento entre as raças dos motoristas - quase 3 vezes mais motoristas brancos. \n",
    "  - Aplicar técnicas de undersampling - `easy ensemble`  \n",
    "  - Analisar novamente utilizando `mutual information` se o atributo mais determinante de ser preso mudou.\n",
    "- Aplicar Técnicas de Amostragem\n",
    "    - Aplicar PCA: \n",
    "      - Treinar Árvore de Decisão e medir a acurácia \n",
    "      - Aplicar o PCA - \n",
    "      - Treinar Árvore de Decisão e medir a acurácia \n",
    "      - A acurácia mudou?\n"
   ]
  },
  {
   "cell_type": "markdown",
   "metadata": {},
   "source": [
    "## Carregando Dataset"
   ]
  },
  {
   "cell_type": "code",
   "execution_count": 1,
   "metadata": {},
   "outputs": [],
   "source": [
    "import pandas as pd\n",
    "import numpy as np\n",
    "\n",
    "pd.plotting.register_matplotlib_converters()\n",
    "import matplotlib.pyplot as plt\n",
    "\n",
    "%matplotlib inline\n",
    "import seaborn as sns"
   ]
  },
  {
   "cell_type": "code",
   "execution_count": 2,
   "metadata": {},
   "outputs": [
    {
     "data": {
      "text/html": [
       "<div>\n",
       "<style scoped>\n",
       "    .dataframe tbody tr th:only-of-type {\n",
       "        vertical-align: middle;\n",
       "    }\n",
       "\n",
       "    .dataframe tbody tr th {\n",
       "        vertical-align: top;\n",
       "    }\n",
       "\n",
       "    .dataframe thead th {\n",
       "        text-align: right;\n",
       "    }\n",
       "</style>\n",
       "<table border=\"1\" class=\"dataframe\">\n",
       "  <thead>\n",
       "    <tr style=\"text-align: right;\">\n",
       "      <th></th>\n",
       "      <th>stop_date</th>\n",
       "      <th>stop_time</th>\n",
       "      <th>county_name</th>\n",
       "      <th>driver_gender</th>\n",
       "      <th>driver_age_raw</th>\n",
       "      <th>driver_age</th>\n",
       "      <th>driver_race</th>\n",
       "      <th>violation_raw</th>\n",
       "      <th>violation</th>\n",
       "      <th>search_conducted</th>\n",
       "      <th>search_type</th>\n",
       "      <th>stop_outcome</th>\n",
       "      <th>is_arrested</th>\n",
       "      <th>stop_duration</th>\n",
       "      <th>drugs_related_stop</th>\n",
       "    </tr>\n",
       "  </thead>\n",
       "  <tbody>\n",
       "    <tr>\n",
       "      <th>0</th>\n",
       "      <td>2005-01-02</td>\n",
       "      <td>01:55</td>\n",
       "      <td>NaN</td>\n",
       "      <td>M</td>\n",
       "      <td>1985.0</td>\n",
       "      <td>20.0</td>\n",
       "      <td>White</td>\n",
       "      <td>Speeding</td>\n",
       "      <td>Speeding</td>\n",
       "      <td>False</td>\n",
       "      <td>NaN</td>\n",
       "      <td>Citation</td>\n",
       "      <td>False</td>\n",
       "      <td>0-15 Min</td>\n",
       "      <td>False</td>\n",
       "    </tr>\n",
       "    <tr>\n",
       "      <th>1</th>\n",
       "      <td>2005-01-18</td>\n",
       "      <td>08:15</td>\n",
       "      <td>NaN</td>\n",
       "      <td>M</td>\n",
       "      <td>1965.0</td>\n",
       "      <td>40.0</td>\n",
       "      <td>White</td>\n",
       "      <td>Speeding</td>\n",
       "      <td>Speeding</td>\n",
       "      <td>False</td>\n",
       "      <td>NaN</td>\n",
       "      <td>Citation</td>\n",
       "      <td>False</td>\n",
       "      <td>0-15 Min</td>\n",
       "      <td>False</td>\n",
       "    </tr>\n",
       "    <tr>\n",
       "      <th>2</th>\n",
       "      <td>2005-01-23</td>\n",
       "      <td>23:15</td>\n",
       "      <td>NaN</td>\n",
       "      <td>M</td>\n",
       "      <td>1972.0</td>\n",
       "      <td>33.0</td>\n",
       "      <td>White</td>\n",
       "      <td>Speeding</td>\n",
       "      <td>Speeding</td>\n",
       "      <td>False</td>\n",
       "      <td>NaN</td>\n",
       "      <td>Citation</td>\n",
       "      <td>False</td>\n",
       "      <td>0-15 Min</td>\n",
       "      <td>False</td>\n",
       "    </tr>\n",
       "    <tr>\n",
       "      <th>3</th>\n",
       "      <td>2005-02-20</td>\n",
       "      <td>17:15</td>\n",
       "      <td>NaN</td>\n",
       "      <td>M</td>\n",
       "      <td>1986.0</td>\n",
       "      <td>19.0</td>\n",
       "      <td>White</td>\n",
       "      <td>Call for Service</td>\n",
       "      <td>Other</td>\n",
       "      <td>False</td>\n",
       "      <td>NaN</td>\n",
       "      <td>Arrest Driver</td>\n",
       "      <td>True</td>\n",
       "      <td>16-30 Min</td>\n",
       "      <td>False</td>\n",
       "    </tr>\n",
       "    <tr>\n",
       "      <th>4</th>\n",
       "      <td>2005-03-14</td>\n",
       "      <td>10:00</td>\n",
       "      <td>NaN</td>\n",
       "      <td>F</td>\n",
       "      <td>1984.0</td>\n",
       "      <td>21.0</td>\n",
       "      <td>White</td>\n",
       "      <td>Speeding</td>\n",
       "      <td>Speeding</td>\n",
       "      <td>False</td>\n",
       "      <td>NaN</td>\n",
       "      <td>Citation</td>\n",
       "      <td>False</td>\n",
       "      <td>0-15 Min</td>\n",
       "      <td>False</td>\n",
       "    </tr>\n",
       "  </tbody>\n",
       "</table>\n",
       "</div>"
      ],
      "text/plain": [
       "    stop_date stop_time  county_name driver_gender  driver_age_raw  \\\n",
       "0  2005-01-02     01:55          NaN             M          1985.0   \n",
       "1  2005-01-18     08:15          NaN             M          1965.0   \n",
       "2  2005-01-23     23:15          NaN             M          1972.0   \n",
       "3  2005-02-20     17:15          NaN             M          1986.0   \n",
       "4  2005-03-14     10:00          NaN             F          1984.0   \n",
       "\n",
       "   driver_age driver_race     violation_raw violation  search_conducted  \\\n",
       "0        20.0       White          Speeding  Speeding             False   \n",
       "1        40.0       White          Speeding  Speeding             False   \n",
       "2        33.0       White          Speeding  Speeding             False   \n",
       "3        19.0       White  Call for Service     Other             False   \n",
       "4        21.0       White          Speeding  Speeding             False   \n",
       "\n",
       "  search_type   stop_outcome is_arrested stop_duration  drugs_related_stop  \n",
       "0         NaN       Citation       False      0-15 Min               False  \n",
       "1         NaN       Citation       False      0-15 Min               False  \n",
       "2         NaN       Citation       False      0-15 Min               False  \n",
       "3         NaN  Arrest Driver        True     16-30 Min               False  \n",
       "4         NaN       Citation       False      0-15 Min               False  "
      ]
     },
     "execution_count": 2,
     "metadata": {},
     "output_type": "execute_result"
    }
   ],
   "source": [
    "csv_path = \"../data/police.csv\"\n",
    "df = pd.read_csv(csv_path)\n",
    "df.fillna(\"NA\")\n",
    "df.head()"
   ]
  },
  {
   "cell_type": "code",
   "execution_count": 3,
   "metadata": {},
   "outputs": [],
   "source": [
    "from etl.main import PoliceDatasetEtl\n",
    "\n",
    "\n",
    "police_dataset_etl = PoliceDatasetEtl(df)\n",
    "featured_df = police_dataset_etl.clean_transform()"
   ]
  },
  {
   "cell_type": "code",
   "execution_count": 4,
   "metadata": {},
   "outputs": [
    {
     "data": {
      "text/html": [
       "<div>\n",
       "<style scoped>\n",
       "    .dataframe tbody tr th:only-of-type {\n",
       "        vertical-align: middle;\n",
       "    }\n",
       "\n",
       "    .dataframe tbody tr th {\n",
       "        vertical-align: top;\n",
       "    }\n",
       "\n",
       "    .dataframe thead th {\n",
       "        text-align: right;\n",
       "    }\n",
       "</style>\n",
       "<table border=\"1\" class=\"dataframe\">\n",
       "  <thead>\n",
       "    <tr style=\"text-align: right;\">\n",
       "      <th></th>\n",
       "      <th>stop_date</th>\n",
       "      <th>stop_time</th>\n",
       "      <th>county_name</th>\n",
       "      <th>driver_gender</th>\n",
       "      <th>driver_age_raw</th>\n",
       "      <th>driver_age</th>\n",
       "      <th>driver_race</th>\n",
       "      <th>violation_raw</th>\n",
       "      <th>violation</th>\n",
       "      <th>search_conducted</th>\n",
       "      <th>...</th>\n",
       "      <th>stop_duration</th>\n",
       "      <th>drugs_related_stop</th>\n",
       "      <th>stop_outcome_level</th>\n",
       "      <th>violation_level</th>\n",
       "      <th>proportional_stop_outcome</th>\n",
       "      <th>stop_time_discrete</th>\n",
       "      <th>is_black_or_hispanic</th>\n",
       "      <th>stop_time_discrete_bins</th>\n",
       "      <th>driver_age_bins</th>\n",
       "      <th>counter</th>\n",
       "    </tr>\n",
       "  </thead>\n",
       "  <tbody>\n",
       "    <tr>\n",
       "      <th>0</th>\n",
       "      <td>2005-01-02</td>\n",
       "      <td>01:55</td>\n",
       "      <td>NaN</td>\n",
       "      <td>M</td>\n",
       "      <td>1985.0</td>\n",
       "      <td>20.0</td>\n",
       "      <td>White</td>\n",
       "      <td>Speeding</td>\n",
       "      <td>Speeding</td>\n",
       "      <td>False</td>\n",
       "      <td>...</td>\n",
       "      <td>0-15 Min</td>\n",
       "      <td>False</td>\n",
       "      <td>3</td>\n",
       "      <td>5</td>\n",
       "      <td>0.6</td>\n",
       "      <td>155</td>\n",
       "      <td>False</td>\n",
       "      <td>dawn</td>\n",
       "      <td>jovem</td>\n",
       "      <td>1</td>\n",
       "    </tr>\n",
       "    <tr>\n",
       "      <th>1</th>\n",
       "      <td>2005-01-18</td>\n",
       "      <td>08:15</td>\n",
       "      <td>NaN</td>\n",
       "      <td>M</td>\n",
       "      <td>1965.0</td>\n",
       "      <td>40.0</td>\n",
       "      <td>White</td>\n",
       "      <td>Speeding</td>\n",
       "      <td>Speeding</td>\n",
       "      <td>False</td>\n",
       "      <td>...</td>\n",
       "      <td>0-15 Min</td>\n",
       "      <td>False</td>\n",
       "      <td>3</td>\n",
       "      <td>5</td>\n",
       "      <td>0.6</td>\n",
       "      <td>815</td>\n",
       "      <td>False</td>\n",
       "      <td>morning</td>\n",
       "      <td>adulto</td>\n",
       "      <td>1</td>\n",
       "    </tr>\n",
       "    <tr>\n",
       "      <th>2</th>\n",
       "      <td>2005-01-23</td>\n",
       "      <td>23:15</td>\n",
       "      <td>NaN</td>\n",
       "      <td>M</td>\n",
       "      <td>1972.0</td>\n",
       "      <td>33.0</td>\n",
       "      <td>White</td>\n",
       "      <td>Speeding</td>\n",
       "      <td>Speeding</td>\n",
       "      <td>False</td>\n",
       "      <td>...</td>\n",
       "      <td>0-15 Min</td>\n",
       "      <td>False</td>\n",
       "      <td>3</td>\n",
       "      <td>5</td>\n",
       "      <td>0.6</td>\n",
       "      <td>2315</td>\n",
       "      <td>False</td>\n",
       "      <td>night</td>\n",
       "      <td>adulto</td>\n",
       "      <td>1</td>\n",
       "    </tr>\n",
       "    <tr>\n",
       "      <th>3</th>\n",
       "      <td>2005-02-20</td>\n",
       "      <td>17:15</td>\n",
       "      <td>NaN</td>\n",
       "      <td>M</td>\n",
       "      <td>1986.0</td>\n",
       "      <td>19.0</td>\n",
       "      <td>White</td>\n",
       "      <td>Call for Service</td>\n",
       "      <td>Other</td>\n",
       "      <td>False</td>\n",
       "      <td>...</td>\n",
       "      <td>16-30 Min</td>\n",
       "      <td>False</td>\n",
       "      <td>5</td>\n",
       "      <td>1</td>\n",
       "      <td>5.0</td>\n",
       "      <td>1715</td>\n",
       "      <td>False</td>\n",
       "      <td>evening</td>\n",
       "      <td>jovem</td>\n",
       "      <td>1</td>\n",
       "    </tr>\n",
       "    <tr>\n",
       "      <th>4</th>\n",
       "      <td>2005-03-14</td>\n",
       "      <td>10:00</td>\n",
       "      <td>NaN</td>\n",
       "      <td>F</td>\n",
       "      <td>1984.0</td>\n",
       "      <td>21.0</td>\n",
       "      <td>White</td>\n",
       "      <td>Speeding</td>\n",
       "      <td>Speeding</td>\n",
       "      <td>False</td>\n",
       "      <td>...</td>\n",
       "      <td>0-15 Min</td>\n",
       "      <td>False</td>\n",
       "      <td>3</td>\n",
       "      <td>5</td>\n",
       "      <td>0.6</td>\n",
       "      <td>1000</td>\n",
       "      <td>False</td>\n",
       "      <td>morning</td>\n",
       "      <td>jovem</td>\n",
       "      <td>1</td>\n",
       "    </tr>\n",
       "  </tbody>\n",
       "</table>\n",
       "<p>5 rows × 23 columns</p>\n",
       "</div>"
      ],
      "text/plain": [
       "    stop_date stop_time  county_name driver_gender  driver_age_raw  \\\n",
       "0  2005-01-02     01:55          NaN             M          1985.0   \n",
       "1  2005-01-18     08:15          NaN             M          1965.0   \n",
       "2  2005-01-23     23:15          NaN             M          1972.0   \n",
       "3  2005-02-20     17:15          NaN             M          1986.0   \n",
       "4  2005-03-14     10:00          NaN             F          1984.0   \n",
       "\n",
       "   driver_age driver_race     violation_raw violation  search_conducted  ...  \\\n",
       "0        20.0       White          Speeding  Speeding             False  ...   \n",
       "1        40.0       White          Speeding  Speeding             False  ...   \n",
       "2        33.0       White          Speeding  Speeding             False  ...   \n",
       "3        19.0       White  Call for Service     Other             False  ...   \n",
       "4        21.0       White          Speeding  Speeding             False  ...   \n",
       "\n",
       "  stop_duration drugs_related_stop  stop_outcome_level violation_level  \\\n",
       "0      0-15 Min              False                   3               5   \n",
       "1      0-15 Min              False                   3               5   \n",
       "2      0-15 Min              False                   3               5   \n",
       "3     16-30 Min              False                   5               1   \n",
       "4      0-15 Min              False                   3               5   \n",
       "\n",
       "   proportional_stop_outcome  stop_time_discrete  is_black_or_hispanic  \\\n",
       "0                        0.6                 155                 False   \n",
       "1                        0.6                 815                 False   \n",
       "2                        0.6                2315                 False   \n",
       "3                        5.0                1715                 False   \n",
       "4                        0.6                1000                 False   \n",
       "\n",
       "   stop_time_discrete_bins  driver_age_bins  counter  \n",
       "0                     dawn            jovem        1  \n",
       "1                  morning           adulto        1  \n",
       "2                    night           adulto        1  \n",
       "3                  evening            jovem        1  \n",
       "4                  morning            jovem        1  \n",
       "\n",
       "[5 rows x 23 columns]"
      ]
     },
     "metadata": {},
     "output_type": "display_data"
    },
    {
     "name": "stdout",
     "output_type": "stream",
     "text": [
      "Baseline features:\n"
     ]
    },
    {
     "data": {
      "text/plain": [
       "None"
      ]
     },
     "metadata": {},
     "output_type": "display_data"
    },
    {
     "data": {
      "text/plain": [
       "['is_arrested',\n",
       " 'driver_race',\n",
       " 'driver_gender',\n",
       " 'stop_outcome_level',\n",
       " 'violation_level',\n",
       " 'search_conducted',\n",
       " 'search_type',\n",
       " 'drugs_related_stop',\n",
       " 'stop_time_discrete_bins',\n",
       " 'driver_age_bins']"
      ]
     },
     "metadata": {},
     "output_type": "display_data"
    }
   ],
   "source": [
    "display(featured_df.head())\n",
    "display(print(\"Baseline features:\"))\n",
    "display(police_dataset_etl.baseline_features)"
   ]
  },
  {
   "cell_type": "markdown",
   "metadata": {},
   "source": [
    "## Utilizando Mutual Information no Raw Dataset"
   ]
  },
  {
   "cell_type": "code",
   "execution_count": 5,
   "metadata": {},
   "outputs": [],
   "source": [
    "from sklearn.feature_selection import mutual_info_regression\n",
    "\n",
    "class CalculateMI:\n",
    "    \"\"\"\n",
    "    Calculate the mutual information between each feature and the target\n",
    "    \"\"\"\n",
    "    def __init__(self,\n",
    "        df: pd.DataFrame,\n",
    "        target: str,\n",
    "        baseline_features: list,\n",
    "        categorical_features: list,\n",
    "    ):\n",
    "        self._df = df\n",
    "        self._target = target\n",
    "        self._baseline_features = baseline_features\n",
    "        self._categorical_features = categorical_features \n",
    "        \n",
    "    def calculate_mi_scores(self) -> pd.Series:\n",
    "        \"\"\"\n",
    "        Calculate the mutual information between each feature and the target\n",
    "        \"\"\"\n",
    "        X, y = self._get_x_y()\n",
    "        X, discrete_features = self._factorize(X)\n",
    "        \n",
    "        mi_scores = mutual_info_regression(\n",
    "            X,\n",
    "            y,\n",
    "            discrete_features=discrete_features,\n",
    "        )\n",
    "        mi_scores = pd.Series(mi_scores, name=\"MI Scores\", index=X.columns)\n",
    "        mi_scores = mi_scores.sort_values(ascending=False)\n",
    "        return mi_scores\n",
    "    \n",
    "    def _get_x_y(self) -> tuple:\n",
    "        \"\"\"\n",
    "        Returns X and y to calculate MI\n",
    "        \"\"\"\n",
    "        X = self._df.copy()\n",
    "        y = X.pop(self._target)\n",
    "        X = X[self._baseline_features]\n",
    "        return X, y\n",
    "    \n",
    "    def _factorize(self, X: pd.DataFrame) -> tuple:\n",
    "        \"\"\"\n",
    "        Factorize categorical features and return X and discrete_features\n",
    "        \"\"\"\n",
    "        for col in X.select_dtypes(\"object\"):\n",
    "            X[col], _ = X[col].factorize()\n",
    "            \n",
    "        for col in self._categorical_features:\n",
    "            X[col], _ = X[col].factorize()\n",
    "            \n",
    "\n",
    "        \n",
    "        discrete_features = X.dtypes == int\n",
    "        return X, discrete_features\n",
    "    \n"
   ]
  },
  {
   "cell_type": "code",
   "execution_count": 6,
   "metadata": {},
   "outputs": [],
   "source": [
    "X = featured_df.copy()\n",
    "X.pop(\"stop_outcome_level\")\n",
    "\n",
    "mi_baseline_f = police_dataset_etl.baseline_features\n",
    "\n",
    "for attribute_to_remove in [\"stop_outcome_level\", \"is_arrested\", \"driver_gender\"]:\n",
    "    mi_baseline_f.remove(attribute_to_remove)\n",
    "\n",
    "mi_categorical_f = [\"stop_time_discrete_bins\", \"driver_age_bins\"]\n",
    "\n",
    "raw_calculate_mi = CalculateMI(\n",
    "    df=X,\n",
    "    target=\"is_arrested\",\n",
    "    baseline_features=mi_baseline_f,\n",
    "    categorical_features=mi_categorical_f,\n",
    ")\n",
    "\n",
    "mi_scores = raw_calculate_mi.calculate_mi_scores()"
   ]
  },
  {
   "cell_type": "code",
   "execution_count": 7,
   "metadata": {},
   "outputs": [],
   "source": [
    "## Defining Plot Function\n",
    "def plot_mi_scores(scores, title = \"RAW - Mutual Information Scores\"):\n",
    "    plt.figure(dpi=100, figsize=(8, 2))\n",
    "    scores = scores.sort_values(ascending=True)\n",
    "    width = np.arange(len(scores))\n",
    "    ticks = list(scores.index)\n",
    "    plt.barh(width, scores)\n",
    "    plt.yticks(width, ticks)\n",
    "    plt.title(title)"
   ]
  },
  {
   "cell_type": "code",
   "execution_count": 8,
   "metadata": {},
   "outputs": [
    {
     "data": {
      "image/png": "[encoded data removed]",
      "text/plain": [
       "<Figure size 800x200 with 1 Axes>"
      ]
     },
     "metadata": {},
     "output_type": "display_data"
    }
   ],
   "source": [
    "plot_mi_scores(mi_scores)"
   ]
  },
  {
   "cell_type": "markdown",
   "metadata": {},
   "source": [
    "## Aplicando Easy Ensemble no Dataset\n",
    "\n",
    "- Após a aplicação do `easy ensemble`, o atributo mais determinante de ser preso mudou?\n",
    "  - Resposta: SIM, o atributo de raça passou a ser mais determinante que o gênero"
   ]
  },
  {
   "cell_type": "code",
   "execution_count": 9,
   "metadata": {},
   "outputs": [
    {
     "data": {
      "text/plain": [
       "'white drivers:'"
      ]
     },
     "metadata": {},
     "output_type": "display_data"
    },
    {
     "data": {
      "text/plain": [
       "62158"
      ]
     },
     "metadata": {},
     "output_type": "display_data"
    },
    {
     "data": {
      "text/plain": [
       "'non white drivers:'"
      ]
     },
     "metadata": {},
     "output_type": "display_data"
    },
    {
     "data": {
      "text/plain": [
       "29583"
      ]
     },
     "metadata": {},
     "output_type": "display_data"
    },
    {
     "data": {
      "text/plain": [
       "'imbalance:'"
      ]
     },
     "metadata": {},
     "output_type": "display_data"
    },
    {
     "data": {
      "text/plain": [
       "2"
      ]
     },
     "metadata": {},
     "output_type": "display_data"
    }
   ],
   "source": [
    "ee_df = X.copy()\n",
    "\n",
    "white_count = ee_df[ee_df.driver_race == \"White\"].counter.count()\n",
    "non_white_count = ee_df[ee_df.driver_race != \"White\"].counter.count()\n",
    "\n",
    "display(\"white drivers:\")\n",
    "display(white_count)\n",
    "\n",
    "display(\"non white drivers:\")\n",
    "display(non_white_count)\n",
    "\n",
    "imbalance = white_count // non_white_count\n",
    "display(\"imbalance:\")\n",
    "display(imbalance)\n",
    "\n",
    "# generate a random sample of white drivers plus the non white drivers\n",
    "resampled_ensembled_df_1 = (\n",
    "    ee_df[ee_df.driver_race == \"White\"].sample(n=non_white_count, random_state=1).copy()\n",
    ")\n",
    "\n",
    "resampled_ensembled_df_2 = (\n",
    "    ee_df[ee_df.driver_race == \"White\"].sample(n=non_white_count, random_state=2).copy()\n",
    ")\n",
    "\n",
    "resampled_ensembled_df_1 = pd.concat([resampled_ensembled_df_1, ee_df[ee_df.driver_race != \"White\"].copy()])\n",
    "resampled_ensembled_df_2 = pd.concat([resampled_ensembled_df_2, ee_df[ee_df.driver_race != \"White\"].copy()])\n"
   ]
  },
  {
   "cell_type": "code",
   "execution_count": 10,
   "metadata": {},
   "outputs": [
    {
     "data": {
      "image/png": "[encoded data removed]",
      "text/plain": [
       "<Figure size 800x200 with 1 Axes>"
      ]
     },
     "metadata": {},
     "output_type": "display_data"
    }
   ],
   "source": [
    "\n",
    "ensemble_1_calculate_mi = CalculateMI(\n",
    "    df=resampled_ensembled_df_1,\n",
    "    target=\"is_arrested\",\n",
    "    baseline_features=mi_baseline_f,\n",
    "    categorical_features=mi_categorical_f,\n",
    ")\n",
    "\n",
    "mi_scores = raw_calculate_mi.calculate_mi_scores()\n",
    "plot_mi_scores(mi_scores, title=\"Ensemble 1 - Mutual Information Scores\")"
   ]
  },
  {
   "cell_type": "code",
   "execution_count": 11,
   "metadata": {},
   "outputs": [
    {
     "data": {
      "image/png": "[encoded data removed]",
      "text/plain": [
       "<Figure size 800x200 with 1 Axes>"
      ]
     },
     "metadata": {},
     "output_type": "display_data"
    }
   ],
   "source": [
    "ensemble_2_calculate_mi = CalculateMI(\n",
    "    df=resampled_ensembled_df_2,\n",
    "    target=\"is_arrested\",\n",
    "    baseline_features=mi_baseline_f,\n",
    "    categorical_features=mi_categorical_f,\n",
    ")\n",
    "\n",
    "mi_scores = raw_calculate_mi.calculate_mi_scores()\n",
    "plot_mi_scores(mi_scores, title=\"Ensemble 2 - Mutual Information Scores\")"
   ]
  },
  {
   "cell_type": "markdown",
   "metadata": {},
   "source": [
    "## Selecionar Atributos mais Determinantes"
   ]
  },
  {
   "cell_type": "code",
   "execution_count": 12,
   "metadata": {},
   "outputs": [],
   "source": [
    "most_important_features = [\n",
    "    \"search_type\",\n",
    "    \"search_conducted\",\n",
    "    \"violation_level\",\n",
    "    \"driver_race\",\n",
    "    \"drugs_related_stop\",\n",
    "]"
   ]
  },
  {
   "cell_type": "markdown",
   "metadata": {},
   "source": [
    "## Treinar Uma Árvore de Decisão e Medir a Acurácia"
   ]
  },
  {
   "cell_type": "code",
   "execution_count": 13,
   "metadata": {},
   "outputs": [
    {
     "name": "stdout",
     "output_type": "stream",
     "text": [
      "Y => False\n"
     ]
    },
    {
     "data": {
      "text/plain": [
       "None"
      ]
     },
     "metadata": {},
     "output_type": "display_data"
    }
   ],
   "source": [
    "from sklearn import tree\n",
    "from matplotlib import pyplot as plt\n",
    "\n",
    "X_tree = resampled_ensembled_df_1.copy()\n",
    "y_tree = X_tree.pop(\"is_arrested\")\n",
    "X_tree = pd.get_dummies(X_tree[most_important_features], drop_first=False)\n",
    "\n",
    "display(print(f\"Y => {y_tree.hasnans}\"))\n",
    "\n",
    "clf = tree.DecisionTreeClassifier(random_state=0)\n",
    "clf = clf.fit(X_tree, y_tree)"
   ]
  },
  {
   "cell_type": "code",
   "execution_count": 14,
   "metadata": {},
   "outputs": [
    {
     "data": {
      "image/png": "[encoded data removed]",
      "text/plain": [
       "<Figure size 640x480 with 1 Axes>"
      ]
     },
     "metadata": {},
     "output_type": "display_data"
    },
    {
     "data": {
      "text/plain": [
       "<Figure size 1000x1000 with 0 Axes>"
      ]
     },
     "metadata": {},
     "output_type": "display_data"
    }
   ],
   "source": [
    "tree.plot_tree(clf, feature_names=X_tree.columns, fontsize=5)\n",
    "plt.figure(dpi=100, figsize=(10, 10))\n",
    "plt.show()"
   ]
  },
  {
   "cell_type": "code",
   "execution_count": 15,
   "metadata": {},
   "outputs": [],
   "source": [
    "from sklearn.metrics import accuracy_score\n",
    "from sklearn.model_selection import train_test_split\n",
    "\n",
    "def test_and_measure_decision_tree(df: pd.DataFrame, features: list, target: str) -> str:\n",
    "    X_tree = df.copy()\n",
    "    y_tree = X_tree.pop(target)\n",
    "    X_tree = pd.get_dummies(X_tree[features], drop_first=False)\n",
    "    X_tree_train, X_tree_test, y_tree_train, y_tree_test = train_test_split(X_tree, y_tree, test_size=0.2, random_state=42)\n",
    "    \n",
    "    clf = tree.DecisionTreeClassifier(random_state=0)\n",
    "    clf = clf.fit(X_tree_train, y_tree_train)\n",
    "    y_tree_pred = clf.predict(X_tree_test)\n",
    "    \n",
    "    accuracy = accuracy_score(y_tree_test, y_tree_pred)\n",
    "    return f\"Accuracy: {(accuracy * 100):.2f} %\"\n"
   ]
  },
  {
   "cell_type": "code",
   "execution_count": 16,
   "metadata": {},
   "outputs": [
    {
     "name": "stdout",
     "output_type": "stream",
     "text": [
      "Test - Acurácia com as features mais importantes (sem PCA):\n"
     ]
    },
    {
     "data": {
      "text/plain": [
       "None"
      ]
     },
     "metadata": {},
     "output_type": "display_data"
    },
    {
     "name": "stdout",
     "output_type": "stream",
     "text": [
      "Accuracy: 96.86 %\n"
     ]
    },
    {
     "data": {
      "text/plain": [
       "None"
      ]
     },
     "metadata": {},
     "output_type": "display_data"
    }
   ],
   "source": [
    "display(print(\"Test - Acurácia com as features mais importantes (sem PCA):\"))\n",
    "\n",
    "accuracy = test_and_measure_decision_tree(\n",
    "    df=featured_df,\n",
    "    features=most_important_features,\n",
    "    target=\"is_arrested\",\n",
    ")\n",
    "\n",
    "display(print(accuracy))"
   ]
  },
  {
   "cell_type": "code",
   "execution_count": 17,
   "metadata": {},
   "outputs": [
    {
     "data": {
      "text/plain": [
       "['drugs_related_stop',\n",
       " 'incident_to_arrest',\n",
       " 'protective_frisk',\n",
       " 'probable_cause',\n",
       " 'reasonable_suspicion',\n",
       " 'inventory']"
      ]
     },
     "metadata": {},
     "output_type": "display_data"
    },
    {
     "data": {
      "text/html": [
       "<div>\n",
       "<style scoped>\n",
       "    .dataframe tbody tr th:only-of-type {\n",
       "        vertical-align: middle;\n",
       "    }\n",
       "\n",
       "    .dataframe tbody tr th {\n",
       "        vertical-align: top;\n",
       "    }\n",
       "\n",
       "    .dataframe thead th {\n",
       "        text-align: right;\n",
       "    }\n",
       "</style>\n",
       "<table border=\"1\" class=\"dataframe\">\n",
       "  <thead>\n",
       "    <tr style=\"text-align: right;\">\n",
       "      <th></th>\n",
       "      <th>stop_date</th>\n",
       "      <th>stop_time</th>\n",
       "      <th>county_name</th>\n",
       "      <th>driver_gender</th>\n",
       "      <th>driver_age_raw</th>\n",
       "      <th>driver_age</th>\n",
       "      <th>driver_race</th>\n",
       "      <th>violation_raw</th>\n",
       "      <th>violation</th>\n",
       "      <th>search_conducted</th>\n",
       "      <th>...</th>\n",
       "      <th>stop_time_discrete</th>\n",
       "      <th>is_black_or_hispanic</th>\n",
       "      <th>stop_time_discrete_bins</th>\n",
       "      <th>driver_age_bins</th>\n",
       "      <th>counter</th>\n",
       "      <th>incident_to_arrest</th>\n",
       "      <th>protective_frisk</th>\n",
       "      <th>probable_cause</th>\n",
       "      <th>reasonable_suspicion</th>\n",
       "      <th>inventory</th>\n",
       "    </tr>\n",
       "  </thead>\n",
       "  <tbody>\n",
       "    <tr>\n",
       "      <th>0</th>\n",
       "      <td>2005-01-02</td>\n",
       "      <td>01:55</td>\n",
       "      <td>NaN</td>\n",
       "      <td>M</td>\n",
       "      <td>1985.0</td>\n",
       "      <td>20.0</td>\n",
       "      <td>White</td>\n",
       "      <td>Speeding</td>\n",
       "      <td>Speeding</td>\n",
       "      <td>False</td>\n",
       "      <td>...</td>\n",
       "      <td>155</td>\n",
       "      <td>False</td>\n",
       "      <td>dawn</td>\n",
       "      <td>jovem</td>\n",
       "      <td>1</td>\n",
       "      <td>0</td>\n",
       "      <td>0</td>\n",
       "      <td>0</td>\n",
       "      <td>0</td>\n",
       "      <td>0</td>\n",
       "    </tr>\n",
       "    <tr>\n",
       "      <th>1</th>\n",
       "      <td>2005-01-18</td>\n",
       "      <td>08:15</td>\n",
       "      <td>NaN</td>\n",
       "      <td>M</td>\n",
       "      <td>1965.0</td>\n",
       "      <td>40.0</td>\n",
       "      <td>White</td>\n",
       "      <td>Speeding</td>\n",
       "      <td>Speeding</td>\n",
       "      <td>False</td>\n",
       "      <td>...</td>\n",
       "      <td>815</td>\n",
       "      <td>False</td>\n",
       "      <td>morning</td>\n",
       "      <td>adulto</td>\n",
       "      <td>1</td>\n",
       "      <td>0</td>\n",
       "      <td>0</td>\n",
       "      <td>0</td>\n",
       "      <td>0</td>\n",
       "      <td>0</td>\n",
       "    </tr>\n",
       "    <tr>\n",
       "      <th>2</th>\n",
       "      <td>2005-01-23</td>\n",
       "      <td>23:15</td>\n",
       "      <td>NaN</td>\n",
       "      <td>M</td>\n",
       "      <td>1972.0</td>\n",
       "      <td>33.0</td>\n",
       "      <td>White</td>\n",
       "      <td>Speeding</td>\n",
       "      <td>Speeding</td>\n",
       "      <td>False</td>\n",
       "      <td>...</td>\n",
       "      <td>2315</td>\n",
       "      <td>False</td>\n",
       "      <td>night</td>\n",
       "      <td>adulto</td>\n",
       "      <td>1</td>\n",
       "      <td>0</td>\n",
       "      <td>0</td>\n",
       "      <td>0</td>\n",
       "      <td>0</td>\n",
       "      <td>0</td>\n",
       "    </tr>\n",
       "    <tr>\n",
       "      <th>3</th>\n",
       "      <td>2005-02-20</td>\n",
       "      <td>17:15</td>\n",
       "      <td>NaN</td>\n",
       "      <td>M</td>\n",
       "      <td>1986.0</td>\n",
       "      <td>19.0</td>\n",
       "      <td>White</td>\n",
       "      <td>Call for Service</td>\n",
       "      <td>Other</td>\n",
       "      <td>False</td>\n",
       "      <td>...</td>\n",
       "      <td>1715</td>\n",
       "      <td>False</td>\n",
       "      <td>evening</td>\n",
       "      <td>jovem</td>\n",
       "      <td>1</td>\n",
       "      <td>0</td>\n",
       "      <td>0</td>\n",
       "      <td>0</td>\n",
       "      <td>0</td>\n",
       "      <td>0</td>\n",
       "    </tr>\n",
       "    <tr>\n",
       "      <th>4</th>\n",
       "      <td>2005-03-14</td>\n",
       "      <td>10:00</td>\n",
       "      <td>NaN</td>\n",
       "      <td>F</td>\n",
       "      <td>1984.0</td>\n",
       "      <td>21.0</td>\n",
       "      <td>White</td>\n",
       "      <td>Speeding</td>\n",
       "      <td>Speeding</td>\n",
       "      <td>False</td>\n",
       "      <td>...</td>\n",
       "      <td>1000</td>\n",
       "      <td>False</td>\n",
       "      <td>morning</td>\n",
       "      <td>jovem</td>\n",
       "      <td>1</td>\n",
       "      <td>0</td>\n",
       "      <td>0</td>\n",
       "      <td>0</td>\n",
       "      <td>0</td>\n",
       "      <td>0</td>\n",
       "    </tr>\n",
       "  </tbody>\n",
       "</table>\n",
       "<p>5 rows × 28 columns</p>\n",
       "</div>"
      ],
      "text/plain": [
       "    stop_date stop_time  county_name driver_gender  driver_age_raw  \\\n",
       "0  2005-01-02     01:55          NaN             M          1985.0   \n",
       "1  2005-01-18     08:15          NaN             M          1965.0   \n",
       "2  2005-01-23     23:15          NaN             M          1972.0   \n",
       "3  2005-02-20     17:15          NaN             M          1986.0   \n",
       "4  2005-03-14     10:00          NaN             F          1984.0   \n",
       "\n",
       "   driver_age driver_race     violation_raw violation  search_conducted  ...  \\\n",
       "0        20.0       White          Speeding  Speeding             False  ...   \n",
       "1        40.0       White          Speeding  Speeding             False  ...   \n",
       "2        33.0       White          Speeding  Speeding             False  ...   \n",
       "3        19.0       White  Call for Service     Other             False  ...   \n",
       "4        21.0       White          Speeding  Speeding             False  ...   \n",
       "\n",
       "  stop_time_discrete is_black_or_hispanic  stop_time_discrete_bins  \\\n",
       "0                155                False                     dawn   \n",
       "1                815                False                  morning   \n",
       "2               2315                False                    night   \n",
       "3               1715                False                  evening   \n",
       "4               1000                False                  morning   \n",
       "\n",
       "  driver_age_bins  counter  incident_to_arrest  protective_frisk  \\\n",
       "0           jovem        1                   0                 0   \n",
       "1          adulto        1                   0                 0   \n",
       "2          adulto        1                   0                 0   \n",
       "3           jovem        1                   0                 0   \n",
       "4           jovem        1                   0                 0   \n",
       "\n",
       "   probable_cause  reasonable_suspicion  inventory  \n",
       "0               0                     0          0  \n",
       "1               0                     0          0  \n",
       "2               0                     0          0  \n",
       "3               0                     0          0  \n",
       "4               0                     0          0  \n",
       "\n",
       "[5 rows x 28 columns]"
      ]
     },
     "metadata": {},
     "output_type": "display_data"
    },
    {
     "name": "stdout",
     "output_type": "stream",
     "text": [
      "Test - Acurácia com as utilizando features de search type:\n"
     ]
    },
    {
     "data": {
      "text/plain": [
       "None"
      ]
     },
     "metadata": {},
     "output_type": "display_data"
    },
    {
     "name": "stdout",
     "output_type": "stream",
     "text": [
      "Accuracy: 96.89 %\n"
     ]
    },
    {
     "data": {
      "text/plain": [
       "None"
      ]
     },
     "metadata": {},
     "output_type": "display_data"
    }
   ],
   "source": [
    "\n",
    "most_important_features_for_st = [\n",
    "    # \"search_type\",\n",
    "    # \"search_conducted\",\n",
    "    # \"violation_level\",\n",
    "    # \"driver_race\",\n",
    "    \"drugs_related_stop\",\n",
    "]\n",
    "most_important_feature_plus_search_type_features = most_important_features_for_st.copy()\n",
    "for search_type in police_dataset_etl.all_search_types_columns:\n",
    "    most_important_feature_plus_search_type_features.append(search_type)\n",
    "\n",
    "search_type_df = police_dataset_etl.get_search_type_df()    \n",
    "complete_df = pd.concat([featured_df, search_type_df], axis=1)\n",
    "display(most_important_feature_plus_search_type_features)\n",
    "display(complete_df.head())\n",
    "\n",
    "accuracy = test_and_measure_decision_tree(\n",
    "    df=complete_df,\n",
    "    features=most_important_feature_plus_search_type_features,\n",
    "    target=\"is_arrested\",\n",
    ")\n",
    "\n",
    "display(print(\"Test - Acurácia com as utilizando features de search type:\"))\n",
    "display(print(accuracy))"
   ]
  },
  {
   "cell_type": "markdown",
   "metadata": {},
   "source": [
    "## Aplicar PCA Sobre os Atributos Selecionados Anteriormente"
   ]
  },
  {
   "cell_type": "code",
   "execution_count": 18,
   "metadata": {},
   "outputs": [],
   "source": [
    "from sklearn.decomposition import PCA\n",
    "\n",
    "X_tree = featured_df.copy()\n",
    "X_tree = pd.get_dummies(X_tree[most_important_features], drop_first=False)\n",
    "\n",
    "n_components = 2 \n",
    "\n",
    "pca_columns = [f\"pca_{i}\" for i in range(n_components)]\n",
    "\n",
    "pca = PCA(n_components=n_components)\n",
    "police_pca = pca.fit_transform(X_tree)\n",
    "police_pca_df = pd.DataFrame(data=police_pca, columns=pca_columns)"
   ]
  },
  {
   "cell_type": "markdown",
   "metadata": {},
   "source": [
    "## Treinar Uma Árvore de Decisão Com os K PCAs Mais Relevantes e Medir a Acurácia\n",
    "\n",
    "- A acurácia melhorou após a aplicação do PCA?\n",
    "  - Melhorou apenas 0.01% - insignificante para o contexto"
   ]
  },
  {
   "cell_type": "code",
   "execution_count": 19,
   "metadata": {},
   "outputs": [
    {
     "name": "stdout",
     "output_type": "stream",
     "text": [
      "Test - Acurácia com as features mais importantes Com 2 PCAs):\n"
     ]
    },
    {
     "data": {
      "text/plain": [
       "None"
      ]
     },
     "metadata": {},
     "output_type": "display_data"
    },
    {
     "name": "stdout",
     "output_type": "stream",
     "text": [
      "Accuracy: 96.86 %\n"
     ]
    },
    {
     "data": {
      "text/plain": [
       "None"
      ]
     },
     "metadata": {},
     "output_type": "display_data"
    }
   ],
   "source": [
    "display(print(f\"Test - Acurácia com as features mais importantes Com {n_components} PCAs):\"))\n",
    "police_pca_df[\"is_arrested\"] = featured_df[\"is_arrested\"]\n",
    "\n",
    "accuracy = test_and_measure_decision_tree(\n",
    "    df=police_pca_df,\n",
    "    features=pca_columns,\n",
    "    target=\"is_arrested\",\n",
    ")\n",
    "\n",
    "display(print(accuracy))"
   ]
  },
  {
   "cell_type": "code",
   "execution_count": 20,
   "metadata": {},
   "outputs": [
    {
     "data": {
      "text/plain": [
       "['Incident to Arrest',\n",
       " 'Protective Frisk',\n",
       " 'Probable Cause',\n",
       " 'Reasonable Suspicion',\n",
       " 'Inventory']"
      ]
     },
     "metadata": {},
     "output_type": "display_data"
    },
    {
     "data": {
      "text/plain": [
       "['incident_to_arrest',\n",
       " 'protective_frisk',\n",
       " 'probable_cause',\n",
       " 'reasonable_suspicion',\n",
       " 'inventory']"
      ]
     },
     "metadata": {},
     "output_type": "display_data"
    },
    {
     "data": {
      "text/html": [
       "<div>\n",
       "<style scoped>\n",
       "    .dataframe tbody tr th:only-of-type {\n",
       "        vertical-align: middle;\n",
       "    }\n",
       "\n",
       "    .dataframe tbody tr th {\n",
       "        vertical-align: top;\n",
       "    }\n",
       "\n",
       "    .dataframe thead th {\n",
       "        text-align: right;\n",
       "    }\n",
       "</style>\n",
       "<table border=\"1\" class=\"dataframe\">\n",
       "  <thead>\n",
       "    <tr style=\"text-align: right;\">\n",
       "      <th></th>\n",
       "      <th>incident_to_arrest</th>\n",
       "      <th>protective_frisk</th>\n",
       "      <th>probable_cause</th>\n",
       "      <th>reasonable_suspicion</th>\n",
       "      <th>inventory</th>\n",
       "    </tr>\n",
       "  </thead>\n",
       "  <tbody>\n",
       "    <tr>\n",
       "      <th>0</th>\n",
       "      <td>0</td>\n",
       "      <td>0</td>\n",
       "      <td>0</td>\n",
       "      <td>0</td>\n",
       "      <td>0</td>\n",
       "    </tr>\n",
       "    <tr>\n",
       "      <th>1</th>\n",
       "      <td>0</td>\n",
       "      <td>0</td>\n",
       "      <td>0</td>\n",
       "      <td>0</td>\n",
       "      <td>0</td>\n",
       "    </tr>\n",
       "    <tr>\n",
       "      <th>2</th>\n",
       "      <td>0</td>\n",
       "      <td>0</td>\n",
       "      <td>0</td>\n",
       "      <td>0</td>\n",
       "      <td>0</td>\n",
       "    </tr>\n",
       "    <tr>\n",
       "      <th>3</th>\n",
       "      <td>0</td>\n",
       "      <td>0</td>\n",
       "      <td>0</td>\n",
       "      <td>0</td>\n",
       "      <td>0</td>\n",
       "    </tr>\n",
       "    <tr>\n",
       "      <th>4</th>\n",
       "      <td>0</td>\n",
       "      <td>0</td>\n",
       "      <td>0</td>\n",
       "      <td>0</td>\n",
       "      <td>0</td>\n",
       "    </tr>\n",
       "  </tbody>\n",
       "</table>\n",
       "</div>"
      ],
      "text/plain": [
       "   incident_to_arrest  protective_frisk  probable_cause  reasonable_suspicion  \\\n",
       "0                   0                 0               0                     0   \n",
       "1                   0                 0               0                     0   \n",
       "2                   0                 0               0                     0   \n",
       "3                   0                 0               0                     0   \n",
       "4                   0                 0               0                     0   \n",
       "\n",
       "   inventory  \n",
       "0          0  \n",
       "1          0  \n",
       "2          0  \n",
       "3          0  \n",
       "4          0  "
      ]
     },
     "metadata": {},
     "output_type": "display_data"
    }
   ],
   "source": [
    "display(police_dataset_etl.all_search_types)\n",
    "display(police_dataset_etl.all_search_types_columns)\n",
    "display(police_dataset_etl.get_search_type_df().head())"
   ]
  }
 ],
 "metadata": {
  "kernelspec": {
   "display_name": ".venv",
   "language": "python",
   "name": "python3"
  },
  "language_info": {
   "codemirror_mode": {
    "name": "ipython",
    "version": 3
   },
   "file_extension": ".py",
   "mimetype": "text/x-python",
   "name": "python",
   "nbconvert_exporter": "python",
   "pygments_lexer": "ipython3",
   "version": "3.11.2"
  },
  "orig_nbformat": 4
 },
 "nbformat": 4,
 "nbformat_minor": 2
}
