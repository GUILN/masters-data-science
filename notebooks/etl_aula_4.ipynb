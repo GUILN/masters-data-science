{
 "cells": [
  {
   "cell_type": "markdown",
   "metadata": {},
   "source": [
    "# Aula 4 - ETL - Load\n",
    "\n",
    "**Objetivos:**\n",
    "\n",
    "- Aplicar Técnicas de Redução de Dimensão\n",
    "  - Como constatado no [notebook da aula 2 e 3](./etl_aulas_2_e_3.ipynb), há um desbalanceamento entre as raças dos motoristas - quase 3 vezes mais motoristas brancos. \n",
    "  - Aplicar técnicas de undersampling - `easy ensemble`  \n",
    "  - Analisar novamente utilizando `mutual information` se o atributo mais determinante de ser preso mudou.\n",
    "- Aplicar Técnicas de Amostragem\n",
    "    - Aplicar PCA: \n",
    "      - Treinar Árvore de Decisão e medir a acurácia \n",
    "      - Aplicar o PCA - \n",
    "      - Treinar Árvore de Decisão e medir a acurácia \n",
    "      - A acurácia mudou?\n"
   ]
  },
  {
   "cell_type": "markdown",
   "metadata": {},
   "source": [
    "## Carregando Dataset"
   ]
  },
  {
   "cell_type": "markdown",
   "metadata": {},
   "source": [
    "## Utilizando Mutual Information no Raw Dataset"
   ]
  },
  {
   "cell_type": "markdown",
   "metadata": {},
   "source": [
    "## Aplicando Easy Ensemble no Dataset\n",
    "\n",
    "- Após a aplicação do `easy ensemble`, o atributo mais determinante de ser preso mudou?"
   ]
  },
  {
   "cell_type": "markdown",
   "metadata": {},
   "source": [
    "## Selecionar Atributos mais Determinantes"
   ]
  },
  {
   "cell_type": "markdown",
   "metadata": {},
   "source": [
    "## Treinar Uma Árvore de Decisão e Medir a Acurácia"
   ]
  },
  {
   "cell_type": "markdown",
   "metadata": {},
   "source": [
    "## Aplicar PCA Sobre os Atributos Selecionados Anteriormente"
   ]
  },
  {
   "cell_type": "markdown",
   "metadata": {},
   "source": [
    "## Treinar Uma Árvore de Decisão Com os K PCAs Mais Relevantes e Medir a Acurácia\n",
    "\n",
    "- A acurácia melhorou após a aplicação do PCA?"
   ]
  }
 ],
 "metadata": {
  "language_info": {
   "name": "python"
  },
  "orig_nbformat": 4
 },
 "nbformat": 4,
 "nbformat_minor": 2
}
