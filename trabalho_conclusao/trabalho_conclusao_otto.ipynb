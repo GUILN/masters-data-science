{
 "cells": [
  {
   "cell_type": "markdown",
   "metadata": {},
   "source": [
    "# Trabalho Conclusão de Curso - Otto Group Product Classification Challenge"
   ]
  },
  {
   "cell_type": "code",
   "execution_count": 2,
   "metadata": {},
   "outputs": [],
   "source": [
    "import pandas as pd\n",
    "import json"
   ]
  },
  {
   "cell_type": "code",
   "execution_count": 3,
   "metadata": {},
   "outputs": [],
   "source": [
    "otto_test_df = pd.read_json(\"./data/OTTO/otto-recsys-test.jsonl\", lines=True)"
   ]
  },
  {
   "cell_type": "code",
   "execution_count": 4,
   "metadata": {},
   "outputs": [
    {
     "data": {
      "text/html": [
       "<div>\n",
       "<style scoped>\n",
       "    .dataframe tbody tr th:only-of-type {\n",
       "        vertical-align: middle;\n",
       "    }\n",
       "\n",
       "    .dataframe tbody tr th {\n",
       "        vertical-align: top;\n",
       "    }\n",
       "\n",
       "    .dataframe thead th {\n",
       "        text-align: right;\n",
       "    }\n",
       "</style>\n",
       "<table border=\"1\" class=\"dataframe\">\n",
       "  <thead>\n",
       "    <tr style=\"text-align: right;\">\n",
       "      <th></th>\n",
       "      <th>session</th>\n",
       "      <th>events</th>\n",
       "    </tr>\n",
       "  </thead>\n",
       "  <tbody>\n",
       "    <tr>\n",
       "      <th>0</th>\n",
       "      <td>12899779</td>\n",
       "      <td>[{'aid': 59625, 'ts': 1661724000278, 'type': '...</td>\n",
       "    </tr>\n",
       "    <tr>\n",
       "      <th>1</th>\n",
       "      <td>12899780</td>\n",
       "      <td>[{'aid': 1142000, 'ts': 1661724000378, 'type':...</td>\n",
       "    </tr>\n",
       "    <tr>\n",
       "      <th>2</th>\n",
       "      <td>12899781</td>\n",
       "      <td>[{'aid': 141736, 'ts': 1661724000559, 'type': ...</td>\n",
       "    </tr>\n",
       "    <tr>\n",
       "      <th>3</th>\n",
       "      <td>12899782</td>\n",
       "      <td>[{'aid': 1669402, 'ts': 1661724000568, 'type':...</td>\n",
       "    </tr>\n",
       "    <tr>\n",
       "      <th>4</th>\n",
       "      <td>12899783</td>\n",
       "      <td>[{'aid': 255297, 'ts': 1661724000572, 'type': ...</td>\n",
       "    </tr>\n",
       "  </tbody>\n",
       "</table>\n",
       "</div>"
      ],
      "text/plain": [
       "    session                                             events\n",
       "0  12899779  [{'aid': 59625, 'ts': 1661724000278, 'type': '...\n",
       "1  12899780  [{'aid': 1142000, 'ts': 1661724000378, 'type':...\n",
       "2  12899781  [{'aid': 141736, 'ts': 1661724000559, 'type': ...\n",
       "3  12899782  [{'aid': 1669402, 'ts': 1661724000568, 'type':...\n",
       "4  12899783  [{'aid': 255297, 'ts': 1661724000572, 'type': ..."
      ]
     },
     "execution_count": 4,
     "metadata": {},
     "output_type": "execute_result"
    }
   ],
   "source": [
    "pd.set_option(\"display.width\", 500)\n",
    "otto_test_df.head()"
   ]
  },
  {
   "cell_type": "code",
   "execution_count": 5,
   "metadata": {},
   "outputs": [
    {
     "data": {
      "text/plain": [
       "(1671803,)"
      ]
     },
     "execution_count": 5,
     "metadata": {},
     "output_type": "execute_result"
    }
   ],
   "source": [
    "otto_test_df.session.unique().shape"
   ]
  },
  {
   "cell_type": "code",
   "execution_count": 21,
   "metadata": {},
   "outputs": [
    {
     "data": {
      "text/plain": [
       "0          None\n",
       "1          None\n",
       "2          None\n",
       "3          None\n",
       "4          None\n",
       "           ... \n",
       "1671798    None\n",
       "1671799    None\n",
       "1671800    None\n",
       "1671801    None\n",
       "1671802    None\n",
       "Length: 1671803, dtype: object"
      ]
     },
     "execution_count": 21,
     "metadata": {},
     "output_type": "execute_result"
    }
   ],
   "source": [
    "from operator import itemgetter\n",
    "\n",
    "\n",
    "def sort_events(row: pd.Series) -> str:\n",
    "    sequence = [event for event in row.events]\n",
    "    return sorted(sequence, key=itemgetter(\"ts\"))\n",
    "\n",
    "\n",
    "def get_list_of_events(row: pd.Series):\n",
    "    row[\"items_clicked\"] = []\n",
    "    row[\"items_carted\"] = []\n",
    "    row[\"items_ordered\"] = []\n",
    "\n",
    "    for event in row.sorted_events:\n",
    "        event_type = event[\"type\"]\n",
    "        if event_type == \"clicks\":\n",
    "            row[\"items_clicked\"].append(event[\"aid\"])\n",
    "        elif event_type == \"carts\":\n",
    "            row[\"items_carted\"].append(event[\"aid\"])\n",
    "        elif event_type == \"orders\":\n",
    "            row[\"items_ordered\"].append(event[\"aid\"])\n",
    "\n",
    "\n",
    "def get_list_of_event_type(row: pd.Series, event_type: str = \"clicks\"):\n",
    "    return [event[\"aid\"] for event in row.events if event[\"type\"] == event_type]\n",
    "\n",
    "\n",
    "def get_list_of_clicks(row: pd.Series):\n",
    "    return get_list_of_event_type(row, \"clicks\")\n",
    "\n",
    "\n",
    "def get_list_of_orders(row: pd.Series):\n",
    "    return get_list_of_event_type(row, \"orders\")\n",
    "\n",
    "\n",
    "def get_list_of_carts(row: pd.Series):\n",
    "    return get_list_of_event_type(row, \"carts\")\n",
    "\n",
    "\n",
    "otto_test_df[\"sorted_events\"] = otto_test_df.apply(sort_events, axis=\"columns\")\n",
    "otto_test_df.apply(get_list_of_events, axis=\"columns\")\n",
    "# otto_test_df[\"ordered_events\"] = sorted(otto_test_df[\"events\"].to_list(), key=itemgetter(\"ts\"))\n",
    "# events = otto_test_df[otto_test_df.index == 1][\"events\"]\n",
    "# events\n",
    "# otto_test_df.head()"
   ]
  },
  {
   "cell_type": "code",
   "execution_count": 2,
   "metadata": {},
   "outputs": [
    {
     "ename": "NameError",
     "evalue": "name 'otto_test_df' is not defined",
     "output_type": "error",
     "traceback": [
      "\u001b[0;31m---------------------------------------------------------------------------\u001b[0m",
      "\u001b[0;31mNameError\u001b[0m                                 Traceback (most recent call last)",
      "Cell \u001b[0;32mIn[2], line 1\u001b[0m\n\u001b[0;32m----> 1\u001b[0m otto_test_df\u001b[39m.\u001b[39mhead()\n\u001b[1;32m      2\u001b[0m otto_test_df[\u001b[39m\"\u001b[39m\u001b[39mcount_ordered_items\u001b[39m\u001b[39m\"\u001b[39m] \u001b[39m=\u001b[39m \u001b[39mlen\u001b[39m(otto_test_df\u001b[39m.\u001b[39mitems_ordered)\n",
      "\u001b[0;31mNameError\u001b[0m: name 'otto_test_df' is not defined"
     ]
    }
   ],
   "source": [
    "otto_test_df.head()\n",
    "otto_test_df[\"count_ordered_items\"] = len(otto_test_df.items_ordered)"
   ]
  }
 ],
 "metadata": {
  "kernelspec": {
   "display_name": ".venv",
   "language": "python",
   "name": "python3"
  },
  "language_info": {
   "codemirror_mode": {
    "name": "ipython",
    "version": 3
   },
   "file_extension": ".py",
   "mimetype": "text/x-python",
   "name": "python",
   "nbconvert_exporter": "python",
   "pygments_lexer": "ipython3",
   "version": "3.11.2"
  },
  "orig_nbformat": 4
 },
 "nbformat": 4,
 "nbformat_minor": 2
}
