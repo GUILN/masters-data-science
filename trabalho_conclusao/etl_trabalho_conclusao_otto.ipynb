{
 "cells": [
  {
   "cell_type": "markdown",
   "metadata": {},
   "source": [
    "# ETL Trabalho Conclusão de Curso - Otto Group Product Classification Challenge"
   ]
  },
  {
   "cell_type": "code",
   "execution_count": 5,
   "metadata": {},
   "outputs": [],
   "source": [
    "import pandas as pd\n",
    "from constants.constants import (\n",
    "    TEST_FILE_CSV_PATH,\n",
    ")"
   ]
  },
  {
   "cell_type": "code",
   "execution_count": 8,
   "metadata": {},
   "outputs": [],
   "source": [
    "otto_test_df = pd.read_json(\"./data/OTTO/otto-recsys-train.jsonl\", lines=True)\n"
   ]
  },
  {
   "cell_type": "code",
   "execution_count": 9,
   "metadata": {},
   "outputs": [
    {
     "data": {
      "text/html": [
       "<div>\n",
       "<style scoped>\n",
       "    .dataframe tbody tr th:only-of-type {\n",
       "        vertical-align: middle;\n",
       "    }\n",
       "\n",
       "    .dataframe tbody tr th {\n",
       "        vertical-align: top;\n",
       "    }\n",
       "\n",
       "    .dataframe thead th {\n",
       "        text-align: right;\n",
       "    }\n",
       "</style>\n",
       "<table border=\"1\" class=\"dataframe\">\n",
       "  <thead>\n",
       "    <tr style=\"text-align: right;\">\n",
       "      <th></th>\n",
       "      <th>session</th>\n",
       "      <th>events</th>\n",
       "    </tr>\n",
       "  </thead>\n",
       "  <tbody>\n",
       "    <tr>\n",
       "      <th>0</th>\n",
       "      <td>12899779</td>\n",
       "      <td>[{'aid': 59625, 'ts': 1661724000278, 'type': '...</td>\n",
       "    </tr>\n",
       "    <tr>\n",
       "      <th>1</th>\n",
       "      <td>12899780</td>\n",
       "      <td>[{'aid': 1142000, 'ts': 1661724000378, 'type':...</td>\n",
       "    </tr>\n",
       "    <tr>\n",
       "      <th>2</th>\n",
       "      <td>12899781</td>\n",
       "      <td>[{'aid': 141736, 'ts': 1661724000559, 'type': ...</td>\n",
       "    </tr>\n",
       "    <tr>\n",
       "      <th>3</th>\n",
       "      <td>12899782</td>\n",
       "      <td>[{'aid': 1669402, 'ts': 1661724000568, 'type':...</td>\n",
       "    </tr>\n",
       "    <tr>\n",
       "      <th>4</th>\n",
       "      <td>12899783</td>\n",
       "      <td>[{'aid': 255297, 'ts': 1661724000572, 'type': ...</td>\n",
       "    </tr>\n",
       "  </tbody>\n",
       "</table>\n",
       "</div>"
      ],
      "text/plain": [
       "    session                                             events\n",
       "0  12899779  [{'aid': 59625, 'ts': 1661724000278, 'type': '...\n",
       "1  12899780  [{'aid': 1142000, 'ts': 1661724000378, 'type':...\n",
       "2  12899781  [{'aid': 141736, 'ts': 1661724000559, 'type': ...\n",
       "3  12899782  [{'aid': 1669402, 'ts': 1661724000568, 'type':...\n",
       "4  12899783  [{'aid': 255297, 'ts': 1661724000572, 'type': ..."
      ]
     },
     "execution_count": 9,
     "metadata": {},
     "output_type": "execute_result"
    }
   ],
   "source": [
    "pd.set_option(\"display.width\", 500)\n",
    "otto_test_df.head()"
   ]
  },
  {
   "cell_type": "code",
   "execution_count": 10,
   "metadata": {},
   "outputs": [
    {
     "data": {
      "text/html": [
       "<div>\n",
       "<style scoped>\n",
       "    .dataframe tbody tr th:only-of-type {\n",
       "        vertical-align: middle;\n",
       "    }\n",
       "\n",
       "    .dataframe tbody tr th {\n",
       "        vertical-align: top;\n",
       "    }\n",
       "\n",
       "    .dataframe thead th {\n",
       "        text-align: right;\n",
       "    }\n",
       "</style>\n",
       "<table border=\"1\" class=\"dataframe\">\n",
       "  <thead>\n",
       "    <tr style=\"text-align: right;\">\n",
       "      <th></th>\n",
       "      <th>session</th>\n",
       "      <th>sorted_events</th>\n",
       "      <th>items_clicked</th>\n",
       "      <th>items_carted</th>\n",
       "      <th>items_ordered</th>\n",
       "    </tr>\n",
       "  </thead>\n",
       "  <tbody>\n",
       "    <tr>\n",
       "      <th>0</th>\n",
       "      <td>12899779</td>\n",
       "      <td>[{'aid': 59625, 'ts': 1661724000278, 'type': '...</td>\n",
       "      <td>[59625, 875854]</td>\n",
       "      <td>[]</td>\n",
       "      <td>[]</td>\n",
       "    </tr>\n",
       "    <tr>\n",
       "      <th>1</th>\n",
       "      <td>12899780</td>\n",
       "      <td>[{'aid': 1142000, 'ts': 1661724000378, 'type':...</td>\n",
       "      <td>[1142000, 582732, 973453, 736515, 1142000, 260...</td>\n",
       "      <td>[]</td>\n",
       "      <td>[]</td>\n",
       "    </tr>\n",
       "    <tr>\n",
       "      <th>2</th>\n",
       "      <td>12899781</td>\n",
       "      <td>[{'aid': 141736, 'ts': 1661724000559, 'type': ...</td>\n",
       "      <td>[141736, 199008, 57315, 194067, 199008, 199008...</td>\n",
       "      <td>[199008, 918667]</td>\n",
       "      <td>[]</td>\n",
       "    </tr>\n",
       "    <tr>\n",
       "      <th>3</th>\n",
       "      <td>12899782</td>\n",
       "      <td>[{'aid': 1669402, 'ts': 1661724000568, 'type':...</td>\n",
       "      <td>[1669402, 1494780, 1494780, 1494780, 1674681, ...</td>\n",
       "      <td>[1494780, 413962, 779477, 562753, 476063, 7794...</td>\n",
       "      <td>[1669402, 829180, 1696036, 479970, 834354, 103...</td>\n",
       "    </tr>\n",
       "    <tr>\n",
       "      <th>4</th>\n",
       "      <td>12899783</td>\n",
       "      <td>[{'aid': 255297, 'ts': 1661724000572, 'type': ...</td>\n",
       "      <td>[255297, 1114789, 255297, 300127, 198385, 3001...</td>\n",
       "      <td>[]</td>\n",
       "      <td>[]</td>\n",
       "    </tr>\n",
       "  </tbody>\n",
       "</table>\n",
       "</div>"
      ],
      "text/plain": [
       "    session                                      sorted_events                                      items_clicked                                       items_carted                                      items_ordered\n",
       "0  12899779  [{'aid': 59625, 'ts': 1661724000278, 'type': '...                                    [59625, 875854]                                                 []                                                 []\n",
       "1  12899780  [{'aid': 1142000, 'ts': 1661724000378, 'type':...  [1142000, 582732, 973453, 736515, 1142000, 260...                                                 []                                                 []\n",
       "2  12899781  [{'aid': 141736, 'ts': 1661724000559, 'type': ...  [141736, 199008, 57315, 194067, 199008, 199008...                                   [199008, 918667]                                                 []\n",
       "3  12899782  [{'aid': 1669402, 'ts': 1661724000568, 'type':...  [1669402, 1494780, 1494780, 1494780, 1674681, ...  [1494780, 413962, 779477, 562753, 476063, 7794...  [1669402, 829180, 1696036, 479970, 834354, 103...\n",
       "4  12899783  [{'aid': 255297, 'ts': 1661724000572, 'type': ...  [255297, 1114789, 255297, 300127, 198385, 3001...                                                 []                                                 []"
      ]
     },
     "execution_count": 10,
     "metadata": {},
     "output_type": "execute_result"
    }
   ],
   "source": [
    "from etl.otto_dataset_etl  import OttoDatasetEtl\n",
    "\n",
    "otto_dataset_etl = OttoDatasetEtl(otto_test_df)\n",
    "otto_dataset_etl.transform(drop_original_events=True)\n",
    "\n",
    "# otto_dataset_etl.dataset.head()"
   ]
  },
  {
   "cell_type": "markdown",
   "metadata": {},
   "source": [
    "## Salvando os Dados para Análise Descritiva\n",
    "\n",
    "A classe de ETL da célula acima:\n",
    "* ordena os eventos por tempo\n",
    "* cria listas com cada tipo de evento para cada tipo de sessão\n",
    "\n",
    "Para facilitar a manipulação dos dados durante a análise descritiva e desenvolvimento do modelo"
   ]
  },
  {
   "cell_type": "code",
   "execution_count": 11,
   "metadata": {},
   "outputs": [],
   "source": [
    "from os.path import join\n",
    "folder = \"./data/transformed\"\n",
    "\n",
    "otto_dataset_etl.dataset.to_parquet(join(folder, \"otto-transformed-train.parquet\"))"
   ]
  }
 ],
 "metadata": {
  "kernelspec": {
   "display_name": ".venv",
   "language": "python",
   "name": "python3"
  },
  "language_info": {
   "codemirror_mode": {
    "name": "ipython",
    "version": 3
   },
   "file_extension": ".py",
   "mimetype": "text/x-python",
   "name": "python",
   "nbconvert_exporter": "python",
   "pygments_lexer": "ipython3",
   "version": "3.11.2"
  },
  "orig_nbformat": 4
 },
 "nbformat": 4,
 "nbformat_minor": 2
}
