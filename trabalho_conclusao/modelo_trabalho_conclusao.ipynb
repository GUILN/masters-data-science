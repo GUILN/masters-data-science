{
 "cells": [
  {
   "cell_type": "markdown",
   "metadata": {},
   "source": [
    "# Modelo - Validação - Teste 📊 🧪"
   ]
  },
  {
   "cell_type": "code",
   "execution_count": 1,
   "metadata": {},
   "outputs": [],
   "source": [
    "import polars as pl"
   ]
  },
  {
   "cell_type": "code",
   "execution_count": 5,
   "metadata": {},
   "outputs": [],
   "source": [
    "train_dataset = pl.read_parquet(\"data/transformed_train_data/sessions_with_more_than_2_clicks.parquet\")"
   ]
  },
  {
   "cell_type": "code",
   "execution_count": 11,
   "metadata": {},
   "outputs": [
    {
     "data": {
      "text/plain": [
       "10161584"
      ]
     },
     "metadata": {},
     "output_type": "display_data"
    },
    {
     "data": {
      "text/html": [
       "<div><style>\n",
       ".dataframe > thead > tr > th,\n",
       ".dataframe > tbody > tr > td {\n",
       "  text-align: right;\n",
       "}\n",
       "</style>\n",
       "<small>shape: (5, 8)</small><table border=\"1\" class=\"dataframe\"><thead><tr><th>session</th><th>sorted_events</th><th>items_clicked</th><th>items_carted</th><th>items_ordered</th><th>items_clicked_count</th><th>items_carted_count</th><th>items_ordered_count</th></tr><tr><td>i64</td><td>list[struct[3]]</td><td>list[i64]</td><td>list[i64]</td><td>list[i64]</td><td>i64</td><td>i64</td><td>i64</td></tr></thead><tbody><tr><td>12125765</td><td>[{236629,1661455845476,&quot;clicks&quot;}, {510059,1661455883265,&quot;clicks&quot;}, {236629,1661455939286,&quot;clicks&quot;}]</td><td>[236629, 510059, 236629]</td><td>[]</td><td>[]</td><td>3</td><td>0</td><td>0</td></tr><tr><td>12125766</td><td>[{1119434,1661455845769,&quot;clicks&quot;}, {1119434,1661455891538,&quot;clicks&quot;}, … {1119434,1661498592931,&quot;clicks&quot;}]</td><td>[1119434, 1119434, … 1119434]</td><td>[]</td><td>[]</td><td>18</td><td>0</td><td>0</td></tr><tr><td>12125767</td><td>[{1321238,1661455845771,&quot;clicks&quot;}, {1389738,1661455955373,&quot;clicks&quot;}, … {129869,1661456097095,&quot;clicks&quot;}]</td><td>[1321238, 1389738, … 129869]</td><td>[]</td><td>[]</td><td>6</td><td>0</td><td>0</td></tr><tr><td>12125768</td><td>[{1676761,1661455845774,&quot;clicks&quot;}, {1676761,1661455899065,&quot;clicks&quot;}, … {661746,1661717837490,&quot;clicks&quot;}]</td><td>[1676761, 1676761, … 661746]</td><td>[]</td><td>[]</td><td>9</td><td>0</td><td>0</td></tr><tr><td>12125770</td><td>[{917900,1661455846705,&quot;clicks&quot;}, {1033924,1661714173716,&quot;clicks&quot;}, … {1033924,1661714269437,&quot;clicks&quot;}]</td><td>[917900, 1033924, … 1033924]</td><td>[]</td><td>[]</td><td>4</td><td>0</td><td>0</td></tr></tbody></table></div>"
      ],
      "text/plain": [
       "shape: (5, 8)\n",
       "┌──────────┬────────────┬────────────┬────────────┬────────────┬───────────┬───────────┬───────────┐\n",
       "│ session  ┆ sorted_eve ┆ items_clic ┆ items_cart ┆ items_orde ┆ items_cli ┆ items_car ┆ items_ord │\n",
       "│ ---      ┆ nts        ┆ ked        ┆ ed         ┆ red        ┆ cked_coun ┆ ted_count ┆ ered_coun │\n",
       "│ i64      ┆ ---        ┆ ---        ┆ ---        ┆ ---        ┆ t         ┆ ---       ┆ t         │\n",
       "│          ┆ list[struc ┆ list[i64]  ┆ list[i64]  ┆ list[i64]  ┆ ---       ┆ i64       ┆ ---       │\n",
       "│          ┆ t[3]]      ┆            ┆            ┆            ┆ i64       ┆           ┆ i64       │\n",
       "╞══════════╪════════════╪════════════╪════════════╪════════════╪═══════════╪═══════════╪═══════════╡\n",
       "│ 12125765 ┆ [{236629,1 ┆ [236629,   ┆ []         ┆ []         ┆ 3         ┆ 0         ┆ 0         │\n",
       "│          ┆ 6614558454 ┆ 510059,    ┆            ┆            ┆           ┆           ┆           │\n",
       "│          ┆ 76,\"clicks ┆ 236629]    ┆            ┆            ┆           ┆           ┆           │\n",
       "│          ┆ \"}…        ┆            ┆            ┆            ┆           ┆           ┆           │\n",
       "│ 12125766 ┆ [{1119434, ┆ [1119434,  ┆ []         ┆ []         ┆ 18        ┆ 0         ┆ 0         │\n",
       "│          ┆ 1661455845 ┆ 1119434, … ┆            ┆            ┆           ┆           ┆           │\n",
       "│          ┆ 769,\"click ┆ 1119434]   ┆            ┆            ┆           ┆           ┆           │\n",
       "│          ┆ s\"…        ┆            ┆            ┆            ┆           ┆           ┆           │\n",
       "│ 12125767 ┆ [{1321238, ┆ [1321238,  ┆ []         ┆ []         ┆ 6         ┆ 0         ┆ 0         │\n",
       "│          ┆ 1661455845 ┆ 1389738, … ┆            ┆            ┆           ┆           ┆           │\n",
       "│          ┆ 771,\"click ┆ 129869]    ┆            ┆            ┆           ┆           ┆           │\n",
       "│          ┆ s\"…        ┆            ┆            ┆            ┆           ┆           ┆           │\n",
       "│ 12125768 ┆ [{1676761, ┆ [1676761,  ┆ []         ┆ []         ┆ 9         ┆ 0         ┆ 0         │\n",
       "│          ┆ 1661455845 ┆ 1676761, … ┆            ┆            ┆           ┆           ┆           │\n",
       "│          ┆ 774,\"click ┆ 661746]    ┆            ┆            ┆           ┆           ┆           │\n",
       "│          ┆ s\"…        ┆            ┆            ┆            ┆           ┆           ┆           │\n",
       "│ 12125770 ┆ [{917900,1 ┆ [917900,   ┆ []         ┆ []         ┆ 4         ┆ 0         ┆ 0         │\n",
       "│          ┆ 6614558467 ┆ 1033924, … ┆            ┆            ┆           ┆           ┆           │\n",
       "│          ┆ 05,\"clicks ┆ 1033924]   ┆            ┆            ┆           ┆           ┆           │\n",
       "│          ┆ \"}…        ┆            ┆            ┆            ┆           ┆           ┆           │\n",
       "└──────────┴────────────┴────────────┴────────────┴────────────┴───────────┴───────────┴───────────┘"
      ]
     },
     "metadata": {},
     "output_type": "display_data"
    }
   ],
   "source": [
    "display(train_dataset.shape[0])\n",
    "display(train_dataset.head(5))"
   ]
  }
 ],
 "metadata": {
  "kernelspec": {
   "display_name": ".venv",
   "language": "python",
   "name": "python3"
  },
  "language_info": {
   "codemirror_mode": {
    "name": "ipython",
    "version": 3
   },
   "file_extension": ".py",
   "mimetype": "text/x-python",
   "name": "python",
   "nbconvert_exporter": "python",
   "pygments_lexer": "ipython3",
   "version": "3.11.2"
  },
  "orig_nbformat": 4
 },
 "nbformat": 4,
 "nbformat_minor": 2
}
