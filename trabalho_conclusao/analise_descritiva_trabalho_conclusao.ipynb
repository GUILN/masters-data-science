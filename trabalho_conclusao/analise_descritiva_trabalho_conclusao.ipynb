{
 "cells": [
  {
   "cell_type": "markdown",
   "metadata": {},
   "source": [
    "# Análise Descritiva - Trabalho Conclusão de Curso - Otto Group Product Classification Challenge"
   ]
  },
  {
   "cell_type": "code",
   "execution_count": 1,
   "metadata": {},
   "outputs": [],
   "source": [
    "import polars as pl\n",
    "import numpy as np\n",
    "import tqdm"
   ]
  },
  {
   "cell_type": "code",
   "execution_count": 2,
   "metadata": {},
   "outputs": [],
   "source": [
    "folder_with_data_to_load = \"data/transformed/train/\""
   ]
  },
  {
   "cell_type": "code",
   "execution_count": 3,
   "metadata": {},
   "outputs": [],
   "source": [
    "transformed_df = pl.read_parquet(\"data/transformed/train/otto-transformed-train-0.parquet\")\n",
    "\n",
    "# read and merge all data files\n",
    "for i in range(1, 49):\n",
    "    file_name = f\"otto-transformed-train-{i}.parquet\"\n",
    "    transformed_df = transformed_df.vstack(pl.read_parquet(folder_with_data_to_load + file_name))\n",
    "    "
   ]
  },
  {
   "cell_type": "code",
   "execution_count": 4,
   "metadata": {},
   "outputs": [
    {
     "data": {
      "text/plain": [
       "12641755"
      ]
     },
     "metadata": {},
     "output_type": "display_data"
    },
    {
     "data": {
      "text/html": [
       "<div><style>\n",
       ".dataframe > thead > tr > th,\n",
       ".dataframe > tbody > tr > td {\n",
       "  text-align: right;\n",
       "}\n",
       "</style>\n",
       "<small>shape: (5, 5)</small><table border=\"1\" class=\"dataframe\"><thead><tr><th>session</th><th>sorted_events</th><th>items_clicked</th><th>items_carted</th><th>items_ordered</th></tr><tr><td>i64</td><td>list[struct[3]]</td><td>list[i64]</td><td>list[i64]</td><td>list[i64]</td></tr></thead><tbody><tr><td>0</td><td>[{1517085,1659304800025,&quot;clicks&quot;}, {1563459,1659304904511,&quot;clicks&quot;}, … {161938,1661684983707,&quot;clicks&quot;}]</td><td>[1517085, 1563459, … 161938]</td><td>[1649869, 461689, … 315914]</td><td>[305831, 461689, … 543308]</td></tr><tr><td>1</td><td>[{424964,1659304800025,&quot;carts&quot;}, {1492293,1659304852871,&quot;clicks&quot;}, … {497868,1661714854992,&quot;clicks&quot;}]</td><td>[1492293, 910862, … 497868]</td><td>[424964, 1492293, … 105393]</td><td>[]</td></tr><tr><td>2</td><td>[{763743,1659304800038,&quot;clicks&quot;}, {137492,1659304866606,&quot;clicks&quot;}, … {672473,1661714215659,&quot;clicks&quot;}]</td><td>[763743, 137492, … 672473]</td><td>[161269]</td><td>[]</td></tr><tr><td>3</td><td>[{1425967,1659304800095,&quot;carts&quot;}, {1425967,1659304821062,&quot;clicks&quot;}, … {925352,1661109666771,&quot;carts&quot;}]</td><td>[1425967, 1343406, … 925352]</td><td>[1425967, 1343406, … 925352]</td><td>[357461, 1343406, … 54857]</td></tr><tr><td>4</td><td>[{613619,1659304800119,&quot;clicks&quot;}, {298827,1659304836708,&quot;clicks&quot;}, … {479396,1661586681303,&quot;clicks&quot;}]</td><td>[613619, 298827, … 479396]</td><td>[1554752, 917213, 758750]</td><td>[298827]</td></tr></tbody></table></div>"
      ],
      "text/plain": [
       "shape: (5, 5)\n",
       "┌─────────┬──────────────────────┬─────────────────────┬─────────────────────┬─────────────────────┐\n",
       "│ session ┆ sorted_events        ┆ items_clicked       ┆ items_carted        ┆ items_ordered       │\n",
       "│ ---     ┆ ---                  ┆ ---                 ┆ ---                 ┆ ---                 │\n",
       "│ i64     ┆ list[struct[3]]      ┆ list[i64]           ┆ list[i64]           ┆ list[i64]           │\n",
       "╞═════════╪══════════════════════╪═════════════════════╪═════════════════════╪═════════════════════╡\n",
       "│ 0       ┆ [{1517085,1659304800 ┆ [1517085, 1563459,  ┆ [1649869, 461689, … ┆ [305831, 461689, …  │\n",
       "│         ┆ 025,\"clicks\"…        ┆ … 161938]           ┆ 315914]             ┆ 543308]             │\n",
       "│ 1       ┆ [{424964,16593048000 ┆ [1492293, 910862, … ┆ [424964, 1492293, … ┆ []                  │\n",
       "│         ┆ 25,\"carts\"},…        ┆ 497868]             ┆ 105393]             ┆                     │\n",
       "│ 2       ┆ [{763743,16593048000 ┆ [763743, 137492, …  ┆ [161269]            ┆ []                  │\n",
       "│         ┆ 38,\"clicks\"}…        ┆ 672473]             ┆                     ┆                     │\n",
       "│ 3       ┆ [{1425967,1659304800 ┆ [1425967, 1343406,  ┆ [1425967, 1343406,  ┆ [357461, 1343406, … │\n",
       "│         ┆ 095,\"carts\"}…        ┆ … 925352]           ┆ … 925352]           ┆ 54857]              │\n",
       "│ 4       ┆ [{613619,16593048001 ┆ [613619, 298827, …  ┆ [1554752, 917213,   ┆ [298827]            │\n",
       "│         ┆ 19,\"clicks\"}…        ┆ 479396]             ┆ 758750]             ┆                     │\n",
       "└─────────┴──────────────────────┴─────────────────────┴─────────────────────┴─────────────────────┘"
      ]
     },
     "execution_count": 4,
     "metadata": {},
     "output_type": "execute_result"
    }
   ],
   "source": [
    "display(transformed_df.shape[0])\n",
    "transformed_df.head()"
   ]
  },
  {
   "cell_type": "code",
   "execution_count": 5,
   "metadata": {},
   "outputs": [],
   "source": [
    "transformed_df = transformed_df.with_columns(\n",
    "    items_clicked_count = transformed_df[\"items_clicked\"].apply(lambda s: len(s)),\n",
    "    items_carted_count = transformed_df[\"items_carted\"].apply(lambda s: len(s)),\n",
    "    items_ordered_count = transformed_df[\"items_ordered\"].apply(lambda s: len(s)),\n",
    ")\n"
   ]
  },
  {
   "cell_type": "markdown",
   "metadata": {},
   "source": [
    "### Distribuição - Sessão - Click 🖱️ 🧭"
   ]
  },
  {
   "cell_type": "code",
   "execution_count": 6,
   "metadata": {},
   "outputs": [
    {
     "data": {
      "text/plain": [
       "Text(0.5, 1.0, 'Items Ordered Distribution')"
      ]
     },
     "execution_count": 6,
     "metadata": {},
     "output_type": "execute_result"
    },
    {
     "data": {
      "image/png": "[encoded data removed]",
      "text/plain": [
       "<Figure size 1600x400 with 3 Axes>"
      ]
     },
     "metadata": {},
     "output_type": "display_data"
    }
   ],
   "source": [
    "import pandas as pd\n",
    "import matplotlib.pyplot as plt\n",
    "import seaborn as sns\n",
    "\n",
    "plt.figure(figsize=(16, 4))\n",
    "n_rows = 1 \n",
    "n_cols = 3 \n",
    "\n",
    "plt.subplot(n_rows, n_cols, 1)\n",
    "sns.histplot(transformed_df[\"items_clicked_count\"], color=\"blue\", bins=50)\n",
    "plt.title(f\"{'Items Clicked'} Distribution\")\n",
    "\n",
    "plt.subplot(n_rows, n_cols, 2)\n",
    "sns.histplot(transformed_df[\"items_carted_count\"], color=\"blue\", bins=50)\n",
    "plt.title(f\"{'Items Carted'} Distribution\")\n",
    "\n",
    "plt.subplot(n_rows, n_cols, 3)\n",
    "sns.histplot(transformed_df[\"items_ordered_count\"], color=\"blue\", bins=50)\n",
    "plt.title(f\"{'Items Ordered'} Distribution\")\n",
    "\n"
   ]
  },
  {
   "cell_type": "code",
   "execution_count": 7,
   "metadata": {},
   "outputs": [
    {
     "data": {
      "text/plain": [
       "9984381"
      ]
     },
     "execution_count": 7,
     "metadata": {},
     "output_type": "execute_result"
    }
   ],
   "source": [
    "# count the number of sessions with 3 to more items clicked\n",
    "sessions_with_more_than_3_clicks_df = transformed_df.filter(pl.col(\"items_clicked_count\") >= 3)\n",
    "sessions_with_more_than_3_clicks_df.shape[0]"
   ]
  },
  {
   "cell_type": "code",
   "execution_count": 8,
   "metadata": {},
   "outputs": [
    {
     "data": {
      "text/plain": [
       "<Axes: ylabel='Count'>"
      ]
     },
     "execution_count": 8,
     "metadata": {},
     "output_type": "execute_result"
    },
    {
     "data": {
      "image/png": "[encoded data removed]",
      "text/plain": [
       "<Figure size 640x480 with 1 Axes>"
      ]
     },
     "metadata": {},
     "output_type": "display_data"
    }
   ],
   "source": [
    "\n",
    "sns.histplot(sessions_with_more_than_3_clicks_df[\"items_clicked_count\"], color=\"blue\", bins=50)"
   ]
  },
  {
   "cell_type": "markdown",
   "metadata": {},
   "source": [
    "## Conclusões 📝\n",
    "\n",
    "* Podemos perceber que a distribuição dos eventos (clicks, adicionar ao carrinho, e ordem de compra) segue uma distribuição exponencial (enviesada).\n",
    "* Poucas sessões possuem muitos eventos, enquanto muitas sessões possuem pouco ou nenhum evento."
   ]
  },
  {
   "cell_type": "markdown",
   "metadata": {},
   "source": [
    "# Distribuição Produto - Click 🖱️ 🖥️ 🎁"
   ]
  },
  {
   "cell_type": "code",
   "execution_count": 9,
   "metadata": {},
   "outputs": [
    {
     "name": "stderr",
     "output_type": "stream",
     "text": [
      "100%|██████████| 9984381/9984381 [13:49<00:00, 12043.36it/s]\n"
     ]
    }
   ],
   "source": [
    "# count all items clicked\n",
    "all_items_clicked = []\n",
    "for items_clicked in tqdm.tqdm(sessions_with_more_than_3_clicks_df[\"items_clicked\"]):\n",
    "    all_items_clicked.extend(items_clicked)\n",
    "    "
   ]
  },
  {
   "cell_type": "code",
   "execution_count": 10,
   "metadata": {},
   "outputs": [
    {
     "name": "stdout",
     "output_type": "stream",
     "text": [
      "Unique items clicked: [      0       1       2 ... 1855600 1855601 1855602]\n",
      "Products size: 1855438\n",
      "Unique counts items clicked: [43 33 16 ... 81 85 17]\n",
      "Min number of items clicked: 0\n",
      "Max number of items clicked: 1855602\n"
     ]
    }
   ],
   "source": [
    "all_items_clicked_array = np.array(all_items_clicked)\n",
    "unique, counts = np.unique(all_items_clicked_array, return_counts=True)\n",
    "\n",
    "print(f\"Unique items clicked: {unique}\")\n",
    "print(f\"Products size: {len(unique)}\")\n",
    "print(f\"Unique counts items clicked: {counts}\")\n",
    "print(f\"Min number of items clicked: {all_items_clicked_array.min()}\")\n",
    "print(f\"Max number of items clicked: {all_items_clicked_array.max()}\")"
   ]
  },
  {
   "cell_type": "code",
   "execution_count": 11,
   "metadata": {},
   "outputs": [],
   "source": [
    "# create dataframe with unique and counts\n",
    "import pandas as pd\n",
    "unique_counts_df = pd.DataFrame({\"item_id\": unique, \"count\": counts})"
   ]
  },
  {
   "cell_type": "code",
   "execution_count": 12,
   "metadata": {},
   "outputs": [],
   "source": [
    "# sort by count\n",
    "unique_counts_df.sort_values(by=\"count\", ascending=False)\n",
    "\n",
    "# 1000 most clicked items\n",
    "unique_counts_1000_df = unique_counts_df.head(1000)"
   ]
  },
  {
   "cell_type": "code",
   "execution_count": 13,
   "metadata": {},
   "outputs": [
    {
     "data": {
      "text/plain": [
       "<Axes: xlabel='count', ylabel='Count'>"
      ]
     },
     "execution_count": 13,
     "metadata": {},
     "output_type": "execute_result"
    },
    {
     "data": {
      "image/png": "[encoded data removed]",
      "text/plain": [
       "<Figure size 1600x400 with 1 Axes>"
      ]
     },
     "metadata": {},
     "output_type": "display_data"
    }
   ],
   "source": [
    "# create a histogram with the number of clicks per item\n",
    "plt.figure(figsize=(16, 4))\n",
    "sns.histplot(unique_counts_1000_df[\"count\"], color=\"blue\", bins=50)"
   ]
  },
  {
   "cell_type": "markdown",
   "metadata": {},
   "source": [
    "## Conclusões 📝\n",
    "\n",
    "* Podemos perceber que a distribuição de clicks por produto segue uma distribuição exponencial (enviesada).\n",
    "* Poucos produtos tem muitos clicks, enquanto a maioria dos produtos possuem poucos ou nenhum click.\n",
    "* De certa forma é um comportamento esperado uma vez que alguns produtos são muitos famosos, enquanto outros são produtos de nicho, ou muito específico. Exemplo: Iphone x Placa de vídeo para jogos."
   ]
  },
  {
   "cell_type": "markdown",
   "metadata": {},
   "source": [
    "# Conclusões Gerais 📝 \n",
    "\n",
    "* As distribuições tanto de número de eventos por sessão, mas mais importante número de eventos por produto seguem a distribuição exponencial enviesada.\n",
    "* A distribuição de ocorrências de eventos por produto segue a [lei de Zipf](https://en.wikipedia.org/wiki/Zipf's_law), lei empírica que afirma que `quando a lista de valores medidos é ordenado de forma decrescente o valor da *n*th entrada é inversamente proporcional à *n*`\n",
    "\n",
    "\n",
    "### Consequências para Aplicações do Modelo de Embedding:\n",
    "\n",
    "* A distribuição de ocorrência dos produtos por clicks se assemelha à distribuição de ocorrências de palavras em um texto seguindo a `lei de Zipf`\n",
    "* Assim como a ocorrência de palavras em um texto, a ocorrência de eventos de um produto em uma sessão também denotam um conjunto discreto de estados que co-ocorrem dado uma distribuição de probabilidade. Ambos, em seus diferentes domínios, representam um grupo de estados discretos e que co-ocorrem. Tal propriedade é a premissa para a aplicação do *embedding* *word2vec* que é uma técnica muito utilizada no campo de processamento de linguagem natural para vetorizar palavras considerando seu contexto (ordem a qual as palavras co-ocorrem). Por consequência, a aplicação dessa técnica de *embedding* para o domínio: Sistema de Recomendação por Sessão é apropriada. "
   ]
  }
 ],
 "metadata": {
  "kernelspec": {
   "display_name": ".venv",
   "language": "python",
   "name": "python3"
  },
  "language_info": {
   "codemirror_mode": {
    "name": "ipython",
    "version": 3
   },
   "file_extension": ".py",
   "mimetype": "text/x-python",
   "name": "python",
   "nbconvert_exporter": "python",
   "pygments_lexer": "ipython3",
   "version": "3.11.2"
  },
  "orig_nbformat": 4
 },
 "nbformat": 4,
 "nbformat_minor": 2
}
