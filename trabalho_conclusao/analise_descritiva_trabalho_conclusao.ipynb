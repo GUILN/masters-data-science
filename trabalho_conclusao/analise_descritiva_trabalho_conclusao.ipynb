{
 "cells": [
  {
   "cell_type": "markdown",
   "metadata": {},
   "source": [
    "# Análise Descritiva - Trabalho Conclusão de Curso - Otto Group Product Classification Challenge"
   ]
  },
  {
   "cell_type": "code",
   "execution_count": 48,
   "metadata": {},
   "outputs": [],
   "source": [
    "import polars as pl"
   ]
  },
  {
   "cell_type": "code",
   "execution_count": 49,
   "metadata": {},
   "outputs": [],
   "source": [
    "folder_with_data_to_load = \"data/transformed/train/\""
   ]
  },
  {
   "cell_type": "code",
   "execution_count": 50,
   "metadata": {},
   "outputs": [],
   "source": [
    "transformed_df = pl.read_parquet(\"data/transformed/train/otto-transformed-train-0.parquet\")\n",
    "\n",
    "# read and merge all data files\n",
    "for i in range(1, 49):\n",
    "    file_name = f\"otto-transformed-train-{i}.parquet\"\n",
    "    transformed_df = transformed_df.vstack(pl.read_parquet(folder_with_data_to_load + file_name))\n",
    "    "
   ]
  },
  {
   "cell_type": "code",
   "execution_count": 51,
   "metadata": {},
   "outputs": [
    {
     "data": {
      "text/plain": [
       "12641755"
      ]
     },
     "metadata": {},
     "output_type": "display_data"
    },
    {
     "data": {
      "text/html": [
       "<div><style>\n",
       ".dataframe > thead > tr > th,\n",
       ".dataframe > tbody > tr > td {\n",
       "  text-align: right;\n",
       "}\n",
       "</style>\n",
       "<small>shape: (5, 5)</small><table border=\"1\" class=\"dataframe\"><thead><tr><th>session</th><th>sorted_events</th><th>items_clicked</th><th>items_carted</th><th>items_ordered</th></tr><tr><td>i64</td><td>list[struct[3]]</td><td>list[i64]</td><td>list[i64]</td><td>list[i64]</td></tr></thead><tbody><tr><td>0</td><td>[{1517085,1659304800025,&quot;clicks&quot;}, {1563459,1659304904511,&quot;clicks&quot;}, … {161938,1661684983707,&quot;clicks&quot;}]</td><td>[1517085, 1563459, … 161938]</td><td>[1649869, 461689, … 315914]</td><td>[305831, 461689, … 543308]</td></tr><tr><td>1</td><td>[{424964,1659304800025,&quot;carts&quot;}, {1492293,1659304852871,&quot;clicks&quot;}, … {497868,1661714854992,&quot;clicks&quot;}]</td><td>[1492293, 910862, … 497868]</td><td>[424964, 1492293, … 105393]</td><td>[]</td></tr><tr><td>2</td><td>[{763743,1659304800038,&quot;clicks&quot;}, {137492,1659304866606,&quot;clicks&quot;}, … {672473,1661714215659,&quot;clicks&quot;}]</td><td>[763743, 137492, … 672473]</td><td>[161269]</td><td>[]</td></tr><tr><td>3</td><td>[{1425967,1659304800095,&quot;carts&quot;}, {1425967,1659304821062,&quot;clicks&quot;}, … {925352,1661109666771,&quot;carts&quot;}]</td><td>[1425967, 1343406, … 925352]</td><td>[1425967, 1343406, … 925352]</td><td>[357461, 1343406, … 54857]</td></tr><tr><td>4</td><td>[{613619,1659304800119,&quot;clicks&quot;}, {298827,1659304836708,&quot;clicks&quot;}, … {479396,1661586681303,&quot;clicks&quot;}]</td><td>[613619, 298827, … 479396]</td><td>[1554752, 917213, 758750]</td><td>[298827]</td></tr></tbody></table></div>"
      ],
      "text/plain": [
       "shape: (5, 5)\n",
       "┌─────────┬──────────────────────┬─────────────────────┬─────────────────────┬─────────────────────┐\n",
       "│ session ┆ sorted_events        ┆ items_clicked       ┆ items_carted        ┆ items_ordered       │\n",
       "│ ---     ┆ ---                  ┆ ---                 ┆ ---                 ┆ ---                 │\n",
       "│ i64     ┆ list[struct[3]]      ┆ list[i64]           ┆ list[i64]           ┆ list[i64]           │\n",
       "╞═════════╪══════════════════════╪═════════════════════╪═════════════════════╪═════════════════════╡\n",
       "│ 0       ┆ [{1517085,1659304800 ┆ [1517085, 1563459,  ┆ [1649869, 461689, … ┆ [305831, 461689, …  │\n",
       "│         ┆ 025,\"clicks\"…        ┆ … 161938]           ┆ 315914]             ┆ 543308]             │\n",
       "│ 1       ┆ [{424964,16593048000 ┆ [1492293, 910862, … ┆ [424964, 1492293, … ┆ []                  │\n",
       "│         ┆ 25,\"carts\"},…        ┆ 497868]             ┆ 105393]             ┆                     │\n",
       "│ 2       ┆ [{763743,16593048000 ┆ [763743, 137492, …  ┆ [161269]            ┆ []                  │\n",
       "│         ┆ 38,\"clicks\"}…        ┆ 672473]             ┆                     ┆                     │\n",
       "│ 3       ┆ [{1425967,1659304800 ┆ [1425967, 1343406,  ┆ [1425967, 1343406,  ┆ [357461, 1343406, … │\n",
       "│         ┆ 095,\"carts\"}…        ┆ … 925352]           ┆ … 925352]           ┆ 54857]              │\n",
       "│ 4       ┆ [{613619,16593048001 ┆ [613619, 298827, …  ┆ [1554752, 917213,   ┆ [298827]            │\n",
       "│         ┆ 19,\"clicks\"}…        ┆ 479396]             ┆ 758750]             ┆                     │\n",
       "└─────────┴──────────────────────┴─────────────────────┴─────────────────────┴─────────────────────┘"
      ]
     },
     "execution_count": 51,
     "metadata": {},
     "output_type": "execute_result"
    }
   ],
   "source": [
    "display(transformed_df.shape[0])\n",
    "transformed_df.head()"
   ]
  },
  {
   "cell_type": "code",
   "execution_count": 52,
   "metadata": {},
   "outputs": [],
   "source": [
    "transformed_df = transformed_df.with_columns(\n",
    "    items_clicked_count = transformed_df[\"items_clicked\"].apply(lambda s: len(s)),\n",
    "    items_carted_count = transformed_df[\"items_carted\"].apply(lambda s: len(s)),\n",
    "    items_ordered_count = transformed_df[\"items_ordered\"].apply(lambda s: len(s)),\n",
    ")\n"
   ]
  },
  {
   "cell_type": "code",
   "execution_count": 65,
   "metadata": {},
   "outputs": [
    {
     "data": {
      "text/plain": [
       "Text(0.5, 1.0, 'Items Ordered Distribution')"
      ]
     },
     "execution_count": 65,
     "metadata": {},
     "output_type": "execute_result"
    },
    {
     "data": {
      "image/png": "[encoded data removed]",
      "text/plain": [
       "<Figure size 1600x400 with 3 Axes>"
      ]
     },
     "metadata": {},
     "output_type": "display_data"
    }
   ],
   "source": [
    "import pandas as pd\n",
    "import matplotlib.pyplot as plt\n",
    "import seaborn as sns\n",
    "\n",
    "plt.figure(figsize=(16, 4))\n",
    "n_rows = 1 \n",
    "n_cols = 3 \n",
    "\n",
    "plt.subplot(n_rows, n_cols, 1)\n",
    "sns.histplot(transformed_df[\"items_clicked_count\"], color=\"blue\", bins=50)\n",
    "plt.title(f\"{'Items Clicked'} Distribution\")\n",
    "\n",
    "plt.subplot(n_rows, n_cols, 2)\n",
    "sns.histplot(transformed_df[\"items_carted_count\"], color=\"blue\", bins=50)\n",
    "plt.title(f\"{'Items Carted'} Distribution\")\n",
    "\n",
    "plt.subplot(n_rows, n_cols, 3)\n",
    "sns.histplot(transformed_df[\"items_ordered_count\"], color=\"blue\", bins=50)\n",
    "plt.title(f\"{'Items Ordered'} Distribution\")\n",
    "\n"
   ]
  },
  {
   "cell_type": "markdown",
   "metadata": {},
   "source": [
    "### Plotando as Distribuições"
   ]
  },
  {
   "cell_type": "code",
   "execution_count": 54,
   "metadata": {},
   "outputs": [
    {
     "data": {
      "text/html": [
       "<div><style>\n",
       ".dataframe > thead > tr > th,\n",
       ".dataframe > tbody > tr > td {\n",
       "  text-align: right;\n",
       "}\n",
       "</style>\n",
       "<small>shape: (5, 8)</small><table border=\"1\" class=\"dataframe\"><thead><tr><th>session</th><th>sorted_events</th><th>items_clicked</th><th>items_carted</th><th>items_ordered</th><th>items_clicked_count</th><th>items_carted_count</th><th>items_ordered_count</th></tr><tr><td>i64</td><td>list[struct[3]]</td><td>list[i64]</td><td>list[i64]</td><td>list[i64]</td><td>i64</td><td>i64</td><td>i64</td></tr></thead><tbody><tr><td>0</td><td>[{1517085,1659304800025,&quot;clicks&quot;}, {1563459,1659304904511,&quot;clicks&quot;}, … {161938,1661684983707,&quot;clicks&quot;}]</td><td>[1517085, 1563459, … 161938]</td><td>[1649869, 461689, … 315914]</td><td>[305831, 461689, … 543308]</td><td>255</td><td>17</td><td>4</td></tr><tr><td>1</td><td>[{424964,1659304800025,&quot;carts&quot;}, {1492293,1659304852871,&quot;clicks&quot;}, … {497868,1661714854992,&quot;clicks&quot;}]</td><td>[1492293, 910862, … 497868]</td><td>[424964, 1492293, … 105393]</td><td>[]</td><td>24</td><td>8</td><td>0</td></tr><tr><td>2</td><td>[{763743,1659304800038,&quot;clicks&quot;}, {137492,1659304866606,&quot;clicks&quot;}, … {672473,1661714215659,&quot;clicks&quot;}]</td><td>[763743, 137492, … 672473]</td><td>[161269]</td><td>[]</td><td>32</td><td>1</td><td>0</td></tr><tr><td>3</td><td>[{1425967,1659304800095,&quot;carts&quot;}, {1425967,1659304821062,&quot;clicks&quot;}, … {925352,1661109666771,&quot;carts&quot;}]</td><td>[1425967, 1343406, … 925352]</td><td>[1425967, 1343406, … 925352]</td><td>[357461, 1343406, … 54857]</td><td>200</td><td>21</td><td>5</td></tr><tr><td>4</td><td>[{613619,1659304800119,&quot;clicks&quot;}, {298827,1659304836708,&quot;clicks&quot;}, … {479396,1661586681303,&quot;clicks&quot;}]</td><td>[613619, 298827, … 479396]</td><td>[1554752, 917213, 758750]</td><td>[298827]</td><td>15</td><td>3</td><td>1</td></tr></tbody></table></div>"
      ],
      "text/plain": [
       "shape: (5, 8)\n",
       "┌─────────┬────────────┬────────────┬────────────┬────────────┬────────────┬───────────┬───────────┐\n",
       "│ session ┆ sorted_eve ┆ items_clic ┆ items_cart ┆ items_orde ┆ items_clic ┆ items_car ┆ items_ord │\n",
       "│ ---     ┆ nts        ┆ ked        ┆ ed         ┆ red        ┆ ked_count  ┆ ted_count ┆ ered_coun │\n",
       "│ i64     ┆ ---        ┆ ---        ┆ ---        ┆ ---        ┆ ---        ┆ ---       ┆ t         │\n",
       "│         ┆ list[struc ┆ list[i64]  ┆ list[i64]  ┆ list[i64]  ┆ i64        ┆ i64       ┆ ---       │\n",
       "│         ┆ t[3]]      ┆            ┆            ┆            ┆            ┆           ┆ i64       │\n",
       "╞═════════╪════════════╪════════════╪════════════╪════════════╪════════════╪═══════════╪═══════════╡\n",
       "│ 0       ┆ [{1517085, ┆ [1517085,  ┆ [1649869,  ┆ [305831,   ┆ 255        ┆ 17        ┆ 4         │\n",
       "│         ┆ 1659304800 ┆ 1563459, … ┆ 461689, …  ┆ 461689, …  ┆            ┆           ┆           │\n",
       "│         ┆ 025,\"click ┆ 161938]    ┆ 315914]    ┆ 543308]    ┆            ┆           ┆           │\n",
       "│         ┆ s\"…        ┆            ┆            ┆            ┆            ┆           ┆           │\n",
       "│ 1       ┆ [{424964,1 ┆ [1492293,  ┆ [424964,   ┆ []         ┆ 24         ┆ 8         ┆ 0         │\n",
       "│         ┆ 6593048000 ┆ 910862, …  ┆ 1492293, … ┆            ┆            ┆           ┆           │\n",
       "│         ┆ 25,\"carts\" ┆ 497868]    ┆ 105393]    ┆            ┆            ┆           ┆           │\n",
       "│         ┆ },…        ┆            ┆            ┆            ┆            ┆           ┆           │\n",
       "│ 2       ┆ [{763743,1 ┆ [763743,   ┆ [161269]   ┆ []         ┆ 32         ┆ 1         ┆ 0         │\n",
       "│         ┆ 6593048000 ┆ 137492, …  ┆            ┆            ┆            ┆           ┆           │\n",
       "│         ┆ 38,\"clicks ┆ 672473]    ┆            ┆            ┆            ┆           ┆           │\n",
       "│         ┆ \"}…        ┆            ┆            ┆            ┆            ┆           ┆           │\n",
       "│ 3       ┆ [{1425967, ┆ [1425967,  ┆ [1425967,  ┆ [357461,   ┆ 200        ┆ 21        ┆ 5         │\n",
       "│         ┆ 1659304800 ┆ 1343406, … ┆ 1343406, … ┆ 1343406, … ┆            ┆           ┆           │\n",
       "│         ┆ 095,\"carts ┆ 925352]    ┆ 925352]    ┆ 54857]     ┆            ┆           ┆           │\n",
       "│         ┆ \"}…        ┆            ┆            ┆            ┆            ┆           ┆           │\n",
       "│ 4       ┆ [{613619,1 ┆ [613619,   ┆ [1554752,  ┆ [298827]   ┆ 15         ┆ 3         ┆ 1         │\n",
       "│         ┆ 6593048001 ┆ 298827, …  ┆ 917213,    ┆            ┆            ┆           ┆           │\n",
       "│         ┆ 19,\"clicks ┆ 479396]    ┆ 758750]    ┆            ┆            ┆           ┆           │\n",
       "│         ┆ \"}…        ┆            ┆            ┆            ┆            ┆           ┆           │\n",
       "└─────────┴────────────┴────────────┴────────────┴────────────┴────────────┴───────────┴───────────┘"
      ]
     },
     "execution_count": 54,
     "metadata": {},
     "output_type": "execute_result"
    }
   ],
   "source": [
    "transformed_df.head()"
   ]
  },
  {
   "cell_type": "code",
   "execution_count": 55,
   "metadata": {},
   "outputs": [
    {
     "ename": "TypeError",
     "evalue": "DataFrame.apply() got an unexpected keyword argument 'axis'",
     "output_type": "error",
     "traceback": [
      "\u001b[0;31m---------------------------------------------------------------------------\u001b[0m",
      "\u001b[0;31mTypeError\u001b[0m                                 Traceback (most recent call last)",
      "Cell \u001b[0;32mIn[55], line 4\u001b[0m\n\u001b[1;32m      1\u001b[0m \u001b[39mfrom\u001b[39;00m \u001b[39metl\u001b[39;00m\u001b[39m.\u001b[39;00m\u001b[39motto_dataset_etl\u001b[39;00m  \u001b[39mimport\u001b[39;00m OttoDatasetEtl\n\u001b[1;32m      3\u001b[0m otto_dataset_etl \u001b[39m=\u001b[39m OttoDatasetEtl(transformed_df)\n\u001b[0;32m----> 4\u001b[0m otto_dataset_etl\u001b[39m.\u001b[39;49mtransform(drop_original_events\u001b[39m=\u001b[39;49m\u001b[39mTrue\u001b[39;49;00m)\n\u001b[1;32m      6\u001b[0m otto_dataset_etl\u001b[39m.\u001b[39mdataset\u001b[39m.\u001b[39mhead()\n",
      "File \u001b[0;32m~/temp/masters-data-science/trabalho_conclusao/etl/otto_dataset_etl.py:67\u001b[0m, in \u001b[0;36mOttoDatasetEtl.transform\u001b[0;34m(self, drop_original_events)\u001b[0m\n\u001b[1;32m     50\u001b[0m \u001b[39mdef\u001b[39;00m \u001b[39mtransform\u001b[39m(\u001b[39mself\u001b[39m, drop_original_events: \u001b[39mbool\u001b[39m \u001b[39m=\u001b[39m \u001b[39mTrue\u001b[39;00m) \u001b[39m-\u001b[39m\u001b[39m>\u001b[39m \u001b[39mNone\u001b[39;00m:\n\u001b[1;32m     51\u001b[0m \u001b[39m    \u001b[39m\u001b[39m\"\"\"\u001b[39;00m\n\u001b[1;32m     52\u001b[0m \u001b[39m    Transform the original dataset into a dataset that can be used by the\u001b[39;00m\n\u001b[1;32m     53\u001b[0m \u001b[39m    models.\u001b[39;00m\n\u001b[0;32m   (...)\u001b[0m\n\u001b[1;32m     65\u001b[0m \u001b[39m    * Create one column for each event type\u001b[39;00m\n\u001b[1;32m     66\u001b[0m \u001b[39m    \"\"\"\u001b[39;00m\n\u001b[0;32m---> 67\u001b[0m     \u001b[39mself\u001b[39;49m\u001b[39m.\u001b[39;49m_sort()\n\u001b[1;32m     68\u001b[0m     \u001b[39mself\u001b[39m\u001b[39m.\u001b[39m_create_list_of_events()\n\u001b[1;32m     69\u001b[0m     \u001b[39mif\u001b[39;00m drop_original_events:\n",
      "File \u001b[0;32m~/temp/masters-data-science/trabalho_conclusao/etl/otto_dataset_etl.py:73\u001b[0m, in \u001b[0;36mOttoDatasetEtl._sort\u001b[0;34m(self)\u001b[0m\n\u001b[1;32m     72\u001b[0m \u001b[39mdef\u001b[39;00m \u001b[39m_sort\u001b[39m(\u001b[39mself\u001b[39m) \u001b[39m-\u001b[39m\u001b[39m>\u001b[39m \u001b[39mNone\u001b[39;00m:\n\u001b[0;32m---> 73\u001b[0m     \u001b[39mself\u001b[39m\u001b[39m.\u001b[39m_original_dataset[\u001b[39m\"\u001b[39m\u001b[39msorted_events\u001b[39m\u001b[39m\"\u001b[39m] \u001b[39m=\u001b[39m \u001b[39mself\u001b[39;49m\u001b[39m.\u001b[39;49m_original_dataset\u001b[39m.\u001b[39;49mapply(\n\u001b[1;32m     74\u001b[0m         sort_events, axis\u001b[39m=\u001b[39;49m\u001b[39m\"\u001b[39;49m\u001b[39mcolumns\u001b[39;49m\u001b[39m\"\u001b[39;49m\n\u001b[1;32m     75\u001b[0m     )\n",
      "\u001b[0;31mTypeError\u001b[0m: DataFrame.apply() got an unexpected keyword argument 'axis'"
     ]
    }
   ],
   "source": [
    "from etl.otto_dataset_etl  import OttoDatasetEtl\n",
    "\n",
    "otto_dataset_etl = OttoDatasetEtl(transformed_df)\n",
    "otto_dataset_etl.transform(drop_original_events=True)\n",
    "\n",
    "otto_dataset_etl.dataset.head()"
   ]
  }
 ],
 "metadata": {
  "kernelspec": {
   "display_name": ".venv",
   "language": "python",
   "name": "python3"
  },
  "language_info": {
   "codemirror_mode": {
    "name": "ipython",
    "version": 3
   },
   "file_extension": ".py",
   "mimetype": "text/x-python",
   "name": "python",
   "nbconvert_exporter": "python",
   "pygments_lexer": "ipython3",
   "version": "3.11.2"
  },
  "orig_nbformat": 4
 },
 "nbformat": 4,
 "nbformat_minor": 2
}
